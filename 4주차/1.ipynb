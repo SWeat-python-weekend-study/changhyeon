{
  "nbformat": 4,
  "nbformat_minor": 0,
  "metadata": {
    "colab": {
      "name": "Untitled1.ipynb",
      "provenance": [],
      "authorship_tag": "ABX9TyNJ/2cW9n8CGIALn6wbMfXm",
      "include_colab_link": true
    },
    "kernelspec": {
      "name": "python3",
      "display_name": "Python 3"
    }
  },
  "cells": [
    {
      "cell_type": "markdown",
      "metadata": {
        "id": "view-in-github",
        "colab_type": "text"
      },
      "source": [
        "<a href=\"https://colab.research.google.com/github/SWeat-python-weekend-study/changhyeon/blob/main/4%EC%A3%BC%EC%B0%A8/1.ipynb\" target=\"_parent\"><img src=\"https://colab.research.google.com/assets/colab-badge.svg\" alt=\"Open In Colab\"/></a>"
      ]
    },
    {
      "cell_type": "code",
      "metadata": {
        "colab": {
          "base_uri": "https://localhost:8080/"
        },
        "id": "M-4l6hqH91TR",
        "outputId": "1ed0dddf-40a5-45bc-81bb-f628d1a2714e"
      },
      "source": [
        "ls"
      ],
      "execution_count": 1,
      "outputs": [
        {
          "output_type": "stream",
          "text": [
            "\u001b[0m\u001b[01;34msample_data\u001b[0m/\n"
          ],
          "name": "stdout"
        }
      ]
    },
    {
      "cell_type": "code",
      "metadata": {
        "colab": {
          "base_uri": "https://localhost:8080/"
        },
        "id": "uTsb_uSz-KfL",
        "outputId": "a7399fde-d494-4783-e729-804345534d65"
      },
      "source": [
        "cd sample_data"
      ],
      "execution_count": 2,
      "outputs": [
        {
          "output_type": "stream",
          "text": [
            "/content/sample_data\n"
          ],
          "name": "stdout"
        }
      ]
    },
    {
      "cell_type": "code",
      "metadata": {
        "colab": {
          "base_uri": "https://localhost:8080/"
        },
        "id": "Vtd9vHSj-NsW",
        "outputId": "54547655-ce53-4999-8580-b612717f43d5"
      },
      "source": [
        "ls"
      ],
      "execution_count": 3,
      "outputs": [
        {
          "output_type": "stream",
          "text": [
            "\u001b[0m\u001b[01;32manscombe.json\u001b[0m*                mnist_test.csv         trns_1day_series\n",
            "california_housing_test.csv   mnist_train_small.csv\n",
            "california_housing_train.csv  \u001b[01;32mREADME.md\u001b[0m*\n"
          ],
          "name": "stdout"
        }
      ]
    },
    {
      "cell_type": "code",
      "metadata": {
        "colab": {
          "base_uri": "https://localhost:8080/",
          "height": 198
        },
        "id": "UZrGmPfV-RAE",
        "outputId": "22158e00-8ca5-4827-972a-0d292c6b0add"
      },
      "source": [
        "import pandas as pd\r\n",
        "\r\n",
        "df = pd.read_csv('trns_1day_series')\r\n",
        "df.head()"
      ],
      "execution_count": 5,
      "outputs": [
        {
          "output_type": "execute_result",
          "data": {
            "text/html": [
              "<div>\n",
              "<style scoped>\n",
              "    .dataframe tbody tr th:only-of-type {\n",
              "        vertical-align: middle;\n",
              "    }\n",
              "\n",
              "    .dataframe tbody tr th {\n",
              "        vertical-align: top;\n",
              "    }\n",
              "\n",
              "    .dataframe thead th {\n",
              "        text-align: right;\n",
              "    }\n",
              "</style>\n",
              "<table border=\"1\" class=\"dataframe\">\n",
              "  <thead>\n",
              "    <tr style=\"text-align: right;\">\n",
              "      <th></th>\n",
              "      <th>SEND</th>\n",
              "      <th>RECV</th>\n",
              "      <th>APPROVAL</th>\n",
              "      <th>REJECT</th>\n",
              "    </tr>\n",
              "  </thead>\n",
              "  <tbody>\n",
              "    <tr>\n",
              "      <th>0</th>\n",
              "      <td>4779</td>\n",
              "      <td>5045</td>\n",
              "      <td>4024</td>\n",
              "      <td>755</td>\n",
              "    </tr>\n",
              "    <tr>\n",
              "      <th>1</th>\n",
              "      <td>5103</td>\n",
              "      <td>5055</td>\n",
              "      <td>4196</td>\n",
              "      <td>907</td>\n",
              "    </tr>\n",
              "    <tr>\n",
              "      <th>2</th>\n",
              "      <td>5035</td>\n",
              "      <td>5073</td>\n",
              "      <td>4653</td>\n",
              "      <td>382</td>\n",
              "    </tr>\n",
              "    <tr>\n",
              "      <th>3</th>\n",
              "      <td>4757</td>\n",
              "      <td>4762</td>\n",
              "      <td>4530</td>\n",
              "      <td>227</td>\n",
              "    </tr>\n",
              "    <tr>\n",
              "      <th>4</th>\n",
              "      <td>4639</td>\n",
              "      <td>4664</td>\n",
              "      <td>4425</td>\n",
              "      <td>214</td>\n",
              "    </tr>\n",
              "  </tbody>\n",
              "</table>\n",
              "</div>"
            ],
            "text/plain": [
              "   SEND  RECV  APPROVAL  REJECT\n",
              "0  4779  5045      4024     755\n",
              "1  5103  5055      4196     907\n",
              "2  5035  5073      4653     382\n",
              "3  4757  4762      4530     227\n",
              "4  4639  4664      4425     214"
            ]
          },
          "metadata": {
            "tags": []
          },
          "execution_count": 5
        }
      ]
    },
    {
      "cell_type": "code",
      "metadata": {
        "colab": {
          "base_uri": "https://localhost:8080/",
          "height": 228
        },
        "id": "CGuQU2zt-Vqk",
        "outputId": "48edfa26-332c-4bde-892a-ec99808fa267"
      },
      "source": [
        "df['TIME'] = pd.date_range('00:00', '23:59', freq='1min')\r\n",
        "df = df.set_index('TIME')\r\n",
        "df.head()"
      ],
      "execution_count": 9,
      "outputs": [
        {
          "output_type": "execute_result",
          "data": {
            "text/html": [
              "<div>\n",
              "<style scoped>\n",
              "    .dataframe tbody tr th:only-of-type {\n",
              "        vertical-align: middle;\n",
              "    }\n",
              "\n",
              "    .dataframe tbody tr th {\n",
              "        vertical-align: top;\n",
              "    }\n",
              "\n",
              "    .dataframe thead th {\n",
              "        text-align: right;\n",
              "    }\n",
              "</style>\n",
              "<table border=\"1\" class=\"dataframe\">\n",
              "  <thead>\n",
              "    <tr style=\"text-align: right;\">\n",
              "      <th></th>\n",
              "      <th>SEND</th>\n",
              "      <th>RECV</th>\n",
              "      <th>APPROVAL</th>\n",
              "      <th>REJECT</th>\n",
              "    </tr>\n",
              "    <tr>\n",
              "      <th>TIME</th>\n",
              "      <th></th>\n",
              "      <th></th>\n",
              "      <th></th>\n",
              "      <th></th>\n",
              "    </tr>\n",
              "  </thead>\n",
              "  <tbody>\n",
              "    <tr>\n",
              "      <th>2021-03-07 00:00:00</th>\n",
              "      <td>4779</td>\n",
              "      <td>5045</td>\n",
              "      <td>4024</td>\n",
              "      <td>755</td>\n",
              "    </tr>\n",
              "    <tr>\n",
              "      <th>2021-03-07 00:01:00</th>\n",
              "      <td>5103</td>\n",
              "      <td>5055</td>\n",
              "      <td>4196</td>\n",
              "      <td>907</td>\n",
              "    </tr>\n",
              "    <tr>\n",
              "      <th>2021-03-07 00:02:00</th>\n",
              "      <td>5035</td>\n",
              "      <td>5073</td>\n",
              "      <td>4653</td>\n",
              "      <td>382</td>\n",
              "    </tr>\n",
              "    <tr>\n",
              "      <th>2021-03-07 00:03:00</th>\n",
              "      <td>4757</td>\n",
              "      <td>4762</td>\n",
              "      <td>4530</td>\n",
              "      <td>227</td>\n",
              "    </tr>\n",
              "    <tr>\n",
              "      <th>2021-03-07 00:04:00</th>\n",
              "      <td>4639</td>\n",
              "      <td>4664</td>\n",
              "      <td>4425</td>\n",
              "      <td>214</td>\n",
              "    </tr>\n",
              "  </tbody>\n",
              "</table>\n",
              "</div>"
            ],
            "text/plain": [
              "                     SEND  RECV  APPROVAL  REJECT\n",
              "TIME                                             \n",
              "2021-03-07 00:00:00  4779  5045      4024     755\n",
              "2021-03-07 00:01:00  5103  5055      4196     907\n",
              "2021-03-07 00:02:00  5035  5073      4653     382\n",
              "2021-03-07 00:03:00  4757  4762      4530     227\n",
              "2021-03-07 00:04:00  4639  4664      4425     214"
            ]
          },
          "metadata": {
            "tags": []
          },
          "execution_count": 9
        }
      ]
    },
    {
      "cell_type": "code",
      "metadata": {
        "colab": {
          "base_uri": "https://localhost:8080/",
          "height": 310
        },
        "id": "WmesgkB3-mpi",
        "outputId": "d2cdbabd-163a-45ad-daa4-79fd3c00486f"
      },
      "source": [
        "import numpy as np\r\n",
        "\r\n",
        "df['GAP'] = np.abs ( df.SEND - df.RECV )\r\n",
        "df.plot(y='GAP')"
      ],
      "execution_count": 11,
      "outputs": [
        {
          "output_type": "execute_result",
          "data": {
            "text/plain": [
              "<matplotlib.axes._subplots.AxesSubplot at 0x7ff2a2547190>"
            ]
          },
          "metadata": {
            "tags": []
          },
          "execution_count": 11
        },
        {
          "output_type": "display_data",
          "data": {
            "image/png": "[encoded data removed]",
            "text/plain": [
              "<Figure size 432x288 with 1 Axes>"
            ]
          },
          "metadata": {
            "tags": [],
            "needs_background": "light"
          }
        }
      ]
    },
    {
      "cell_type": "code",
      "metadata": {
        "colab": {
          "base_uri": "https://localhost:8080/",
          "height": 310
        },
        "id": "zbKaxfDE-pV1",
        "outputId": "c257582d-81fa-42f5-ae0f-7ea2bc74a830"
      },
      "source": [
        "df['REJECT_AVG'] = df.REJECT / (df.APPROVAL + df.REJECT) * 100\r\n",
        "df.plot(y='REJECT_AVG')"
      ],
      "execution_count": 12,
      "outputs": [
        {
          "output_type": "execute_result",
          "data": {
            "text/plain": [
              "<matplotlib.axes._subplots.AxesSubplot at 0x7ff2a246ead0>"
            ]
          },
          "metadata": {
            "tags": []
          },
          "execution_count": 12
        },
        {
          "output_type": "display_data",
          "data": {
            "image/png": "[encoded data removed]",
            "text/plain": [
              "<Figure size 432x288 with 1 Axes>"
            ]
          },
          "metadata": {
            "tags": [],
            "needs_background": "light"
          }
        }
      ]
    },
    {
      "cell_type": "code",
      "metadata": {
        "colab": {
          "base_uri": "https://localhost:8080/",
          "height": 310
        },
        "id": "Cs4qSLsg-vH4",
        "outputId": "3f920823-3319-4570-a53b-b3c4c8f0a7ae"
      },
      "source": [
        "fp = np.polyfit( np.arange(0, len(df)), np.array(df.APPROVAL), 8) # 8차 다항식 계수 추출\r\n",
        "fd = np.poly1d(fp) # 다항식 함수 생성\r\n",
        "df['REGRESSION'] = fd( np.arange(0, len(df)) ) # 회귀분석 데이터\r\n",
        "df.plot(y=['APPROVAL','REGRESSION'])"
      ],
      "execution_count": 13,
      "outputs": [
        {
          "output_type": "execute_result",
          "data": {
            "text/plain": [
              "<matplotlib.axes._subplots.AxesSubplot at 0x7ff2a1ef0d50>"
            ]
          },
          "metadata": {
            "tags": []
          },
          "execution_count": 13
        },
        {
          "output_type": "display_data",
          "data": {
            "image/png": "[encoded data removed]",
            "text/plain": [
              "<Figure size 432x288 with 1 Axes>"
            ]
          },
          "metadata": {
            "tags": [],
            "needs_background": "light"
          }
        }
      ]
    },
    {
      "cell_type": "code",
      "metadata": {
        "colab": {
          "base_uri": "https://localhost:8080/"
        },
        "id": "kLUhDdy6-9SF",
        "outputId": "62425ba8-47c8-46d4-c1cf-0c16fcc7d575"
      },
      "source": [
        "((df.APPROVAL - df.REGRESSION) **2).sum() / 1440\r\n",
        "((df.APPROVAL - df.REGRESSION) **2).mean()\r\n",
        "mse = ((df.APPROVAL - df.REGRESSION) **2).mean()\r\n",
        "rmse = np.sqrt(mse)\r\n",
        "rmse, mse"
      ],
      "execution_count": 14,
      "outputs": [
        {
          "output_type": "execute_result",
          "data": {
            "text/plain": [
              "(1513.0345444703341, 2289273.5327605517)"
            ]
          },
          "metadata": {
            "tags": []
          },
          "execution_count": 14
        }
      ]
    },
    {
      "cell_type": "code",
      "metadata": {
        "colab": {
          "base_uri": "https://localhost:8080/"
        },
        "id": "Y1yTPJ3z_Din",
        "outputId": "6ac8e977-3d4c-4afc-ddba-7e38020eb214"
      },
      "source": [
        "hh_list = np.array( df.APPROVAL ).reshape(24, 60)\r\n",
        "hh_list.shape"
      ],
      "execution_count": 15,
      "outputs": [
        {
          "output_type": "execute_result",
          "data": {
            "text/plain": [
              "(24, 60)"
            ]
          },
          "metadata": {
            "tags": []
          },
          "execution_count": 15
        }
      ]
    },
    {
      "cell_type": "code",
      "metadata": {
        "colab": {
          "base_uri": "https://localhost:8080/",
          "height": 312
        },
        "id": "7xfFfTpu_LU-",
        "outputId": "f7f7ea6f-6e71-41fc-831a-8d24cfd4aaf7"
      },
      "source": [
        "reg_list = []\r\n",
        "for mm_list in hh_list: # 2차원 배열 리스트에 대한 배열 리스트 추출\r\n",
        "  x = np.arange(0, 60) # [0,...,59] 60개짜리 X축 배열 생성\r\n",
        "  y = mm_list # 60개짜리 실측값 Y축 배열 생성\r\n",
        "  fp = np.polyfit(x, y, 4) # 4차 다항식 계수 연산\r\n",
        "  fn = np.poly1d(fp) # 1차원 다항 함수 생성\r\n",
        "  reg_list.append(fn(x)) # 다항함수에 의한 회귀분석 데이터 생성\r\n",
        "\r\n",
        "df['REGRESSION_H'] = np.array(reg_list).flatten()\r\n",
        "df.plot(y=['REGRESSION', 'REGRESSION_H'])"
      ],
      "execution_count": 18,
      "outputs": [
        {
          "output_type": "execute_result",
          "data": {
            "text/plain": [
              "<matplotlib.axes._subplots.AxesSubplot at 0x7ff299653790>"
            ]
          },
          "metadata": {
            "tags": []
          },
          "execution_count": 18
        },
        {
          "output_type": "display_data",
          "data": {
            "image/png": "[encoded data removed]",
            "text/plain": [
              "<Figure size 432x288 with 1 Axes>"
            ]
          },
          "metadata": {
            "tags": [],
            "needs_background": "light"
          }
        }
      ]
    },
    {
      "cell_type": "code",
      "metadata": {
        "colab": {
          "base_uri": "https://localhost:8080/"
        },
        "id": "hb2CAOmv_hhG",
        "outputId": "0fa59e18-f953-49d5-b8f2-79735adb2861"
      },
      "source": [
        "ls"
      ],
      "execution_count": 20,
      "outputs": [
        {
          "output_type": "stream",
          "text": [
            "\u001b[0m\u001b[01;32manscombe.json\u001b[0m*                mnist_train_small.csv  trns_msg_info\n",
            "california_housing_test.csv   \u001b[01;32mREADME.md\u001b[0m*             trns_msg_log\n",
            "california_housing_train.csv  trns_1day_series       trns_msg_resp_code_info\n",
            "mnist_test.csv                trns_firm_info\n"
          ],
          "name": "stdout"
        }
      ]
    },
    {
      "cell_type": "code",
      "metadata": {
        "id": "Dk6d1ETI_0NG"
      },
      "source": [
        "log_df = pd.read_csv('trns_msg_log', sep=':', dtype=str)\r\n",
        "msg_df = pd.read_csv('trns_msg_info', dtype=str)\r\n",
        "firm_df = pd.read_csv('trns_firm_info', dtype=str)\r\n",
        "resp_df = pd.read_csv('trns_msg_resp_code_info', dtype=str)"
      ],
      "execution_count": 22,
      "outputs": []
    },
    {
      "cell_type": "code",
      "metadata": {
        "colab": {
          "base_uri": "https://localhost:8080/",
          "height": 305
        },
        "id": "bEh9HyoE_9jG",
        "outputId": "553a4dab-40f1-4c81-d2b7-271abdcb4626"
      },
      "source": [
        "tf1 = pd.merge(log_df, msg_df, on=['MSG_CODE'], how='left') # 전문번호 정보 병합\r\n",
        "tf2 = pd.merge(tf1 , firm_df, on=['FIRM_CODE'], how='left') # 기관코드 정보 병합\r\n",
        "tf3 = pd.merge(tf2 , resp_df, on=['RESP_CODE'], how='left') # 응답코드\r\n",
        "tf3.loc[tf3.TRNS == '1', 'TRNS'] = 'SEND' # tf3.TRNS=='1'인 열들을 모두 선택 후 TRNS 칼럼 값으로 'SEND'\r\n",
        "tf3.loc[tf3.TRNS == '2', 'TRNS'] = 'RECV'\r\n",
        "\r\n",
        "tf3.head()"
      ],
      "execution_count": 25,
      "outputs": [
        {
          "output_type": "execute_result",
          "data": {
            "text/html": [
              "<div>\n",
              "<style scoped>\n",
              "    .dataframe tbody tr th:only-of-type {\n",
              "        vertical-align: middle;\n",
              "    }\n",
              "\n",
              "    .dataframe tbody tr th {\n",
              "        vertical-align: top;\n",
              "    }\n",
              "\n",
              "    .dataframe thead th {\n",
              "        text-align: right;\n",
              "    }\n",
              "</style>\n",
              "<table border=\"1\" class=\"dataframe\">\n",
              "  <thead>\n",
              "    <tr style=\"text-align: right;\">\n",
              "      <th></th>\n",
              "      <th>TRNS</th>\n",
              "      <th>MSG_CODE</th>\n",
              "      <th>TIME</th>\n",
              "      <th>RESP_CODE</th>\n",
              "      <th>FIRM_CODE</th>\n",
              "      <th>SEQ</th>\n",
              "      <th>MSG_NAME</th>\n",
              "      <th>FIRM_NAME</th>\n",
              "      <th>RESP_NAME</th>\n",
              "    </tr>\n",
              "  </thead>\n",
              "  <tbody>\n",
              "    <tr>\n",
              "      <th>0</th>\n",
              "      <td>SEND</td>\n",
              "      <td>0100</td>\n",
              "      <td>133000</td>\n",
              "      <td></td>\n",
              "      <td>03</td>\n",
              "      <td>2e65c202e525e90e1d95</td>\n",
              "      <td>MS승인요청</td>\n",
              "      <td>IBK기업은행</td>\n",
              "      <td>NaN</td>\n",
              "    </tr>\n",
              "    <tr>\n",
              "      <th>1</th>\n",
              "      <td>SEND</td>\n",
              "      <td>0300</td>\n",
              "      <td>133000</td>\n",
              "      <td></td>\n",
              "      <td>48</td>\n",
              "      <td>802407d045fa5d1a8287</td>\n",
              "      <td>IC승인 요청</td>\n",
              "      <td>새마을금고</td>\n",
              "      <td>NaN</td>\n",
              "    </tr>\n",
              "    <tr>\n",
              "      <th>2</th>\n",
              "      <td>SEND</td>\n",
              "      <td>0200</td>\n",
              "      <td>133000</td>\n",
              "      <td></td>\n",
              "      <td>03</td>\n",
              "      <td>a1d3e524e4751b450a20</td>\n",
              "      <td>현금서비스 요청</td>\n",
              "      <td>IBK기업은행</td>\n",
              "      <td>NaN</td>\n",
              "    </tr>\n",
              "    <tr>\n",
              "      <th>3</th>\n",
              "      <td>SEND</td>\n",
              "      <td>0200</td>\n",
              "      <td>133000</td>\n",
              "      <td></td>\n",
              "      <td>11</td>\n",
              "      <td>ed976e8de9708d167a64</td>\n",
              "      <td>현금서비스 요청</td>\n",
              "      <td>NH농협은행</td>\n",
              "      <td>NaN</td>\n",
              "    </tr>\n",
              "    <tr>\n",
              "      <th>4</th>\n",
              "      <td>SEND</td>\n",
              "      <td>9300</td>\n",
              "      <td>133000</td>\n",
              "      <td></td>\n",
              "      <td>03</td>\n",
              "      <td>b7a878a4ff5d3076dd4b</td>\n",
              "      <td>기타승인 요청</td>\n",
              "      <td>IBK기업은행</td>\n",
              "      <td>NaN</td>\n",
              "    </tr>\n",
              "  </tbody>\n",
              "</table>\n",
              "</div>"
            ],
            "text/plain": [
              "   TRNS MSG_CODE    TIME  ...  MSG_NAME FIRM_NAME RESP_NAME\n",
              "0  SEND     0100  133000  ...    MS승인요청   IBK기업은행       NaN\n",
              "1  SEND     0300  133000  ...   IC승인 요청     새마을금고       NaN\n",
              "2  SEND     0200  133000  ...  현금서비스 요청   IBK기업은행       NaN\n",
              "3  SEND     0200  133000  ...  현금서비스 요청    NH농협은행       NaN\n",
              "4  SEND     9300  133000  ...   기타승인 요청   IBK기업은행       NaN\n",
              "\n",
              "[5 rows x 9 columns]"
            ]
          },
          "metadata": {
            "tags": []
          },
          "execution_count": 25
        }
      ]
    },
    {
      "cell_type": "code",
      "metadata": {
        "colab": {
          "base_uri": "https://localhost:8080/",
          "height": 408
        },
        "id": "z802DmV0AEJF",
        "outputId": "22dc358f-3549-4b97-ad23-40254e4d28d0"
      },
      "source": [
        "send_df = log_df[log_df.TRNS=='1']\r\n",
        "recv_df = log_df[log_df.TRNS =='2']\r\n",
        "tf = pd.merge(send_df, recv_df, on=['FIRM_CODE', 'SEQ'], how='outer')\r\n",
        "tf = tf [['SEQ', 'FIRM_CODE', 'MSG_CODE_x', 'TIME_x', 'TIME_y','RESP_CODE_y']]\r\n",
        "tf = tf.rename(columns={'MSG_CODE_x':'MSG_CODE', 'TIME_x':'SEND_TIME', 'TIME_y':'RECV_TIME','RESP_CODE_y':'RESP_CODE'})\r\n",
        "tf"
      ],
      "execution_count": 27,
      "outputs": [
        {
          "output_type": "execute_result",
          "data": {
            "text/html": [
              "<div>\n",
              "<style scoped>\n",
              "    .dataframe tbody tr th:only-of-type {\n",
              "        vertical-align: middle;\n",
              "    }\n",
              "\n",
              "    .dataframe tbody tr th {\n",
              "        vertical-align: top;\n",
              "    }\n",
              "\n",
              "    .dataframe thead th {\n",
              "        text-align: right;\n",
              "    }\n",
              "</style>\n",
              "<table border=\"1\" class=\"dataframe\">\n",
              "  <thead>\n",
              "    <tr style=\"text-align: right;\">\n",
              "      <th></th>\n",
              "      <th>SEQ</th>\n",
              "      <th>FIRM_CODE</th>\n",
              "      <th>MSG_CODE</th>\n",
              "      <th>SEND_TIME</th>\n",
              "      <th>RECV_TIME</th>\n",
              "      <th>RESP_CODE</th>\n",
              "    </tr>\n",
              "  </thead>\n",
              "  <tbody>\n",
              "    <tr>\n",
              "      <th>0</th>\n",
              "      <td>2e65c202e525e90e1d95</td>\n",
              "      <td>03</td>\n",
              "      <td>0100</td>\n",
              "      <td>133000</td>\n",
              "      <td>133005</td>\n",
              "      <td>01</td>\n",
              "    </tr>\n",
              "    <tr>\n",
              "      <th>1</th>\n",
              "      <td>802407d045fa5d1a8287</td>\n",
              "      <td>48</td>\n",
              "      <td>0300</td>\n",
              "      <td>133000</td>\n",
              "      <td>133001</td>\n",
              "      <td>01</td>\n",
              "    </tr>\n",
              "    <tr>\n",
              "      <th>2</th>\n",
              "      <td>a1d3e524e4751b450a20</td>\n",
              "      <td>03</td>\n",
              "      <td>0200</td>\n",
              "      <td>133000</td>\n",
              "      <td>133000</td>\n",
              "      <td>01</td>\n",
              "    </tr>\n",
              "    <tr>\n",
              "      <th>3</th>\n",
              "      <td>ed976e8de9708d167a64</td>\n",
              "      <td>11</td>\n",
              "      <td>0200</td>\n",
              "      <td>133000</td>\n",
              "      <td>133008</td>\n",
              "      <td>00</td>\n",
              "    </tr>\n",
              "    <tr>\n",
              "      <th>4</th>\n",
              "      <td>b7a878a4ff5d3076dd4b</td>\n",
              "      <td>03</td>\n",
              "      <td>9300</td>\n",
              "      <td>133000</td>\n",
              "      <td>133003</td>\n",
              "      <td>01</td>\n",
              "    </tr>\n",
              "    <tr>\n",
              "      <th>...</th>\n",
              "      <td>...</td>\n",
              "      <td>...</td>\n",
              "      <td>...</td>\n",
              "      <td>...</td>\n",
              "      <td>...</td>\n",
              "      <td>...</td>\n",
              "    </tr>\n",
              "    <tr>\n",
              "      <th>995</th>\n",
              "      <td>226c76440f927213fc35</td>\n",
              "      <td>03</td>\n",
              "      <td>0420</td>\n",
              "      <td>133059</td>\n",
              "      <td>133100</td>\n",
              "      <td>00</td>\n",
              "    </tr>\n",
              "    <tr>\n",
              "      <th>996</th>\n",
              "      <td>4a0813a414e8a43ae594</td>\n",
              "      <td>23</td>\n",
              "      <td>0420</td>\n",
              "      <td>133059</td>\n",
              "      <td>133103</td>\n",
              "      <td>00</td>\n",
              "    </tr>\n",
              "    <tr>\n",
              "      <th>997</th>\n",
              "      <td>f9951616122039cadea7</td>\n",
              "      <td>20</td>\n",
              "      <td>0420</td>\n",
              "      <td>133059</td>\n",
              "      <td>133108</td>\n",
              "      <td>00</td>\n",
              "    </tr>\n",
              "    <tr>\n",
              "      <th>998</th>\n",
              "      <td>917057d635b367f53749</td>\n",
              "      <td>72</td>\n",
              "      <td>0420</td>\n",
              "      <td>133059</td>\n",
              "      <td>133107</td>\n",
              "      <td>00</td>\n",
              "    </tr>\n",
              "    <tr>\n",
              "      <th>999</th>\n",
              "      <td>ccf851df69182c5e024d</td>\n",
              "      <td>03</td>\n",
              "      <td>0100</td>\n",
              "      <td>133059</td>\n",
              "      <td>133059</td>\n",
              "      <td>00</td>\n",
              "    </tr>\n",
              "  </tbody>\n",
              "</table>\n",
              "<p>1000 rows × 6 columns</p>\n",
              "</div>"
            ],
            "text/plain": [
              "                      SEQ FIRM_CODE MSG_CODE SEND_TIME RECV_TIME RESP_CODE\n",
              "0    2e65c202e525e90e1d95        03     0100    133000    133005        01\n",
              "1    802407d045fa5d1a8287        48     0300    133000    133001        01\n",
              "2    a1d3e524e4751b450a20        03     0200    133000    133000        01\n",
              "3    ed976e8de9708d167a64        11     0200    133000    133008        00\n",
              "4    b7a878a4ff5d3076dd4b        03     9300    133000    133003        01\n",
              "..                    ...       ...      ...       ...       ...       ...\n",
              "995  226c76440f927213fc35        03     0420    133059    133100        00\n",
              "996  4a0813a414e8a43ae594        23     0420    133059    133103        00\n",
              "997  f9951616122039cadea7        20     0420    133059    133108        00\n",
              "998  917057d635b367f53749        72     0420    133059    133107        00\n",
              "999  ccf851df69182c5e024d        03     0100    133059    133059        00\n",
              "\n",
              "[1000 rows x 6 columns]"
            ]
          },
          "metadata": {
            "tags": []
          },
          "execution_count": 27
        }
      ]
    },
    {
      "cell_type": "code",
      "metadata": {
        "colab": {
          "base_uri": "https://localhost:8080/",
          "height": 198
        },
        "id": "-Ri9ueqIAPQc",
        "outputId": "2a055868-f606-42d7-f103-a17cb459fb6e"
      },
      "source": [
        "tf['S_DATETIME'] = pd.to_datetime(tf.SEND_TIME, format='%H%M%S')\r\n",
        "tf['R_DATETIME'] = pd.to_datetime(tf.RECV_TIME, format='%H%M%S')\r\n",
        "tf['TIME_GAP'] = tf.R_DATETIME - tf.S_DATETIME\r\n",
        "tf = tf.drop(['S_DATETIME','R_DATETIME'], axis=1)\r\n",
        "\r\n",
        "tf.head()"
      ],
      "execution_count": 29,
      "outputs": [
        {
          "output_type": "execute_result",
          "data": {
            "text/html": [
              "<div>\n",
              "<style scoped>\n",
              "    .dataframe tbody tr th:only-of-type {\n",
              "        vertical-align: middle;\n",
              "    }\n",
              "\n",
              "    .dataframe tbody tr th {\n",
              "        vertical-align: top;\n",
              "    }\n",
              "\n",
              "    .dataframe thead th {\n",
              "        text-align: right;\n",
              "    }\n",
              "</style>\n",
              "<table border=\"1\" class=\"dataframe\">\n",
              "  <thead>\n",
              "    <tr style=\"text-align: right;\">\n",
              "      <th></th>\n",
              "      <th>SEQ</th>\n",
              "      <th>FIRM_CODE</th>\n",
              "      <th>MSG_CODE</th>\n",
              "      <th>SEND_TIME</th>\n",
              "      <th>RECV_TIME</th>\n",
              "      <th>RESP_CODE</th>\n",
              "      <th>TIME_GAP</th>\n",
              "    </tr>\n",
              "  </thead>\n",
              "  <tbody>\n",
              "    <tr>\n",
              "      <th>0</th>\n",
              "      <td>2e65c202e525e90e1d95</td>\n",
              "      <td>03</td>\n",
              "      <td>0100</td>\n",
              "      <td>133000</td>\n",
              "      <td>133005</td>\n",
              "      <td>01</td>\n",
              "      <td>0 days 00:00:05</td>\n",
              "    </tr>\n",
              "    <tr>\n",
              "      <th>1</th>\n",
              "      <td>802407d045fa5d1a8287</td>\n",
              "      <td>48</td>\n",
              "      <td>0300</td>\n",
              "      <td>133000</td>\n",
              "      <td>133001</td>\n",
              "      <td>01</td>\n",
              "      <td>0 days 00:00:01</td>\n",
              "    </tr>\n",
              "    <tr>\n",
              "      <th>2</th>\n",
              "      <td>a1d3e524e4751b450a20</td>\n",
              "      <td>03</td>\n",
              "      <td>0200</td>\n",
              "      <td>133000</td>\n",
              "      <td>133000</td>\n",
              "      <td>01</td>\n",
              "      <td>0 days 00:00:00</td>\n",
              "    </tr>\n",
              "    <tr>\n",
              "      <th>3</th>\n",
              "      <td>ed976e8de9708d167a64</td>\n",
              "      <td>11</td>\n",
              "      <td>0200</td>\n",
              "      <td>133000</td>\n",
              "      <td>133008</td>\n",
              "      <td>00</td>\n",
              "      <td>0 days 00:00:08</td>\n",
              "    </tr>\n",
              "    <tr>\n",
              "      <th>4</th>\n",
              "      <td>b7a878a4ff5d3076dd4b</td>\n",
              "      <td>03</td>\n",
              "      <td>9300</td>\n",
              "      <td>133000</td>\n",
              "      <td>133003</td>\n",
              "      <td>01</td>\n",
              "      <td>0 days 00:00:03</td>\n",
              "    </tr>\n",
              "  </tbody>\n",
              "</table>\n",
              "</div>"
            ],
            "text/plain": [
              "                    SEQ FIRM_CODE MSG_CODE  ... RECV_TIME RESP_CODE        TIME_GAP\n",
              "0  2e65c202e525e90e1d95        03     0100  ...    133005        01 0 days 00:00:05\n",
              "1  802407d045fa5d1a8287        48     0300  ...    133001        01 0 days 00:00:01\n",
              "2  a1d3e524e4751b450a20        03     0200  ...    133000        01 0 days 00:00:00\n",
              "3  ed976e8de9708d167a64        11     0200  ...    133008        00 0 days 00:00:08\n",
              "4  b7a878a4ff5d3076dd4b        03     9300  ...    133003        01 0 days 00:00:03\n",
              "\n",
              "[5 rows x 7 columns]"
            ]
          },
          "metadata": {
            "tags": []
          },
          "execution_count": 29
        }
      ]
    },
    {
      "cell_type": "code",
      "metadata": {
        "colab": {
          "base_uri": "https://localhost:8080/",
          "height": 198
        },
        "id": "saNQLkJYAWyv",
        "outputId": "8a3b402f-8442-4666-86d2-37a109b4fc18"
      },
      "source": [
        "tf['SEC_GAP'] = tf['TIME_GAP'].dt.seconds\r\n",
        "tf['COUNT'] = 1\r\n",
        "tf.head()"
      ],
      "execution_count": 37,
      "outputs": [
        {
          "output_type": "execute_result",
          "data": {
            "text/html": [
              "<div>\n",
              "<style scoped>\n",
              "    .dataframe tbody tr th:only-of-type {\n",
              "        vertical-align: middle;\n",
              "    }\n",
              "\n",
              "    .dataframe tbody tr th {\n",
              "        vertical-align: top;\n",
              "    }\n",
              "\n",
              "    .dataframe thead th {\n",
              "        text-align: right;\n",
              "    }\n",
              "</style>\n",
              "<table border=\"1\" class=\"dataframe\">\n",
              "  <thead>\n",
              "    <tr style=\"text-align: right;\">\n",
              "      <th></th>\n",
              "      <th>SEQ</th>\n",
              "      <th>FIRM_CODE</th>\n",
              "      <th>MSG_CODE</th>\n",
              "      <th>SEND_TIME</th>\n",
              "      <th>RECV_TIME</th>\n",
              "      <th>RESP_CODE</th>\n",
              "      <th>TIME_GAP</th>\n",
              "      <th>SEC_GAP</th>\n",
              "      <th>COUNT</th>\n",
              "    </tr>\n",
              "  </thead>\n",
              "  <tbody>\n",
              "    <tr>\n",
              "      <th>0</th>\n",
              "      <td>2e65c202e525e90e1d95</td>\n",
              "      <td>03</td>\n",
              "      <td>0100</td>\n",
              "      <td>133000</td>\n",
              "      <td>133005</td>\n",
              "      <td>01</td>\n",
              "      <td>0 days 00:00:05</td>\n",
              "      <td>5</td>\n",
              "      <td>1</td>\n",
              "    </tr>\n",
              "    <tr>\n",
              "      <th>1</th>\n",
              "      <td>802407d045fa5d1a8287</td>\n",
              "      <td>48</td>\n",
              "      <td>0300</td>\n",
              "      <td>133000</td>\n",
              "      <td>133001</td>\n",
              "      <td>01</td>\n",
              "      <td>0 days 00:00:01</td>\n",
              "      <td>1</td>\n",
              "      <td>1</td>\n",
              "    </tr>\n",
              "    <tr>\n",
              "      <th>2</th>\n",
              "      <td>a1d3e524e4751b450a20</td>\n",
              "      <td>03</td>\n",
              "      <td>0200</td>\n",
              "      <td>133000</td>\n",
              "      <td>133000</td>\n",
              "      <td>01</td>\n",
              "      <td>0 days 00:00:00</td>\n",
              "      <td>0</td>\n",
              "      <td>1</td>\n",
              "    </tr>\n",
              "    <tr>\n",
              "      <th>3</th>\n",
              "      <td>ed976e8de9708d167a64</td>\n",
              "      <td>11</td>\n",
              "      <td>0200</td>\n",
              "      <td>133000</td>\n",
              "      <td>133008</td>\n",
              "      <td>00</td>\n",
              "      <td>0 days 00:00:08</td>\n",
              "      <td>8</td>\n",
              "      <td>1</td>\n",
              "    </tr>\n",
              "    <tr>\n",
              "      <th>4</th>\n",
              "      <td>b7a878a4ff5d3076dd4b</td>\n",
              "      <td>03</td>\n",
              "      <td>9300</td>\n",
              "      <td>133000</td>\n",
              "      <td>133003</td>\n",
              "      <td>01</td>\n",
              "      <td>0 days 00:00:03</td>\n",
              "      <td>3</td>\n",
              "      <td>1</td>\n",
              "    </tr>\n",
              "  </tbody>\n",
              "</table>\n",
              "</div>"
            ],
            "text/plain": [
              "                    SEQ FIRM_CODE MSG_CODE  ...        TIME_GAP SEC_GAP COUNT\n",
              "0  2e65c202e525e90e1d95        03     0100  ... 0 days 00:00:05       5     1\n",
              "1  802407d045fa5d1a8287        48     0300  ... 0 days 00:00:01       1     1\n",
              "2  a1d3e524e4751b450a20        03     0200  ... 0 days 00:00:00       0     1\n",
              "3  ed976e8de9708d167a64        11     0200  ... 0 days 00:00:08       8     1\n",
              "4  b7a878a4ff5d3076dd4b        03     9300  ... 0 days 00:00:03       3     1\n",
              "\n",
              "[5 rows x 9 columns]"
            ]
          },
          "metadata": {
            "tags": []
          },
          "execution_count": 37
        }
      ]
    },
    {
      "cell_type": "code",
      "metadata": {
        "colab": {
          "base_uri": "https://localhost:8080/",
          "height": 379
        },
        "id": "iLn8t-pUA9Sv",
        "outputId": "d8576ce8-1de1-4ffc-aabb-3fbb4a29790c"
      },
      "source": [
        "# 처리시간별 현황\r\n",
        "tf.groupby('SEC_GAP').sum() # 처리시간 그룹 후 해당 그룹별 합계 (숫자로 지정된 항목인 COUNT만 수행)"
      ],
      "execution_count": 39,
      "outputs": [
        {
          "output_type": "execute_result",
          "data": {
            "text/html": [
              "<div>\n",
              "<style scoped>\n",
              "    .dataframe tbody tr th:only-of-type {\n",
              "        vertical-align: middle;\n",
              "    }\n",
              "\n",
              "    .dataframe tbody tr th {\n",
              "        vertical-align: top;\n",
              "    }\n",
              "\n",
              "    .dataframe thead th {\n",
              "        text-align: right;\n",
              "    }\n",
              "</style>\n",
              "<table border=\"1\" class=\"dataframe\">\n",
              "  <thead>\n",
              "    <tr style=\"text-align: right;\">\n",
              "      <th></th>\n",
              "      <th>COUNT</th>\n",
              "    </tr>\n",
              "    <tr>\n",
              "      <th>SEC_GAP</th>\n",
              "      <th></th>\n",
              "    </tr>\n",
              "  </thead>\n",
              "  <tbody>\n",
              "    <tr>\n",
              "      <th>0</th>\n",
              "      <td>91</td>\n",
              "    </tr>\n",
              "    <tr>\n",
              "      <th>1</th>\n",
              "      <td>96</td>\n",
              "    </tr>\n",
              "    <tr>\n",
              "      <th>2</th>\n",
              "      <td>112</td>\n",
              "    </tr>\n",
              "    <tr>\n",
              "      <th>3</th>\n",
              "      <td>96</td>\n",
              "    </tr>\n",
              "    <tr>\n",
              "      <th>4</th>\n",
              "      <td>99</td>\n",
              "    </tr>\n",
              "    <tr>\n",
              "      <th>5</th>\n",
              "      <td>106</td>\n",
              "    </tr>\n",
              "    <tr>\n",
              "      <th>6</th>\n",
              "      <td>99</td>\n",
              "    </tr>\n",
              "    <tr>\n",
              "      <th>7</th>\n",
              "      <td>94</td>\n",
              "    </tr>\n",
              "    <tr>\n",
              "      <th>8</th>\n",
              "      <td>104</td>\n",
              "    </tr>\n",
              "    <tr>\n",
              "      <th>9</th>\n",
              "      <td>103</td>\n",
              "    </tr>\n",
              "  </tbody>\n",
              "</table>\n",
              "</div>"
            ],
            "text/plain": [
              "         COUNT\n",
              "SEC_GAP       \n",
              "0           91\n",
              "1           96\n",
              "2          112\n",
              "3           96\n",
              "4           99\n",
              "5          106\n",
              "6           99\n",
              "7           94\n",
              "8          104\n",
              "9          103"
            ]
          },
          "metadata": {
            "tags": []
          },
          "execution_count": 39
        }
      ]
    },
    {
      "cell_type": "code",
      "metadata": {
        "colab": {
          "base_uri": "https://localhost:8080/",
          "height": 296
        },
        "id": "98lHl53EBAWq",
        "outputId": "953f52d8-9eb2-4708-e1a2-c6f50b14375b"
      },
      "source": [
        "df = tf.groupby('SEC_GAP').sum() # 처리시간 그룹 후 해당 그룹별 합계 (숫자로 지정된 항목인 COUNT만 수행)\r\n",
        "df.plot(kind='bar')"
      ],
      "execution_count": 44,
      "outputs": [
        {
          "output_type": "execute_result",
          "data": {
            "text/plain": [
              "<matplotlib.axes._subplots.AxesSubplot at 0x7ff2984ac110>"
            ]
          },
          "metadata": {
            "tags": []
          },
          "execution_count": 44
        },
        {
          "output_type": "display_data",
          "data": {
            "image/png": "[encoded data removed]",
            "text/plain": [
              "<Figure size 432x288 with 1 Axes>"
            ]
          },
          "metadata": {
            "tags": [],
            "needs_background": "light"
          }
        }
      ]
    },
    {
      "cell_type": "code",
      "metadata": {
        "colab": {
          "base_uri": "https://localhost:8080/",
          "height": 395
        },
        "id": "nE3sySoKBU9m",
        "outputId": "a811f33f-9350-488c-ee87-f04e713214ae"
      },
      "source": [
        "tf.groupby(['FIRM_CODE','TIME_GAP']).count()\r\n",
        "tf.groupby(['FIRM_CODE','TIME_GAP']).count().rename(columns={'SEQ':'COUNT'})\r\n",
        "tf.groupby(['FIRM_CODE','TIME_GAP']).count().rename(columns={'SEQ':'COUNT'}) [['COUNT']]\r\n",
        "df = tf.groupby(['FIRM_CODE', 'TIME_GAP']).count().rename(columns={'SEQ':'COUNT'}) [['COUNT']]\r\n",
        "df.plot(kind='bar', figsize=(15,4)) #bar 차트, 차트의 크기는 (15, 4)"
      ],
      "execution_count": 45,
      "outputs": [
        {
          "output_type": "execute_result",
          "data": {
            "text/plain": [
              "<matplotlib.axes._subplots.AxesSubplot at 0x7ff29844aa90>"
            ]
          },
          "metadata": {
            "tags": []
          },
          "execution_count": 45
        },
        {
          "output_type": "display_data",
          "data": {
            "image/png": "[encoded data removed]",
            "text/plain": [
              "<Figure size 1080x288 with 1 Axes>"
            ]
          },
          "metadata": {
            "tags": [],
            "needs_background": "light"
          }
        }
      ]
    },
    {
      "cell_type": "code",
      "metadata": {
        "colab": {
          "base_uri": "https://localhost:8080/",
          "height": 395
        },
        "id": "R4f3FWdWBX7X",
        "outputId": "3115365b-f25b-4b2e-b803-264dae9eb58e"
      },
      "source": [
        "zf = tf[['FIRM_CODE','MSG_CODE','TIME_GAP']] # 3개 칼럼만 선택한 DataFrame 생성\r\n",
        "max_df = zf.groupby(['FIRM_CODE','MSG_CODE']).max().rename(columns={'TIME_GAP':'MAX_GAP'})\r\n",
        "min_df = zf.groupby(['FIRM_CODE','MSG_CODE']).min().rename(columns={'TIME_GAP':'MIN_GAP'})\r\n",
        "max_df = max_df.reset_index() #그룹연산으로 지정된 index를 reset (merge를 위하여)\r\n",
        "min_df = min_df.reset_index() #그룹연산으로 지정된 index를 reset\r\n",
        "df = pd.merge(max_df, min_df)\r\n",
        "df['MAX_GAP'] = df.MAX_GAP.dt.seconds # timedelta 객체를 seconds로 변환 (정수형 값)\r\n",
        "df['MIN_GAP'] = df.MIN_GAP.dt.seconds # timedelta 객체를 seconds로 변환 (정수형 값)\r\n",
        "df.set_index(['FIRM_CODE','MSG_CODE']).plot(kind='bar', figsize=(10,5))"
      ],
      "execution_count": 46,
      "outputs": [
        {
          "output_type": "execute_result",
          "data": {
            "text/plain": [
              "<matplotlib.axes._subplots.AxesSubplot at 0x7ff2a809e410>"
            ]
          },
          "metadata": {
            "tags": []
          },
          "execution_count": 46
        },
        {
          "output_type": "display_data",
          "data": {
            "image/png": "[encoded data removed]",
            "text/plain": [
              "<Figure size 720x360 with 1 Axes>"
            ]
          },
          "metadata": {
            "tags": [],
            "needs_background": "light"
          }
        }
      ]
    },
    {
      "cell_type": "code",
      "metadata": {
        "id": "3mZKnWndBZK-"
      },
      "source": [
        ""
      ],
      "execution_count": null,
      "outputs": []
    }
  ]
}