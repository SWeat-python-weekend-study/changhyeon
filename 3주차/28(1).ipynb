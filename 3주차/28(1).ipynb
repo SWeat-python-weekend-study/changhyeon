{
  "nbformat": 4,
  "nbformat_minor": 0,
  "metadata": {
    "kernelspec": {
      "display_name": "Python 3",
      "language": "python",
      "name": "python3"
    },
    "language_info": {
      "codemirror_mode": {
        "name": "ipython",
        "version": 3
      },
      "file_extension": ".py",
      "mimetype": "text/x-python",
      "name": "python",
      "nbconvert_exporter": "python",
      "pygments_lexer": "ipython3",
      "version": "3.7.6"
    },
    "latex_envs": {
      "LaTeX_envs_menu_present": true,
      "autoclose": false,
      "autocomplete": true,
      "bibliofile": "biblio.bib",
      "cite_by": "apalike",
      "current_citInitial": 1,
      "eqLabelWithNumbers": true,
      "eqNumInitial": 1,
      "hotkeys": {
        "equation": "Ctrl-E",
        "itemize": "Ctrl-I"
      },
      "labels_anchors": false,
      "latex_user_defs": false,
      "report_style_numbering": false,
      "user_envs_cfg": false
    },
    "colab": {
      "name": "3.8 시계열 자료 다루기.ipynb",
      "provenance": [],
      "include_colab_link": true
    }
  },
  "cells": [
    {
      "cell_type": "markdown",
      "metadata": {
        "id": "view-in-github",
        "colab_type": "text"
      },
      "source": [
        "<a href=\"https://colab.research.google.com/github/SWeat-python-weekend-study/changhyeon/blob/main/3%EC%A3%BC%EC%B0%A8/28(1).ipynb\" target=\"_parent\"><img src=\"https://colab.research.google.com/assets/colab-badge.svg\" alt=\"Open In Colab\"/></a>"
      ]
    },
    {
      "cell_type": "markdown",
      "metadata": {
        "school_cell_uuid": "7d54ee7f802c45cfb71ada449384a607",
        "id": "R53XlWfAqb8o"
      },
      "source": [
        "# 3.8 시계열 자료 다루기"
      ]
    },
    {
      "cell_type": "markdown",
      "metadata": {
        "id": "4DL9laNcqb80"
      },
      "source": [
        "```{margin}\n",
        "`DatetimeIndex`\n",
        "```"
      ]
    },
    {
      "cell_type": "markdown",
      "metadata": {
        "id": "R9hMdiBTqb81"
      },
      "source": [
        "## `DatetimeIndex` 인덱스"
      ]
    },
    {
      "cell_type": "markdown",
      "metadata": {
        "school_cell_uuid": "c4ff6bd707744fd5bab97a0a48aa0e56",
        "id": "0RIarXnbqb82"
      },
      "source": [
        "**시계열 자료**는 **인덱스가 날짜 혹은 시간인 데이터**를 말한다. 판다스에서 시계열 자료를 생성하려면 인덱스를 `DatetimeIndex` 자료형으로 만들어야 한다. `DatetimeIndex`는 특정한 순간에 기록된 타임스탬프(timestamp) 형식의 시계열 자료를 다루기 위한 인덱스이다. 타임스탬프 인덱스의 라벨값이 반드시 일정한 간격일 필요는 없다."
      ]
    },
    {
      "cell_type": "markdown",
      "metadata": {
        "school_cell_uuid": "ce5fee80fb074e519168a13a7c159f09",
        "id": "A4EGhdgnqb83"
      },
      "source": [
        "`DatetimeIndex` 인덱스는 다음과 같은 보조 함수를 사용하여 생성한다.\n",
        "\n",
        "* `pd.to_datetime` 함수\n",
        "* `pd.date_range` 함수"
      ]
    },
    {
      "cell_type": "markdown",
      "metadata": {
        "id": "dVSQv9kCqb83"
      },
      "source": [
        "```{margin}\n",
        "to_datetime\n",
        "```"
      ]
    },
    {
      "cell_type": "markdown",
      "metadata": {
        "school_cell_uuid": "a4111d07ea994b7182d2010b1019281c",
        "id": "TGErho9Wqb84"
      },
      "source": [
        "`pd.to_datetime` 함수를 쓰면 날짜/시간을 나타내는 문자열을 자동으로 datetime 자료형으로 바꾼 후 `DatetimeIndex` 자료형 인덱스를 생성한다."
      ]
    },
    {
      "cell_type": "code",
      "metadata": {
        "id": "NrNxS0hbrkgV"
      },
      "source": [
        "import pandas as pd\r\n",
        "import numpy as np"
      ],
      "execution_count": 1,
      "outputs": []
    },
    {
      "cell_type": "code",
      "metadata": {
        "school_cell_uuid": "37627593f6d94bbca2c637eb1df845f1",
        "id": "NxQyOkS8qb85",
        "outputId": "9cf9054f-a3dc-4803-a070-987247ba2a69",
        "colab": {
          "base_uri": "https://localhost:8080/"
        }
      },
      "source": [
        "date_str = [\"2018, 1, 1\", \"2018, 1, 4\", \"2018, 1, 5\", \"2018, 1, 6\"]\n",
        "idx = pd.to_datetime(date_str)\n",
        "idx"
      ],
      "execution_count": 2,
      "outputs": [
        {
          "output_type": "execute_result",
          "data": {
            "text/plain": [
              "DatetimeIndex(['2018-01-01', '2018-01-04', '2018-01-05', '2018-01-06'], dtype='datetime64[ns]', freq=None)"
            ]
          },
          "metadata": {
            "tags": []
          },
          "execution_count": 2
        }
      ]
    },
    {
      "cell_type": "markdown",
      "metadata": {
        "school_cell_uuid": "05d388a37b0343cab334b7dbf7fa9d95",
        "id": "NpLHEPONqb88"
      },
      "source": [
        "이렇게 만들어진 인덱스를 사용하여 시리즈나 데이터프레임을 생성하면 된다."
      ]
    },
    {
      "cell_type": "code",
      "metadata": {
        "school_cell_uuid": "71e4a6adeafa4c199115489911fa9e98",
        "id": "0u0qAfO9qb89",
        "outputId": "a54f94b0-361b-4e87-c41a-b3b77d192ea3",
        "colab": {
          "base_uri": "https://localhost:8080/"
        }
      },
      "source": [
        "np.random.seed(0)\n",
        "s = pd.Series(np.random.randn(4), index=idx)\n",
        "s"
      ],
      "execution_count": 3,
      "outputs": [
        {
          "output_type": "execute_result",
          "data": {
            "text/plain": [
              "2018-01-01    1.764052\n",
              "2018-01-04    0.400157\n",
              "2018-01-05    0.978738\n",
              "2018-01-06    2.240893\n",
              "dtype: float64"
            ]
          },
          "metadata": {
            "tags": []
          },
          "execution_count": 3
        }
      ]
    },
    {
      "cell_type": "markdown",
      "metadata": {
        "id": "hnIWxpYBqb8-"
      },
      "source": [
        "```{margin}\n",
        "date_range\n",
        "```"
      ]
    },
    {
      "cell_type": "markdown",
      "metadata": {
        "school_cell_uuid": "fd052091c90d4e31be6feca8cceaa90c",
        "id": "MMOOWsvkqb8-"
      },
      "source": [
        "`pd.date_range` 함수를 쓰면 모든 날짜/시간을 일일히 입력할 필요없이 시작일과 종료일 또는 시작일과 기간을 입력하면 범위 내의 인덱스를 생성해 준다."
      ]
    },
    {
      "cell_type": "code",
      "metadata": {
        "school_cell_uuid": "f9597a1a250140da93f1c16a006dc132",
        "id": "_8g00PlQqb8_",
        "outputId": "4cb3b77d-0729-4d91-b779-e4908a3de377",
        "colab": {
          "base_uri": "https://localhost:8080/"
        }
      },
      "source": [
        "pd.date_range(\"2018-4-1\", \"2018-4-30\")"
      ],
      "execution_count": 4,
      "outputs": [
        {
          "output_type": "execute_result",
          "data": {
            "text/plain": [
              "DatetimeIndex(['2018-04-01', '2018-04-02', '2018-04-03', '2018-04-04',\n",
              "               '2018-04-05', '2018-04-06', '2018-04-07', '2018-04-08',\n",
              "               '2018-04-09', '2018-04-10', '2018-04-11', '2018-04-12',\n",
              "               '2018-04-13', '2018-04-14', '2018-04-15', '2018-04-16',\n",
              "               '2018-04-17', '2018-04-18', '2018-04-19', '2018-04-20',\n",
              "               '2018-04-21', '2018-04-22', '2018-04-23', '2018-04-24',\n",
              "               '2018-04-25', '2018-04-26', '2018-04-27', '2018-04-28',\n",
              "               '2018-04-29', '2018-04-30'],\n",
              "              dtype='datetime64[ns]', freq='D')"
            ]
          },
          "metadata": {
            "tags": []
          },
          "execution_count": 4
        }
      ]
    },
    {
      "cell_type": "code",
      "metadata": {
        "school_cell_uuid": "476cee21be454c8b9503c06de4a4adf3",
        "id": "gE9Qr1jZqb9A",
        "outputId": "b53ac1e4-540e-46dc-dbf8-6e35c325b5e9",
        "colab": {
          "base_uri": "https://localhost:8080/"
        }
      },
      "source": [
        "pd.date_range(start=\"2018-4-1\", periods=30)"
      ],
      "execution_count": 5,
      "outputs": [
        {
          "output_type": "execute_result",
          "data": {
            "text/plain": [
              "DatetimeIndex(['2018-04-01', '2018-04-02', '2018-04-03', '2018-04-04',\n",
              "               '2018-04-05', '2018-04-06', '2018-04-07', '2018-04-08',\n",
              "               '2018-04-09', '2018-04-10', '2018-04-11', '2018-04-12',\n",
              "               '2018-04-13', '2018-04-14', '2018-04-15', '2018-04-16',\n",
              "               '2018-04-17', '2018-04-18', '2018-04-19', '2018-04-20',\n",
              "               '2018-04-21', '2018-04-22', '2018-04-23', '2018-04-24',\n",
              "               '2018-04-25', '2018-04-26', '2018-04-27', '2018-04-28',\n",
              "               '2018-04-29', '2018-04-30'],\n",
              "              dtype='datetime64[ns]', freq='D')"
            ]
          },
          "metadata": {
            "tags": []
          },
          "execution_count": 5
        }
      ]
    },
    {
      "cell_type": "markdown",
      "metadata": {
        "school_cell_uuid": "3bad3aff349649b083b4867843705dd0",
        "id": "eW1bHDgeqb9B"
      },
      "source": [
        "`freq` 인수로 특정한 날짜만 생성되도록 할 수도 있다. 많이 사용되는 `freq` 인수값은 다음과 같다.\n",
        "\n",
        "* `s`: 초\n",
        "* `T`: 분\n",
        "* `H`: 시간\n",
        "* `D`: 일(day)\n",
        "* `B`: 주말이 아닌 평일\n",
        "* `W`: 주(일요일)\n",
        "* `W-MON`: 주(월요일)\n",
        "* `M`: 각 달(month)의 마지막 날\n",
        "* `MS`: 각 달의 첫날\n",
        "* `BM`: 주말이 아닌 평일 중에서 각 달의 마지막 날\n",
        "* `BMS`: 주말이 아닌 평일 중에서 각 달의 첫날\n",
        "* `WOM-2THU`: 각 달의 두번째 목요일\n",
        "* `Q-JAN`: 각 분기의 첫달의 마지막 날\n",
        "* `Q-DEC`: 각 분기의 마지막 달의 마지막 날\n",
        "\n",
        "보다 자세한 내용은 다음 웹사이트를 참조한다.\n",
        "\n",
        "* [https://pandas.pydata.org/pandas-docs/stable/user_guide/timeseries.html#dateoffset-objects](https://pandas.pydata.org/pandas-docs/stable/user_guide/timeseries.html#dateoffset-objects)"
      ]
    },
    {
      "cell_type": "code",
      "metadata": {
        "school_cell_uuid": "6608d599e5924ed5a87525d8eca61478",
        "id": "iKBXY6G1qb9C",
        "outputId": "62b75e50-0f59-4146-c5a2-452b29f30ff1",
        "colab": {
          "base_uri": "https://localhost:8080/"
        }
      },
      "source": [
        "pd.date_range(\"2018-4-1\", \"2018-4-30\", freq=\"B\")"
      ],
      "execution_count": 6,
      "outputs": [
        {
          "output_type": "execute_result",
          "data": {
            "text/plain": [
              "DatetimeIndex(['2018-04-02', '2018-04-03', '2018-04-04', '2018-04-05',\n",
              "               '2018-04-06', '2018-04-09', '2018-04-10', '2018-04-11',\n",
              "               '2018-04-12', '2018-04-13', '2018-04-16', '2018-04-17',\n",
              "               '2018-04-18', '2018-04-19', '2018-04-20', '2018-04-23',\n",
              "               '2018-04-24', '2018-04-25', '2018-04-26', '2018-04-27',\n",
              "               '2018-04-30'],\n",
              "              dtype='datetime64[ns]', freq='B')"
            ]
          },
          "metadata": {
            "tags": []
          },
          "execution_count": 6
        }
      ]
    },
    {
      "cell_type": "code",
      "metadata": {
        "school_cell_uuid": "6cd6c97dc5054162abf7e9f9a3a3093e",
        "id": "OcOlG2D4qb9D",
        "outputId": "2b59e8d7-06d9-4f68-c1e6-18f64182a147",
        "colab": {
          "base_uri": "https://localhost:8080/"
        }
      },
      "source": [
        "pd.date_range(\"2018-1-1\", \"2018-12-31\", freq=\"W\")"
      ],
      "execution_count": 7,
      "outputs": [
        {
          "output_type": "execute_result",
          "data": {
            "text/plain": [
              "DatetimeIndex(['2018-01-07', '2018-01-14', '2018-01-21', '2018-01-28',\n",
              "               '2018-02-04', '2018-02-11', '2018-02-18', '2018-02-25',\n",
              "               '2018-03-04', '2018-03-11', '2018-03-18', '2018-03-25',\n",
              "               '2018-04-01', '2018-04-08', '2018-04-15', '2018-04-22',\n",
              "               '2018-04-29', '2018-05-06', '2018-05-13', '2018-05-20',\n",
              "               '2018-05-27', '2018-06-03', '2018-06-10', '2018-06-17',\n",
              "               '2018-06-24', '2018-07-01', '2018-07-08', '2018-07-15',\n",
              "               '2018-07-22', '2018-07-29', '2018-08-05', '2018-08-12',\n",
              "               '2018-08-19', '2018-08-26', '2018-09-02', '2018-09-09',\n",
              "               '2018-09-16', '2018-09-23', '2018-09-30', '2018-10-07',\n",
              "               '2018-10-14', '2018-10-21', '2018-10-28', '2018-11-04',\n",
              "               '2018-11-11', '2018-11-18', '2018-11-25', '2018-12-02',\n",
              "               '2018-12-09', '2018-12-16', '2018-12-23', '2018-12-30'],\n",
              "              dtype='datetime64[ns]', freq='W-SUN')"
            ]
          },
          "metadata": {
            "tags": []
          },
          "execution_count": 7
        }
      ]
    },
    {
      "cell_type": "code",
      "metadata": {
        "school_cell_uuid": "6cd6c97dc5054162abf7e9f9a3a3093e",
        "id": "0A0utdFuqb9D",
        "outputId": "be1033ca-f241-48fd-d95c-f1d94cb5b177",
        "colab": {
          "base_uri": "https://localhost:8080/"
        }
      },
      "source": [
        "pd.date_range(\"2018-1-1\", \"2018-12-31\", freq=\"W-MON\")"
      ],
      "execution_count": 8,
      "outputs": [
        {
          "output_type": "execute_result",
          "data": {
            "text/plain": [
              "DatetimeIndex(['2018-01-01', '2018-01-08', '2018-01-15', '2018-01-22',\n",
              "               '2018-01-29', '2018-02-05', '2018-02-12', '2018-02-19',\n",
              "               '2018-02-26', '2018-03-05', '2018-03-12', '2018-03-19',\n",
              "               '2018-03-26', '2018-04-02', '2018-04-09', '2018-04-16',\n",
              "               '2018-04-23', '2018-04-30', '2018-05-07', '2018-05-14',\n",
              "               '2018-05-21', '2018-05-28', '2018-06-04', '2018-06-11',\n",
              "               '2018-06-18', '2018-06-25', '2018-07-02', '2018-07-09',\n",
              "               '2018-07-16', '2018-07-23', '2018-07-30', '2018-08-06',\n",
              "               '2018-08-13', '2018-08-20', '2018-08-27', '2018-09-03',\n",
              "               '2018-09-10', '2018-09-17', '2018-09-24', '2018-10-01',\n",
              "               '2018-10-08', '2018-10-15', '2018-10-22', '2018-10-29',\n",
              "               '2018-11-05', '2018-11-12', '2018-11-19', '2018-11-26',\n",
              "               '2018-12-03', '2018-12-10', '2018-12-17', '2018-12-24',\n",
              "               '2018-12-31'],\n",
              "              dtype='datetime64[ns]', freq='W-MON')"
            ]
          },
          "metadata": {
            "tags": []
          },
          "execution_count": 8
        }
      ]
    },
    {
      "cell_type": "code",
      "metadata": {
        "school_cell_uuid": "303d33432bd64ad58b63fc397dd271f5",
        "id": "__645cBWqb9F",
        "outputId": "eb051919-d633-46d3-edc7-0201b848fe69",
        "colab": {
          "base_uri": "https://localhost:8080/"
        }
      },
      "source": [
        "pd.date_range(\"2018-4-1\", \"2018-12-31\", freq=\"MS\")"
      ],
      "execution_count": 9,
      "outputs": [
        {
          "output_type": "execute_result",
          "data": {
            "text/plain": [
              "DatetimeIndex(['2018-04-01', '2018-05-01', '2018-06-01', '2018-07-01',\n",
              "               '2018-08-01', '2018-09-01', '2018-10-01', '2018-11-01',\n",
              "               '2018-12-01'],\n",
              "              dtype='datetime64[ns]', freq='MS')"
            ]
          },
          "metadata": {
            "tags": []
          },
          "execution_count": 9
        }
      ]
    },
    {
      "cell_type": "code",
      "metadata": {
        "school_cell_uuid": "9e558fec73084d179fa1d643395d2a85",
        "id": "VNuPRJDnqb9G",
        "outputId": "03150121-0478-4340-c811-561f280d5f2e",
        "colab": {
          "base_uri": "https://localhost:8080/"
        }
      },
      "source": [
        "pd.date_range(\"2018-4-1\", \"2018-12-31\", freq=\"M\")"
      ],
      "execution_count": 10,
      "outputs": [
        {
          "output_type": "execute_result",
          "data": {
            "text/plain": [
              "DatetimeIndex(['2018-04-30', '2018-05-31', '2018-06-30', '2018-07-31',\n",
              "               '2018-08-31', '2018-09-30', '2018-10-31', '2018-11-30',\n",
              "               '2018-12-31'],\n",
              "              dtype='datetime64[ns]', freq='M')"
            ]
          },
          "metadata": {
            "tags": []
          },
          "execution_count": 10
        }
      ]
    },
    {
      "cell_type": "code",
      "metadata": {
        "school_cell_uuid": "c4952b28e6b34afda26867c79a8a0aa6",
        "id": "HpscX7jJqb9G",
        "outputId": "d6a2947c-0837-4f9c-e8d1-4fd55ea4c969",
        "colab": {
          "base_uri": "https://localhost:8080/"
        }
      },
      "source": [
        "pd.date_range(\"2018-4-1\", \"2018-12-31\", freq=\"BMS\")"
      ],
      "execution_count": 11,
      "outputs": [
        {
          "output_type": "execute_result",
          "data": {
            "text/plain": [
              "DatetimeIndex(['2018-04-02', '2018-05-01', '2018-06-01', '2018-07-02',\n",
              "               '2018-08-01', '2018-09-03', '2018-10-01', '2018-11-01',\n",
              "               '2018-12-03'],\n",
              "              dtype='datetime64[ns]', freq='BMS')"
            ]
          },
          "metadata": {
            "tags": []
          },
          "execution_count": 11
        }
      ]
    },
    {
      "cell_type": "code",
      "metadata": {
        "school_cell_uuid": "6b151f915de047bca5a6488a512d7d1c",
        "id": "lvInhqDaqb9H",
        "outputId": "21be1f66-2d7a-42a8-8107-d71c4d1bb863",
        "colab": {
          "base_uri": "https://localhost:8080/"
        }
      },
      "source": [
        "pd.date_range(\"2018-4-1\", \"2018-12-31\", freq=\"BM\")"
      ],
      "execution_count": 12,
      "outputs": [
        {
          "output_type": "execute_result",
          "data": {
            "text/plain": [
              "DatetimeIndex(['2018-04-30', '2018-05-31', '2018-06-29', '2018-07-31',\n",
              "               '2018-08-31', '2018-09-28', '2018-10-31', '2018-11-30',\n",
              "               '2018-12-31'],\n",
              "              dtype='datetime64[ns]', freq='BM')"
            ]
          },
          "metadata": {
            "tags": []
          },
          "execution_count": 12
        }
      ]
    },
    {
      "cell_type": "code",
      "metadata": {
        "school_cell_uuid": "af918cf8514a47cfbfdda1663c544cec",
        "id": "6pdRy_Vdqb9I",
        "outputId": "179ad2af-f736-4fb1-f6ff-f2ab911584bb",
        "colab": {
          "base_uri": "https://localhost:8080/"
        }
      },
      "source": [
        "pd.date_range(\"2018-1-1\", \"2018-12-31\", freq=\"WOM-2THU\")"
      ],
      "execution_count": 13,
      "outputs": [
        {
          "output_type": "execute_result",
          "data": {
            "text/plain": [
              "DatetimeIndex(['2018-01-11', '2018-02-08', '2018-03-08', '2018-04-12',\n",
              "               '2018-05-10', '2018-06-14', '2018-07-12', '2018-08-09',\n",
              "               '2018-09-13', '2018-10-11', '2018-11-08', '2018-12-13'],\n",
              "              dtype='datetime64[ns]', freq='WOM-2THU')"
            ]
          },
          "metadata": {
            "tags": []
          },
          "execution_count": 13
        }
      ]
    },
    {
      "cell_type": "code",
      "metadata": {
        "school_cell_uuid": "c726f07103874171bedce2e22533f7a9",
        "id": "-yOhr-iAqb9I",
        "outputId": "d09ba878-b171-4875-9755-366df0a328cc",
        "colab": {
          "base_uri": "https://localhost:8080/"
        }
      },
      "source": [
        "pd.date_range(\"2018-1-1\", \"2018-12-31\", freq=\"Q-JAN\")"
      ],
      "execution_count": 14,
      "outputs": [
        {
          "output_type": "execute_result",
          "data": {
            "text/plain": [
              "DatetimeIndex(['2018-01-31', '2018-04-30', '2018-07-31', '2018-10-31'], dtype='datetime64[ns]', freq='Q-JAN')"
            ]
          },
          "metadata": {
            "tags": []
          },
          "execution_count": 14
        }
      ]
    },
    {
      "cell_type": "code",
      "metadata": {
        "school_cell_uuid": "c726f07103874171bedce2e22533f7a9",
        "id": "vfCIs0hsqb9K",
        "outputId": "5dcb39ed-73b2-4aac-a2f4-dc994b14b20a",
        "colab": {
          "base_uri": "https://localhost:8080/"
        }
      },
      "source": [
        "pd.date_range(\"2018-1-1\", \"2018-12-31\", freq=\"Q-DEC\")"
      ],
      "execution_count": 15,
      "outputs": [
        {
          "output_type": "execute_result",
          "data": {
            "text/plain": [
              "DatetimeIndex(['2018-03-31', '2018-06-30', '2018-09-30', '2018-12-31'], dtype='datetime64[ns]', freq='Q-DEC')"
            ]
          },
          "metadata": {
            "tags": []
          },
          "execution_count": 15
        }
      ]
    },
    {
      "cell_type": "markdown",
      "metadata": {
        "school_cell_uuid": "6c52ae3d5ccb4f9ea14aa8673c287d85",
        "id": "YKiPr4OWqb9K"
      },
      "source": [
        "## `shift` 연산"
      ]
    },
    {
      "cell_type": "markdown",
      "metadata": {
        "school_cell_uuid": "ed3a5e938ba64f5484ea726069fa8e97",
        "id": "lWHGLuE-qb9L"
      },
      "source": [
        "시계열 데이터의 인덱스는 시간이나 날짜를 나타내기 때문에 날짜 이동 등의 다양한 연산이 가능하다. 예를 들어 `shift` 연산을 사용하면 인덱스는 그대로 두고 데이터만 이동할 수도 있다."
      ]
    },
    {
      "cell_type": "code",
      "metadata": {
        "school_cell_uuid": "7c4b915c88ee4be28a67786ceb1ff69e",
        "id": "ZXeHpHkDqb9L",
        "outputId": "2ee0bb7d-649e-4de0-b807-df13703d550e",
        "colab": {
          "base_uri": "https://localhost:8080/"
        }
      },
      "source": [
        "np.random.seed(0)\n",
        "ts = pd.Series(np.random.randn(4), index=pd.date_range(\n",
        "    \"2018-1-1\", periods=4, freq=\"M\"))\n",
        "ts"
      ],
      "execution_count": 16,
      "outputs": [
        {
          "output_type": "execute_result",
          "data": {
            "text/plain": [
              "2018-01-31    1.764052\n",
              "2018-02-28    0.400157\n",
              "2018-03-31    0.978738\n",
              "2018-04-30    2.240893\n",
              "Freq: M, dtype: float64"
            ]
          },
          "metadata": {
            "tags": []
          },
          "execution_count": 16
        }
      ]
    },
    {
      "cell_type": "code",
      "metadata": {
        "school_cell_uuid": "6bce1f04b30f495f8e90b11739a7f921",
        "id": "l4Z2hbBHqb9M",
        "outputId": "e5075969-5b65-4823-cb3b-1857a4879966",
        "colab": {
          "base_uri": "https://localhost:8080/"
        }
      },
      "source": [
        "ts.shift(1)"
      ],
      "execution_count": 17,
      "outputs": [
        {
          "output_type": "execute_result",
          "data": {
            "text/plain": [
              "2018-01-31         NaN\n",
              "2018-02-28    1.764052\n",
              "2018-03-31    0.400157\n",
              "2018-04-30    0.978738\n",
              "Freq: M, dtype: float64"
            ]
          },
          "metadata": {
            "tags": []
          },
          "execution_count": 17
        }
      ]
    },
    {
      "cell_type": "code",
      "metadata": {
        "school_cell_uuid": "9bf7c19b851a44df95d38a9e5180baa5",
        "id": "CHT_hinDqb9N",
        "outputId": "feaa2e87-ead7-4b34-96d1-7a26457e3828",
        "colab": {
          "base_uri": "https://localhost:8080/"
        }
      },
      "source": [
        "ts.shift(-1)"
      ],
      "execution_count": 18,
      "outputs": [
        {
          "output_type": "execute_result",
          "data": {
            "text/plain": [
              "2018-01-31    0.400157\n",
              "2018-02-28    0.978738\n",
              "2018-03-31    2.240893\n",
              "2018-04-30         NaN\n",
              "Freq: M, dtype: float64"
            ]
          },
          "metadata": {
            "tags": []
          },
          "execution_count": 18
        }
      ]
    },
    {
      "cell_type": "code",
      "metadata": {
        "school_cell_uuid": "bf53db50efff4a0b9ff686300dc6a1c4",
        "id": "XOyuWCTkqb9N",
        "outputId": "05a376f9-99f2-4909-ffad-6c25b9165708",
        "colab": {
          "base_uri": "https://localhost:8080/"
        }
      },
      "source": [
        "ts.shift(1, freq=\"M\")"
      ],
      "execution_count": 19,
      "outputs": [
        {
          "output_type": "execute_result",
          "data": {
            "text/plain": [
              "2018-02-28    1.764052\n",
              "2018-03-31    0.400157\n",
              "2018-04-30    0.978738\n",
              "2018-05-31    2.240893\n",
              "Freq: M, dtype: float64"
            ]
          },
          "metadata": {
            "tags": []
          },
          "execution_count": 19
        }
      ]
    },
    {
      "cell_type": "code",
      "metadata": {
        "id": "w7ubAobJqb9O",
        "outputId": "3fac0d3b-9304-48e9-ab7e-aadce04034d4",
        "colab": {
          "base_uri": "https://localhost:8080/"
        }
      },
      "source": [
        "ts.shift(1, freq=\"W\")"
      ],
      "execution_count": 20,
      "outputs": [
        {
          "output_type": "execute_result",
          "data": {
            "text/plain": [
              "2018-02-04    1.764052\n",
              "2018-03-04    0.400157\n",
              "2018-04-01    0.978738\n",
              "2018-05-06    2.240893\n",
              "dtype: float64"
            ]
          },
          "metadata": {
            "tags": []
          },
          "execution_count": 20
        }
      ]
    },
    {
      "cell_type": "markdown",
      "metadata": {
        "school_cell_uuid": "770673825a1a40d0b6741808a628edfa",
        "id": "kB6iPtwGqb9P"
      },
      "source": [
        "## `resample` 연산"
      ]
    },
    {
      "cell_type": "markdown",
      "metadata": {
        "school_cell_uuid": "1c1b825db0d3484e8f778e5bb2496d10",
        "id": "Ih5-u7QXqb9P"
      },
      "source": [
        "`resample` 연산을 쓰면 시간 간격을 재조정하는 리샘플링(resampling)이 가능하다. 이 때 시간 구간이 작아지면 데이터 양이 증가한다고 해서 업-샘플링(up-sampling)이라 하고 시간 구간이 커지면 데이터 양이 감소한다고 해서 다운-샘플링(down-sampling)이라 부른다."
      ]
    },
    {
      "cell_type": "code",
      "metadata": {
        "school_cell_uuid": "c0ce7a3b53954f87abbbe4dbd23ffbd2",
        "id": "XPXxv55Wqb9P",
        "outputId": "8a767a68-d907-4205-d58a-b018fe6bd308",
        "colab": {
          "base_uri": "https://localhost:8080/"
        }
      },
      "source": [
        "ts = pd.Series(np.random.randn(100), index=pd.date_range(\n",
        "    \"2018-1-1\", periods=100, freq=\"D\"))\n",
        "ts.tail(20)"
      ],
      "execution_count": 21,
      "outputs": [
        {
          "output_type": "execute_result",
          "data": {
            "text/plain": [
              "2018-03-22    1.488252\n",
              "2018-03-23    1.895889\n",
              "2018-03-24    1.178780\n",
              "2018-03-25   -0.179925\n",
              "2018-03-26   -1.070753\n",
              "2018-03-27    1.054452\n",
              "2018-03-28   -0.403177\n",
              "2018-03-29    1.222445\n",
              "2018-03-30    0.208275\n",
              "2018-03-31    0.976639\n",
              "2018-04-01    0.356366\n",
              "2018-04-02    0.706573\n",
              "2018-04-03    0.010500\n",
              "2018-04-04    1.785870\n",
              "2018-04-05    0.126912\n",
              "2018-04-06    0.401989\n",
              "2018-04-07    1.883151\n",
              "2018-04-08   -1.347759\n",
              "2018-04-09   -1.270485\n",
              "2018-04-10    0.969397\n",
              "Freq: D, dtype: float64"
            ]
          },
          "metadata": {
            "tags": []
          },
          "execution_count": 21
        }
      ]
    },
    {
      "cell_type": "markdown",
      "metadata": {
        "school_cell_uuid": "76ed6719f0974c1b9c0380feb5bec180",
        "id": "jWeW1n91qb9Q"
      },
      "source": [
        "다운-샘플링의 경우에는 원래의 데이터가 그룹으로 묶이기 때문에 그룹바이(groupby)때와 같이 그룹 연산을 해서 대표값을 구해야 한다."
      ]
    },
    {
      "cell_type": "code",
      "metadata": {
        "school_cell_uuid": "293752ebf54641fc831846a7ead19096",
        "id": "HpHM9QKKqb9R",
        "outputId": "2e455959-1c4d-4638-b095-a417b1bfb855",
        "colab": {
          "base_uri": "https://localhost:8080/"
        }
      },
      "source": [
        "ts.resample('W').mean()"
      ],
      "execution_count": 22,
      "outputs": [
        {
          "output_type": "execute_result",
          "data": {
            "text/plain": [
              "2018-01-07    0.305776\n",
              "2018-01-14    0.629064\n",
              "2018-01-21   -0.006910\n",
              "2018-01-28    0.277065\n",
              "2018-02-04   -0.144972\n",
              "2018-02-11   -0.496299\n",
              "2018-02-18   -0.474473\n",
              "2018-02-25   -0.201222\n",
              "2018-03-04   -0.775142\n",
              "2018-03-11    0.052868\n",
              "2018-03-18   -0.450379\n",
              "2018-03-25    0.601892\n",
              "2018-04-01    0.334893\n",
              "2018-04-08    0.509605\n",
              "2018-04-15   -0.150544\n",
              "Freq: W-SUN, dtype: float64"
            ]
          },
          "metadata": {
            "tags": []
          },
          "execution_count": 22
        }
      ]
    },
    {
      "cell_type": "code",
      "metadata": {
        "school_cell_uuid": "d7c9890078004169b34a557164f129f5",
        "id": "OdgUhKp3qb9R",
        "outputId": "e584f680-9fcf-4b49-f7f1-7874851c0738",
        "colab": {
          "base_uri": "https://localhost:8080/"
        }
      },
      "source": [
        "ts.resample('M').first()"
      ],
      "execution_count": 23,
      "outputs": [
        {
          "output_type": "execute_result",
          "data": {
            "text/plain": [
              "2018-01-31    1.867558\n",
              "2018-02-28    0.156349\n",
              "2018-03-31   -1.726283\n",
              "2018-04-30    0.356366\n",
              "Freq: M, dtype: float64"
            ]
          },
          "metadata": {
            "tags": []
          },
          "execution_count": 23
        }
      ]
    },
    {
      "cell_type": "markdown",
      "metadata": {
        "school_cell_uuid": "12f3a566eb4c41738797e094843d0f43",
        "id": "Rn51HDc-qb9S"
      },
      "source": [
        "날짜가 아닌 시/분 단위에서는 구간위 왼쪽 한계값(가장 빠른 값)은 포함하고 오른쪽 한계값(가장 늦은 값)은 포함하지 않는다. 즉, 가장 늦은 값은 다음 구간에 포함된다. 예를 들어 10분 간격으로 구간을 만들면 10의 배수가 되는 시각은 구간의 시작점이 된다."
      ]
    },
    {
      "cell_type": "code",
      "metadata": {
        "school_cell_uuid": "be97af4119bd46d69d249294de2dba1c",
        "id": "FfyGmFm7qb9T",
        "outputId": "f259737b-463f-4e34-c0dc-c0ba6833d03a",
        "colab": {
          "base_uri": "https://localhost:8080/"
        }
      },
      "source": [
        "ts = pd.Series(np.random.randn(60), index=pd.date_range(\n",
        "    \"2018-1-1\", periods=60, freq=\"T\"))\n",
        "ts.head(20)"
      ],
      "execution_count": 24,
      "outputs": [
        {
          "output_type": "execute_result",
          "data": {
            "text/plain": [
              "2018-01-01 00:00:00   -1.173123\n",
              "2018-01-01 00:01:00    1.943621\n",
              "2018-01-01 00:02:00   -0.413619\n",
              "2018-01-01 00:03:00   -0.747455\n",
              "2018-01-01 00:04:00    1.922942\n",
              "2018-01-01 00:05:00    1.480515\n",
              "2018-01-01 00:06:00    1.867559\n",
              "2018-01-01 00:07:00    0.906045\n",
              "2018-01-01 00:08:00   -0.861226\n",
              "2018-01-01 00:09:00    1.910065\n",
              "2018-01-01 00:10:00   -0.268003\n",
              "2018-01-01 00:11:00    0.802456\n",
              "2018-01-01 00:12:00    0.947252\n",
              "2018-01-01 00:13:00   -0.155010\n",
              "2018-01-01 00:14:00    0.614079\n",
              "2018-01-01 00:15:00    0.922207\n",
              "2018-01-01 00:16:00    0.376426\n",
              "2018-01-01 00:17:00   -1.099401\n",
              "2018-01-01 00:18:00    0.298238\n",
              "2018-01-01 00:19:00    1.326386\n",
              "Freq: T, dtype: float64"
            ]
          },
          "metadata": {
            "tags": []
          },
          "execution_count": 24
        }
      ]
    },
    {
      "cell_type": "code",
      "metadata": {
        "school_cell_uuid": "9080aeb351774c32923d54a62b0b9340",
        "id": "49OQsHtsqb9T",
        "outputId": "8e941933-86db-4adc-e2e6-5bcc13384cb0",
        "colab": {
          "base_uri": "https://localhost:8080/"
        }
      },
      "source": [
        "ts.resample('10T').sum()"
      ],
      "execution_count": 25,
      "outputs": [
        {
          "output_type": "execute_result",
          "data": {
            "text/plain": [
              "2018-01-01 00:00:00    6.835324\n",
              "2018-01-01 00:10:00    3.764630\n",
              "2018-01-01 00:20:00    0.776495\n",
              "2018-01-01 00:30:00   -0.538336\n",
              "2018-01-01 00:40:00    1.828234\n",
              "2018-01-01 00:50:00    0.167957\n",
              "Freq: 10T, dtype: float64"
            ]
          },
          "metadata": {
            "tags": []
          },
          "execution_count": 25
        }
      ]
    },
    {
      "cell_type": "markdown",
      "metadata": {
        "school_cell_uuid": "d56640fdc6454a4ab6fc13d6037ef192",
        "id": "UM46GgxIqb9U"
      },
      "source": [
        "왼쪽이 아니라 오른쪽 한계값을 구간에 포함하려면 `closed=\"right\"` 인수를 사용한다. 이 때는 10의 배수가 되는 시각이 앞 구간에 포함된다."
      ]
    },
    {
      "cell_type": "code",
      "metadata": {
        "school_cell_uuid": "6b979c1732e947d2a6b4f210a8acd1f7",
        "id": "lFOavJUtqb9V",
        "outputId": "69695e8c-ff95-4374-8046-a4e74f7932f5",
        "colab": {
          "base_uri": "https://localhost:8080/"
        }
      },
      "source": [
        "ts.resample('10T', closed=\"right\").sum()"
      ],
      "execution_count": 26,
      "outputs": [
        {
          "output_type": "execute_result",
          "data": {
            "text/plain": [
              "2017-12-31 23:50:00   -1.173123\n",
              "2018-01-01 00:00:00    7.740444\n",
              "2018-01-01 00:10:00    3.338065\n",
              "2018-01-01 00:20:00    0.835217\n",
              "2018-01-01 00:30:00    2.480654\n",
              "2018-01-01 00:40:00   -0.653363\n",
              "2018-01-01 00:50:00    0.266409\n",
              "Freq: 10T, dtype: float64"
            ]
          },
          "metadata": {
            "tags": []
          },
          "execution_count": 26
        }
      ]
    },
    {
      "cell_type": "markdown",
      "metadata": {
        "school_cell_uuid": "f941fd4732304035af2977ec9164f5a2",
        "id": "x9ilp_hYqb9V"
      },
      "source": [
        "`ohlc` 메서드는 구간의 시고저종(open, high, low, close)값을 구한다."
      ]
    },
    {
      "cell_type": "code",
      "metadata": {
        "school_cell_uuid": "07e0baad82574cf98d4c79a68b43e41f",
        "id": "XSrKB7QQqb9W",
        "outputId": "cf6fe85b-a7d7-4ce6-a848-6cd25def349b",
        "colab": {
          "base_uri": "https://localhost:8080/",
          "height": 420
        }
      },
      "source": [
        "ts.resample('5T').ohlc()"
      ],
      "execution_count": 27,
      "outputs": [
        {
          "output_type": "execute_result",
          "data": {
            "text/html": [
              "<div>\n",
              "<style scoped>\n",
              "    .dataframe tbody tr th:only-of-type {\n",
              "        vertical-align: middle;\n",
              "    }\n",
              "\n",
              "    .dataframe tbody tr th {\n",
              "        vertical-align: top;\n",
              "    }\n",
              "\n",
              "    .dataframe thead th {\n",
              "        text-align: right;\n",
              "    }\n",
              "</style>\n",
              "<table border=\"1\" class=\"dataframe\">\n",
              "  <thead>\n",
              "    <tr style=\"text-align: right;\">\n",
              "      <th></th>\n",
              "      <th>open</th>\n",
              "      <th>high</th>\n",
              "      <th>low</th>\n",
              "      <th>close</th>\n",
              "    </tr>\n",
              "  </thead>\n",
              "  <tbody>\n",
              "    <tr>\n",
              "      <th>2018-01-01 00:00:00</th>\n",
              "      <td>-1.173123</td>\n",
              "      <td>1.943621</td>\n",
              "      <td>-1.173123</td>\n",
              "      <td>1.922942</td>\n",
              "    </tr>\n",
              "    <tr>\n",
              "      <th>2018-01-01 00:05:00</th>\n",
              "      <td>1.480515</td>\n",
              "      <td>1.910065</td>\n",
              "      <td>-0.861226</td>\n",
              "      <td>1.910065</td>\n",
              "    </tr>\n",
              "    <tr>\n",
              "      <th>2018-01-01 00:10:00</th>\n",
              "      <td>-0.268003</td>\n",
              "      <td>0.947252</td>\n",
              "      <td>-0.268003</td>\n",
              "      <td>0.614079</td>\n",
              "    </tr>\n",
              "    <tr>\n",
              "      <th>2018-01-01 00:15:00</th>\n",
              "      <td>0.922207</td>\n",
              "      <td>1.326386</td>\n",
              "      <td>-1.099401</td>\n",
              "      <td>1.326386</td>\n",
              "    </tr>\n",
              "    <tr>\n",
              "      <th>2018-01-01 00:20:00</th>\n",
              "      <td>-0.694568</td>\n",
              "      <td>1.849264</td>\n",
              "      <td>-0.694568</td>\n",
              "      <td>0.672295</td>\n",
              "    </tr>\n",
              "    <tr>\n",
              "      <th>2018-01-01 00:25:00</th>\n",
              "      <td>0.407462</td>\n",
              "      <td>0.539249</td>\n",
              "      <td>-0.769916</td>\n",
              "      <td>0.031831</td>\n",
              "    </tr>\n",
              "    <tr>\n",
              "      <th>2018-01-01 00:30:00</th>\n",
              "      <td>-0.635846</td>\n",
              "      <td>0.676433</td>\n",
              "      <td>-0.635846</td>\n",
              "      <td>0.396007</td>\n",
              "    </tr>\n",
              "    <tr>\n",
              "      <th>2018-01-01 00:35:00</th>\n",
              "      <td>-1.093062</td>\n",
              "      <td>0.635031</td>\n",
              "      <td>-1.491258</td>\n",
              "      <td>0.635031</td>\n",
              "    </tr>\n",
              "    <tr>\n",
              "      <th>2018-01-01 00:40:00</th>\n",
              "      <td>2.383145</td>\n",
              "      <td>2.383145</td>\n",
              "      <td>-1.315907</td>\n",
              "      <td>-1.315907</td>\n",
              "    </tr>\n",
              "    <tr>\n",
              "      <th>2018-01-01 00:45:00</th>\n",
              "      <td>-0.461585</td>\n",
              "      <td>1.713343</td>\n",
              "      <td>-0.826439</td>\n",
              "      <td>-0.826439</td>\n",
              "    </tr>\n",
              "    <tr>\n",
              "      <th>2018-01-01 00:50:00</th>\n",
              "      <td>-0.098453</td>\n",
              "      <td>1.126636</td>\n",
              "      <td>-1.147469</td>\n",
              "      <td>-1.147469</td>\n",
              "    </tr>\n",
              "    <tr>\n",
              "      <th>2018-01-01 00:55:00</th>\n",
              "      <td>-0.437820</td>\n",
              "      <td>1.929532</td>\n",
              "      <td>-0.498032</td>\n",
              "      <td>0.087551</td>\n",
              "    </tr>\n",
              "  </tbody>\n",
              "</table>\n",
              "</div>"
            ],
            "text/plain": [
              "                         open      high       low     close\n",
              "2018-01-01 00:00:00 -1.173123  1.943621 -1.173123  1.922942\n",
              "2018-01-01 00:05:00  1.480515  1.910065 -0.861226  1.910065\n",
              "2018-01-01 00:10:00 -0.268003  0.947252 -0.268003  0.614079\n",
              "2018-01-01 00:15:00  0.922207  1.326386 -1.099401  1.326386\n",
              "2018-01-01 00:20:00 -0.694568  1.849264 -0.694568  0.672295\n",
              "2018-01-01 00:25:00  0.407462  0.539249 -0.769916  0.031831\n",
              "2018-01-01 00:30:00 -0.635846  0.676433 -0.635846  0.396007\n",
              "2018-01-01 00:35:00 -1.093062  0.635031 -1.491258  0.635031\n",
              "2018-01-01 00:40:00  2.383145  2.383145 -1.315907 -1.315907\n",
              "2018-01-01 00:45:00 -0.461585  1.713343 -0.826439 -0.826439\n",
              "2018-01-01 00:50:00 -0.098453  1.126636 -1.147469 -1.147469\n",
              "2018-01-01 00:55:00 -0.437820  1.929532 -0.498032  0.087551"
            ]
          },
          "metadata": {
            "tags": []
          },
          "execution_count": 27
        }
      ]
    },
    {
      "cell_type": "markdown",
      "metadata": {
        "school_cell_uuid": "5b4fb3fee379420e83812348e7d74b14",
        "id": "vV9gbqr1qb9X"
      },
      "source": [
        "업-샘플링의 경우에는 실제로 존재하지 않는 데이터를 만들어야 한다. 이 때는 앞에서 나온 데이터를 뒤에서 그대로 쓰는 forward filling 방식과 뒤에서 나올 데이터를 앞에서 미리 쓰는 backward filling 방식을 사용할 수 있다. 각각 `ffill`, `bfill` 메서드를 이용한다."
      ]
    },
    {
      "cell_type": "code",
      "metadata": {
        "school_cell_uuid": "4e4dfa87aaa84d9fac24a26a07c56c0f",
        "id": "zUtHVSAuqb9Y",
        "outputId": "5637eac1-ec2e-4c4f-a3cf-a07959d6e899",
        "colab": {
          "base_uri": "https://localhost:8080/"
        }
      },
      "source": [
        "ts.resample('30s').ffill().head(20)"
      ],
      "execution_count": 28,
      "outputs": [
        {
          "output_type": "execute_result",
          "data": {
            "text/plain": [
              "2018-01-01 00:00:00   -1.173123\n",
              "2018-01-01 00:00:30   -1.173123\n",
              "2018-01-01 00:01:00    1.943621\n",
              "2018-01-01 00:01:30    1.943621\n",
              "2018-01-01 00:02:00   -0.413619\n",
              "2018-01-01 00:02:30   -0.413619\n",
              "2018-01-01 00:03:00   -0.747455\n",
              "2018-01-01 00:03:30   -0.747455\n",
              "2018-01-01 00:04:00    1.922942\n",
              "2018-01-01 00:04:30    1.922942\n",
              "2018-01-01 00:05:00    1.480515\n",
              "2018-01-01 00:05:30    1.480515\n",
              "2018-01-01 00:06:00    1.867559\n",
              "2018-01-01 00:06:30    1.867559\n",
              "2018-01-01 00:07:00    0.906045\n",
              "2018-01-01 00:07:30    0.906045\n",
              "2018-01-01 00:08:00   -0.861226\n",
              "2018-01-01 00:08:30   -0.861226\n",
              "2018-01-01 00:09:00    1.910065\n",
              "2018-01-01 00:09:30    1.910065\n",
              "Freq: 30S, dtype: float64"
            ]
          },
          "metadata": {
            "tags": []
          },
          "execution_count": 28
        }
      ]
    },
    {
      "cell_type": "code",
      "metadata": {
        "school_cell_uuid": "e5d35e6fc62b455a97fc164c48a13489",
        "id": "Bz4lJg2pqb9Y",
        "outputId": "4180d27b-ba0f-4171-a5fd-3b88be92f832",
        "colab": {
          "base_uri": "https://localhost:8080/"
        }
      },
      "source": [
        "ts.resample('30s').bfill().head(20)"
      ],
      "execution_count": 29,
      "outputs": [
        {
          "output_type": "execute_result",
          "data": {
            "text/plain": [
              "2018-01-01 00:00:00   -1.173123\n",
              "2018-01-01 00:00:30    1.943621\n",
              "2018-01-01 00:01:00    1.943621\n",
              "2018-01-01 00:01:30   -0.413619\n",
              "2018-01-01 00:02:00   -0.413619\n",
              "2018-01-01 00:02:30   -0.747455\n",
              "2018-01-01 00:03:00   -0.747455\n",
              "2018-01-01 00:03:30    1.922942\n",
              "2018-01-01 00:04:00    1.922942\n",
              "2018-01-01 00:04:30    1.480515\n",
              "2018-01-01 00:05:00    1.480515\n",
              "2018-01-01 00:05:30    1.867559\n",
              "2018-01-01 00:06:00    1.867559\n",
              "2018-01-01 00:06:30    0.906045\n",
              "2018-01-01 00:07:00    0.906045\n",
              "2018-01-01 00:07:30   -0.861226\n",
              "2018-01-01 00:08:00   -0.861226\n",
              "2018-01-01 00:08:30    1.910065\n",
              "2018-01-01 00:09:00    1.910065\n",
              "2018-01-01 00:09:30   -0.268003\n",
              "Freq: 30S, dtype: float64"
            ]
          },
          "metadata": {
            "tags": []
          },
          "execution_count": 29
        }
      ]
    },
    {
      "cell_type": "markdown",
      "metadata": {
        "id": "FuI1P1FIqb9Z"
      },
      "source": [
        "## `dt` 접근자"
      ]
    },
    {
      "cell_type": "markdown",
      "metadata": {
        "id": "k398sVacqb9Z"
      },
      "source": [
        "datetime 자료형 시리즈에는 dt 접근자가 있어 datetime 자료형이 가진 몇가지 유용한 속성과 메서드를 사용할 수 있다."
      ]
    },
    {
      "cell_type": "code",
      "metadata": {
        "id": "VlPgAEy2qb9a",
        "outputId": "23aa1ed4-1a25-45e6-9da8-7066e5745b4e",
        "colab": {
          "base_uri": "https://localhost:8080/"
        }
      },
      "source": [
        "s = pd.Series(pd.date_range(\"2020-12-25\", periods=100, freq=\"D\"))\n",
        "s"
      ],
      "execution_count": 30,
      "outputs": [
        {
          "output_type": "execute_result",
          "data": {
            "text/plain": [
              "0    2020-12-25\n",
              "1    2020-12-26\n",
              "2    2020-12-27\n",
              "3    2020-12-28\n",
              "4    2020-12-29\n",
              "        ...    \n",
              "95   2021-03-30\n",
              "96   2021-03-31\n",
              "97   2021-04-01\n",
              "98   2021-04-02\n",
              "99   2021-04-03\n",
              "Length: 100, dtype: datetime64[ns]"
            ]
          },
          "metadata": {
            "tags": []
          },
          "execution_count": 30
        }
      ]
    },
    {
      "cell_type": "markdown",
      "metadata": {
        "id": "opKRnnNDqb9b"
      },
      "source": [
        "예를 들어 `year`, `month`, `day`, `weekday` 등의 속성을 이용하면 년, 월, 일, 요일 정보를 빼낼 수 있다."
      ]
    },
    {
      "cell_type": "code",
      "metadata": {
        "id": "cRlvndakqb9b",
        "outputId": "90d96e21-ee77-45ff-9951-5b10a7c271c0",
        "colab": {
          "base_uri": "https://localhost:8080/"
        }
      },
      "source": [
        "s.dt.year"
      ],
      "execution_count": 31,
      "outputs": [
        {
          "output_type": "execute_result",
          "data": {
            "text/plain": [
              "0     2020\n",
              "1     2020\n",
              "2     2020\n",
              "3     2020\n",
              "4     2020\n",
              "      ... \n",
              "95    2021\n",
              "96    2021\n",
              "97    2021\n",
              "98    2021\n",
              "99    2021\n",
              "Length: 100, dtype: int64"
            ]
          },
          "metadata": {
            "tags": []
          },
          "execution_count": 31
        }
      ]
    },
    {
      "cell_type": "code",
      "metadata": {
        "id": "o-NMmFDEqb9c",
        "outputId": "243697eb-1068-4359-d1bb-706df88cbf26",
        "colab": {
          "base_uri": "https://localhost:8080/"
        }
      },
      "source": [
        "s.dt.weekday"
      ],
      "execution_count": 32,
      "outputs": [
        {
          "output_type": "execute_result",
          "data": {
            "text/plain": [
              "0     4\n",
              "1     5\n",
              "2     6\n",
              "3     0\n",
              "4     1\n",
              "     ..\n",
              "95    1\n",
              "96    2\n",
              "97    3\n",
              "98    4\n",
              "99    5\n",
              "Length: 100, dtype: int64"
            ]
          },
          "metadata": {
            "tags": []
          },
          "execution_count": 32
        }
      ]
    },
    {
      "cell_type": "markdown",
      "metadata": {
        "id": "CoOE6jN3qb9d"
      },
      "source": [
        "`strftime` 메서드를 이용하여 문자열을 만드는 것도 가능하다."
      ]
    },
    {
      "cell_type": "code",
      "metadata": {
        "id": "NU2-2VoZqb9e",
        "outputId": "9702ea33-19ae-423b-8338-aeec984f7943",
        "colab": {
          "base_uri": "https://localhost:8080/"
        }
      },
      "source": [
        "s.dt.strftime(\"%Y년 %m월 %d일\")"
      ],
      "execution_count": 33,
      "outputs": [
        {
          "output_type": "execute_result",
          "data": {
            "text/plain": [
              "0     2020년 12월 25일\n",
              "1     2020년 12월 26일\n",
              "2     2020년 12월 27일\n",
              "3     2020년 12월 28일\n",
              "4     2020년 12월 29일\n",
              "          ...      \n",
              "95    2021년 03월 30일\n",
              "96    2021년 03월 31일\n",
              "97    2021년 04월 01일\n",
              "98    2021년 04월 02일\n",
              "99    2021년 04월 03일\n",
              "Length: 100, dtype: object"
            ]
          },
          "metadata": {
            "tags": []
          },
          "execution_count": 33
        }
      ]
    },
    {
      "cell_type": "markdown",
      "metadata": {
        "id": "JIuhlrfdqb9e"
      },
      "source": [
        "````{admonition} 연습 문제 4.8.1\n",
        "\n",
        "다음 명령으로 만들어진 데이터프레임에 대해 월별 value의 합계를 구하라.\n",
        "(힌트: `groupby` 메서드와 `dt` 접근자를 사용하라)\n",
        "\n",
        "```\n",
        "np.random.seed(0)\n",
        "df = pd.DataFrame({\n",
        "    \"date\": pd.date_range(\"2020-12-25\", periods=100, freq=\"D\"), \n",
        "    \"value\": np.random.randint(100, size=(100,))\n",
        "})\n",
        "```\n",
        "````"
      ]
    },
    {
      "cell_type": "code",
      "metadata": {
        "id": "0C2zHozTqb9f",
        "outputId": "6254df19-ff2c-42a7-b1f3-2206cffdd7ce",
        "colab": {
          "base_uri": "https://localhost:8080/",
          "height": 417
        }
      },
      "source": [
        "np.random.seed(0)\r\n",
        "df = pd.DataFrame({\r\n",
        "    \"date\": pd.date_range(\"2020-12-25\", periods=100, freq=\"D\"), \r\n",
        "    \"value\": np.random.randint(100, size=(100,))\r\n",
        "})\r\n",
        "df"
      ],
      "execution_count": 35,
      "outputs": [
        {
          "output_type": "execute_result",
          "data": {
            "text/html": [
              "<div>\n",
              "<style scoped>\n",
              "    .dataframe tbody tr th:only-of-type {\n",
              "        vertical-align: middle;\n",
              "    }\n",
              "\n",
              "    .dataframe tbody tr th {\n",
              "        vertical-align: top;\n",
              "    }\n",
              "\n",
              "    .dataframe thead th {\n",
              "        text-align: right;\n",
              "    }\n",
              "</style>\n",
              "<table border=\"1\" class=\"dataframe\">\n",
              "  <thead>\n",
              "    <tr style=\"text-align: right;\">\n",
              "      <th></th>\n",
              "      <th>date</th>\n",
              "      <th>value</th>\n",
              "    </tr>\n",
              "  </thead>\n",
              "  <tbody>\n",
              "    <tr>\n",
              "      <th>0</th>\n",
              "      <td>2020-12-25</td>\n",
              "      <td>44</td>\n",
              "    </tr>\n",
              "    <tr>\n",
              "      <th>1</th>\n",
              "      <td>2020-12-26</td>\n",
              "      <td>47</td>\n",
              "    </tr>\n",
              "    <tr>\n",
              "      <th>2</th>\n",
              "      <td>2020-12-27</td>\n",
              "      <td>64</td>\n",
              "    </tr>\n",
              "    <tr>\n",
              "      <th>3</th>\n",
              "      <td>2020-12-28</td>\n",
              "      <td>67</td>\n",
              "    </tr>\n",
              "    <tr>\n",
              "      <th>4</th>\n",
              "      <td>2020-12-29</td>\n",
              "      <td>67</td>\n",
              "    </tr>\n",
              "    <tr>\n",
              "      <th>...</th>\n",
              "      <td>...</td>\n",
              "      <td>...</td>\n",
              "    </tr>\n",
              "    <tr>\n",
              "      <th>95</th>\n",
              "      <td>2021-03-30</td>\n",
              "      <td>23</td>\n",
              "    </tr>\n",
              "    <tr>\n",
              "      <th>96</th>\n",
              "      <td>2021-03-31</td>\n",
              "      <td>79</td>\n",
              "    </tr>\n",
              "    <tr>\n",
              "      <th>97</th>\n",
              "      <td>2021-04-01</td>\n",
              "      <td>13</td>\n",
              "    </tr>\n",
              "    <tr>\n",
              "      <th>98</th>\n",
              "      <td>2021-04-02</td>\n",
              "      <td>85</td>\n",
              "    </tr>\n",
              "    <tr>\n",
              "      <th>99</th>\n",
              "      <td>2021-04-03</td>\n",
              "      <td>48</td>\n",
              "    </tr>\n",
              "  </tbody>\n",
              "</table>\n",
              "<p>100 rows × 2 columns</p>\n",
              "</div>"
            ],
            "text/plain": [
              "         date  value\n",
              "0  2020-12-25     44\n",
              "1  2020-12-26     47\n",
              "2  2020-12-27     64\n",
              "3  2020-12-28     67\n",
              "4  2020-12-29     67\n",
              "..        ...    ...\n",
              "95 2021-03-30     23\n",
              "96 2021-03-31     79\n",
              "97 2021-04-01     13\n",
              "98 2021-04-02     85\n",
              "99 2021-04-03     48\n",
              "\n",
              "[100 rows x 2 columns]"
            ]
          },
          "metadata": {
            "tags": []
          },
          "execution_count": 35
        }
      ]
    },
    {
      "cell_type": "code",
      "metadata": {
        "id": "0MwMXIXJVICT",
        "outputId": "304873d6-6fc5-4318-ee08-778f861ede70",
        "colab": {
          "base_uri": "https://localhost:8080/",
          "height": 234
        }
      },
      "source": [
        "df.index = df['date']\r\n",
        "df.resample('M').sum()\r\n"
      ],
      "execution_count": 42,
      "outputs": [
        {
          "output_type": "execute_result",
          "data": {
            "text/html": [
              "<div>\n",
              "<style scoped>\n",
              "    .dataframe tbody tr th:only-of-type {\n",
              "        vertical-align: middle;\n",
              "    }\n",
              "\n",
              "    .dataframe tbody tr th {\n",
              "        vertical-align: top;\n",
              "    }\n",
              "\n",
              "    .dataframe thead th {\n",
              "        text-align: right;\n",
              "    }\n",
              "</style>\n",
              "<table border=\"1\" class=\"dataframe\">\n",
              "  <thead>\n",
              "    <tr style=\"text-align: right;\">\n",
              "      <th></th>\n",
              "      <th>value</th>\n",
              "    </tr>\n",
              "    <tr>\n",
              "      <th>date</th>\n",
              "      <th></th>\n",
              "    </tr>\n",
              "  </thead>\n",
              "  <tbody>\n",
              "    <tr>\n",
              "      <th>2020-12-31</th>\n",
              "      <td>381</td>\n",
              "    </tr>\n",
              "    <tr>\n",
              "      <th>2021-01-31</th>\n",
              "      <td>1811</td>\n",
              "    </tr>\n",
              "    <tr>\n",
              "      <th>2021-02-28</th>\n",
              "      <td>985</td>\n",
              "    </tr>\n",
              "    <tr>\n",
              "      <th>2021-03-31</th>\n",
              "      <td>1500</td>\n",
              "    </tr>\n",
              "    <tr>\n",
              "      <th>2021-04-30</th>\n",
              "      <td>146</td>\n",
              "    </tr>\n",
              "  </tbody>\n",
              "</table>\n",
              "</div>"
            ],
            "text/plain": [
              "            value\n",
              "date             \n",
              "2020-12-31    381\n",
              "2021-01-31   1811\n",
              "2021-02-28    985\n",
              "2021-03-31   1500\n",
              "2021-04-30    146"
            ]
          },
          "metadata": {
            "tags": []
          },
          "execution_count": 42
        }
      ]
    }
  ]
}