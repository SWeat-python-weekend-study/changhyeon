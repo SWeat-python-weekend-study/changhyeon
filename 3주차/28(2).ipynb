{
  "nbformat": 4,
  "nbformat_minor": 0,
  "metadata": {
    "kernelspec": {
      "display_name": "Python 3",
      "language": "python",
      "name": "python3"
    },
    "language_info": {
      "codemirror_mode": {
        "name": "ipython",
        "version": 3
      },
      "file_extension": ".py",
      "mimetype": "text/x-python",
      "name": "python",
      "nbconvert_exporter": "python",
      "pygments_lexer": "ipython3",
      "version": "3.7.6"
    },
    "latex_envs": {
      "LaTeX_envs_menu_present": true,
      "autoclose": false,
      "autocomplete": true,
      "bibliofile": "biblio.bib",
      "cite_by": "apalike",
      "current_citInitial": 1,
      "eqLabelWithNumbers": true,
      "eqNumInitial": 1,
      "hotkeys": {
        "equation": "Ctrl-E",
        "itemize": "Ctrl-I"
      },
      "labels_anchors": false,
      "latex_user_defs": false,
      "report_style_numbering": false,
      "user_envs_cfg": false
    },
    "colab": {
      "name": "05.01 시각화 패키지 맷플롯리브 소개.ipynb의 사본",
      "provenance": [],
      "include_colab_link": true
    }
  },
  "cells": [
    {
      "cell_type": "markdown",
      "metadata": {
        "id": "view-in-github",
        "colab_type": "text"
      },
      "source": [
        "<a href=\"https://colab.research.google.com/github/SWeat-python-weekend-study/changhyeon/blob/main/3%EC%A3%BC%EC%B0%A8/28(2).ipynb\" target=\"_parent\"><img src=\"https://colab.research.google.com/assets/colab-badge.svg\" alt=\"Open In Colab\"/></a>"
      ]
    },
    {
      "cell_type": "markdown",
      "metadata": {
        "school_cell_uuid": "4ec1dba0d165424e821c5028c9d468e6",
        "id": "Z9RtxSQJtSs1"
      },
      "source": [
        "# 4.1 시각화 패키지 맷플롯리브 소개"
      ]
    },
    {
      "cell_type": "markdown",
      "metadata": {
        "school_cell_uuid": "89acff444b2c4866932cb9e95f82f2a2",
        "id": "hu3JI1natStB"
      },
      "source": [
        "맷플롯리브(Matplotlib)는 파이썬에서 **자료를 차트(chart)나 플롯(plot)으로 시각화하는 패키지**이다.\n",
        "맷플롯리브는 다음과 같은 정형화된 차트나 플롯 이외에도 저수준 API를 사용한 다양한 시각화 기능을 제공한다.\n",
        "\n",
        "* 라인 플롯(line plot)\n",
        "* 스캐터 플롯(scatter plot)\n",
        "* 컨투어 플롯(contour plot)\n",
        "* 서피스 플롯(surface plot)\n",
        "* 바 차트(bar chart)\n",
        "* 히스토그램(histogram)\n",
        "* 박스 플롯(box plot)\n"
      ]
    },
    {
      "cell_type": "markdown",
      "metadata": {
        "school_cell_uuid": "71b481443c72480981f6f7d15d461d25",
        "id": "HPgSOQUztStC"
      },
      "source": [
        "맷플롯리브를 사용한 시각화 예제들을 보고 싶다면 맷플롯리브 갤러리 웹사이트를 방문한다.\n",
        "\n",
        "* [http://matplotlib.org/gallery.html](http://matplotlib.org/gallery.html)"
      ]
    },
    {
      "cell_type": "markdown",
      "metadata": {
        "school_cell_uuid": "136849bd95f54cf0aac383303984bdea",
        "id": "U5F5ib7jtStD"
      },
      "source": [
        "## pyplot 서브패키지"
      ]
    },
    {
      "cell_type": "markdown",
      "metadata": {
        "id": "y4GLAE44tStD"
      },
      "source": [
        "```{margin}\n",
        "pyplot 서브패키지\n",
        "```"
      ]
    },
    {
      "cell_type": "markdown",
      "metadata": {
        "school_cell_uuid": "9d482c02836942569f53027f94e758af",
        "id": "gjQrkuwctStE"
      },
      "source": [
        "맷플롯리브 패키지에는 pyplot 라는 서브패키지가 존재한다. 이 pyplot 서브패키지는 매트랩(matlab) 이라는 수치해석 소프트웨어의 시각화 명령을 거의 그대로 사용할 수 있도록 맷플롯리브 의 하위 API를 포장(wrapping)한 명령어 집합을 제공한다. 간단한 시각화 프로그램을 만드는 경우에는 pyplot 서브패키지의 명령만으로도 충분하다. 다음에 설명할 명령어들도 별도의 설명이 없으면 pyplot 패키지의 명령라고 생각하면 된다.\n",
        "\n",
        "맷플롯리브 패키지를 사용할 때는 보통 다음과 같이 주 패키지는 `mpl` 이라는 별칭(alias)으로 임포트하고 pyplot 서브패키지는 `plt` 라는 다른 별칭으로 임포트하여 사용하는 것이 관례이므로 여기에서도 이러한 방법을 사용한다."
      ]
    },
    {
      "cell_type": "markdown",
      "metadata": {
        "school_cell_uuid": "ccdce73bf40c4005a2ba891dd22d8dce",
        "id": "v7y5G5VetStF"
      },
      "source": [
        "```\n",
        "import matplotlib as mpl\n",
        "import matplotlib.pyplot as plt\n",
        "```"
      ]
    },
    {
      "cell_type": "code",
      "metadata": {
        "id": "z1kTnG40tjUo"
      },
      "source": [
        "import matplotlib as mpl\r\n",
        "import matplotlib.pyplot as plt"
      ],
      "execution_count": 1,
      "outputs": []
    },
    {
      "cell_type": "code",
      "metadata": {
        "id": "FvYv6QKcvj3h"
      },
      "source": [
        "import pandas as pd\r\n",
        "import numpy as np"
      ],
      "execution_count": 2,
      "outputs": []
    },
    {
      "cell_type": "markdown",
      "metadata": {
        "id": "brHgUIUVtStF"
      },
      "source": [
        "```{margin}\n",
        "`%matplotlib`\n",
        "```"
      ]
    },
    {
      "cell_type": "markdown",
      "metadata": {
        "school_cell_uuid": "0673e9552e8940e29bf3b896097fa930",
        "id": "XLnKAsM2tStG"
      },
      "source": [
        "주피터 노트북을 사용하는 경우에는 다음처럼 `%matplotlib` 매직(magic) 명령으로 노트북 내부에 그림을 표시하도록 지정해야 한다.\n"
      ]
    },
    {
      "cell_type": "markdown",
      "metadata": {
        "id": "QLvutL_5tStH"
      },
      "source": [
        "```\n",
        "%matplotlib inline\n",
        "```"
      ]
    },
    {
      "cell_type": "markdown",
      "metadata": {
        "school_cell_uuid": "e5a532e576b347ba84c2d620716c2447",
        "id": "qJct4W_AtStI"
      },
      "source": [
        "## 라인 플롯"
      ]
    },
    {
      "cell_type": "markdown",
      "metadata": {
        "id": "159JZs_2tStI"
      },
      "source": [
        "```{margin}\n",
        "`plot`\n",
        "```"
      ]
    },
    {
      "cell_type": "markdown",
      "metadata": {
        "school_cell_uuid": "7084de697f0941829297af3049e628e9",
        "id": "73YIbWFjtStJ"
      },
      "source": [
        "가장 간단한 플롯은 선을 그리는 라인 플롯(line plot)이다. 라인 플롯은 데이터가 시간, 순서 등에 따라 어떻게 변화하는지 보여주기 위해 사용한다.\n",
        "\n",
        "명령은 pyplot 서브패키지의 `plot` 명령을 사용한다.\n",
        "\n",
        "* [http://matplotlib.org/api/pyplot_api.html#matplotlib.pyplot.plot](http://matplotlib.org/api/pyplot_api.html#matplotlib.pyplot.plot)\n",
        "\n",
        "만약 데이터가 1, 4, 9, 16 으로 변화하였다면 다음과 같이 `plot` 명령에 데이터 리스트 혹은 `ndarray` 객체를 넘긴다."
      ]
    },
    {
      "cell_type": "code",
      "metadata": {
        "school_cell_uuid": "b0200931f608466881b25eb3e7f7a540",
        "id": "0FTMEziMtStK",
        "colab": {
          "base_uri": "https://localhost:8080/",
          "height": 281
        },
        "outputId": "6b6f2df2-12f7-46f9-f778-13da19ab451a"
      },
      "source": [
        "plt.title(\"Plot\")\n",
        "plt.plot([1, 4, 9, 16])\n",
        "plt.show()"
      ],
      "execution_count": 3,
      "outputs": [
        {
          "output_type": "display_data",
          "data": {
            "image/png": "[encoded data removed]",
            "text/plain": [
              "<Figure size 432x288 with 1 Axes>"
            ]
          },
          "metadata": {
            "tags": [],
            "needs_background": "light"
          }
        }
      ]
    },
    {
      "cell_type": "markdown",
      "metadata": {
        "school_cell_uuid": "304aa797096e4ba5849f4d8cadba93c2",
        "id": "emdxOTnEtStM"
      },
      "source": [
        "이 때 x 축의 자료 위치 즉, 틱(tick)은 자동으로 0, 1, 2, 3 이 된다. 만약 이 x tick 위치를 별도로 명시하고 싶다면 다음과 같이 두 개의 같은 길이의 리스트 혹은 배열 자료를 넣는다."
      ]
    },
    {
      "cell_type": "markdown",
      "metadata": {
        "id": "A7GQvRI1tStN"
      },
      "source": [
        "```{margin}\n",
        "`title`\n",
        "```"
      ]
    },
    {
      "cell_type": "markdown",
      "metadata": {
        "id": "0AjuY80htStN"
      },
      "source": [
        "`title` 함수는 제목을 표시한다."
      ]
    },
    {
      "cell_type": "markdown",
      "metadata": {
        "id": "sl4S9PG3tStN"
      },
      "source": [
        "```{margin}\n",
        "`show`\n",
        "```"
      ]
    },
    {
      "cell_type": "markdown",
      "metadata": {
        "school_cell_uuid": "e16a9eec2b264b4da7d482299f866289",
        "id": "eRj6mFlotStO"
      },
      "source": [
        "`show` 함수는 시각화 명령을 **실제로 차트로 렌더링(rendering)하고 마우스 움직임 등의 이벤트를 기다리라는 지시**이다.\n",
        "주피터 노트북에서는 셀 단위로 플롯 명령을 자동 렌더링 해주므로 `show` 명령이 필요없지만 일반 파이썬 인터프리터로 가동되는 경우를 대비하여 항상 마지막에 실행하도록 한다. `show` 명령을 주면 마지막 플롯 명령으로부터 반환된 플롯 객체의 표현도 가려주는 효과가 있다."
      ]
    },
    {
      "cell_type": "code",
      "metadata": {
        "school_cell_uuid": "1ee241b5b2e74435a340998e94e84dfd",
        "id": "VpeEYRcWtStO",
        "colab": {
          "base_uri": "https://localhost:8080/",
          "height": 281
        },
        "outputId": "2a084be7-2b85-4d2c-ef6e-6eeeb7b3d79e"
      },
      "source": [
        "plt.title(\"x ticks\")\n",
        "plt.plot([10, 20, 30, 40], [1, 4, 9, 16])\n",
        "plt.show()"
      ],
      "execution_count": 4,
      "outputs": [
        {
          "output_type": "display_data",
          "data": {
            "image/png": "[encoded data removed]",
            "text/plain": [
              "<Figure size 432x288 with 1 Axes>"
            ]
          },
          "metadata": {
            "tags": [],
            "needs_background": "light"
          }
        }
      ]
    },
    {
      "cell_type": "markdown",
      "metadata": {
        "school_cell_uuid": "00700e2246fa4cd199e912b1d54188c0",
        "id": "Pa5wigdztStP"
      },
      "source": [
        "## 한글폰트 사용"
      ]
    },
    {
      "cell_type": "markdown",
      "metadata": {
        "school_cell_uuid": "687f00feaa434d37a5dc8202fca0cc13",
        "id": "VXsNfVl0tStQ"
      },
      "source": [
        "맷플롯리브에서 한글을 사용하려면 다음과 같이 한글 폰트를 적용해야 한다. 당연히 해당 폰트는 컴퓨터에 깔려 있어야 한다. 여기에서는 나눔고딕 폰트를 사용하였다. 나눔고딕 폰트 설치법은 다음과 같다.\n",
        "\n",
        "* 윈도우/맥\n",
        "\n",
        "  * [http://hangeul.naver.com/2017/nanum](http://hangeul.naver.com/2017/nanum) 에서 폰트 인스톨러를 내려받아 실행한다.\n",
        "    \n",
        "* 리눅스\n",
        "\n",
        "  * 콘솔에서 다음과 같이 실행한다.\n",
        "    \n",
        "    \n",
        "```\n",
        "sudo apt install -y fonts-nanum*\n",
        "sudo fc-cache -fv\n",
        "rm ~/.cache/matplotlib -rf\n",
        "```"
      ]
    },
    {
      "cell_type": "code",
      "metadata": {
        "id": "4vxMZWO5u2LI",
        "colab": {
          "base_uri": "https://localhost:8080/"
        },
        "outputId": "13f9d3a6-7aa0-46a8-dba3-2922eedac6af"
      },
      "source": [
        "!sudo apt-get install -y fonts-nanum\r\n",
        "!sudo fc-cache -fv\r\n",
        "!rm ~/.cache/matplotlib -rf"
      ],
      "execution_count": 5,
      "outputs": [
        {
          "output_type": "stream",
          "text": [
            "Reading package lists... Done\n",
            "Building dependency tree       \n",
            "Reading state information... Done\n",
            "The following NEW packages will be installed:\n",
            "  fonts-nanum\n",
            "0 upgraded, 1 newly installed, 0 to remove and 13 not upgraded.\n",
            "Need to get 9,604 kB of archives.\n",
            "After this operation, 29.5 MB of additional disk space will be used.\n",
            "Get:1 http://archive.ubuntu.com/ubuntu bionic/universe amd64 fonts-nanum all 20170925-1 [9,604 kB]\n",
            "Fetched 9,604 kB in 1s (8,794 kB/s)\n",
            "debconf: unable to initialize frontend: Dialog\n",
            "debconf: (No usable dialog-like program is installed, so the dialog based frontend cannot be used. at /usr/share/perl5/Debconf/FrontEnd/Dialog.pm line 76, <> line 1.)\n",
            "debconf: falling back to frontend: Readline\n",
            "debconf: unable to initialize frontend: Readline\n",
            "debconf: (This frontend requires a controlling tty.)\n",
            "debconf: falling back to frontend: Teletype\n",
            "dpkg-preconfigure: unable to re-open stdin: \n",
            "Selecting previously unselected package fonts-nanum.\n",
            "(Reading database ... 149406 files and directories currently installed.)\n",
            "Preparing to unpack .../fonts-nanum_20170925-1_all.deb ...\n",
            "Unpacking fonts-nanum (20170925-1) ...\n",
            "Setting up fonts-nanum (20170925-1) ...\n",
            "Processing triggers for fontconfig (2.12.6-0ubuntu2) ...\n",
            "/usr/share/fonts: caching, new cache contents: 0 fonts, 1 dirs\n",
            "/usr/share/fonts/truetype: caching, new cache contents: 0 fonts, 3 dirs\n",
            "/usr/share/fonts/truetype/humor-sans: caching, new cache contents: 1 fonts, 0 dirs\n",
            "/usr/share/fonts/truetype/liberation: caching, new cache contents: 16 fonts, 0 dirs\n",
            "/usr/share/fonts/truetype/nanum: caching, new cache contents: 10 fonts, 0 dirs\n",
            "/usr/local/share/fonts: caching, new cache contents: 0 fonts, 0 dirs\n",
            "/root/.local/share/fonts: skipping, no such directory\n",
            "/root/.fonts: skipping, no such directory\n",
            "/var/cache/fontconfig: cleaning cache directory\n",
            "/root/.cache/fontconfig: not cleaning non-existent cache directory\n",
            "/root/.fontconfig: not cleaning non-existent cache directory\n",
            "fc-cache: succeeded\n"
          ],
          "name": "stdout"
        }
      ]
    },
    {
      "cell_type": "markdown",
      "metadata": {
        "school_cell_uuid": "d1e2538692844c548267c0f37b711555",
        "id": "7jSnh7sBtStR"
      },
      "source": [
        "폰트를 설치한 후에는 다음 명령으로 원하는 폰트가 설치되어 있는지 확인한다."
      ]
    },
    {
      "cell_type": "code",
      "metadata": {
        "id": "fy4mkED9tStR",
        "colab": {
          "base_uri": "https://localhost:8080/",
          "height": 377
        },
        "outputId": "47eccfd1-5b12-4df9-b438-97c42ce13c1e"
      },
      "source": [
        "import matplotlib.font_manager\n",
        "\n",
        "matplotlib.font_manager._rebuild()\n",
        "sorted([f.name for f in matplotlib.font_manager.fontManager.ttflist if f.name.startswith(\"Nanum\")])"
      ],
      "execution_count": 23,
      "outputs": [
        {
          "output_type": "error",
          "ename": "FileNotFoundError",
          "evalue": "ignored",
          "traceback": [
            "\u001b[0;31m---------------------------------------------------------------------------\u001b[0m",
            "\u001b[0;31mFileNotFoundError\u001b[0m                         Traceback (most recent call last)",
            "\u001b[0;32m<ipython-input-23-d177ac58c42e>\u001b[0m in \u001b[0;36m<module>\u001b[0;34m()\u001b[0m\n\u001b[1;32m      1\u001b[0m \u001b[0;32mimport\u001b[0m \u001b[0mmatplotlib\u001b[0m\u001b[0;34m.\u001b[0m\u001b[0mfont_manager\u001b[0m\u001b[0;34m\u001b[0m\u001b[0;34m\u001b[0m\u001b[0m\n\u001b[1;32m      2\u001b[0m \u001b[0;34m\u001b[0m\u001b[0m\n\u001b[0;32m----> 3\u001b[0;31m \u001b[0mmatplotlib\u001b[0m\u001b[0;34m.\u001b[0m\u001b[0mfont_manager\u001b[0m\u001b[0;34m.\u001b[0m\u001b[0m_rebuild\u001b[0m\u001b[0;34m(\u001b[0m\u001b[0;34m)\u001b[0m\u001b[0;34m\u001b[0m\u001b[0;34m\u001b[0m\u001b[0m\n\u001b[0m\u001b[1;32m      4\u001b[0m \u001b[0msorted\u001b[0m\u001b[0;34m(\u001b[0m\u001b[0;34m[\u001b[0m\u001b[0mf\u001b[0m\u001b[0;34m.\u001b[0m\u001b[0mname\u001b[0m \u001b[0;32mfor\u001b[0m \u001b[0mf\u001b[0m \u001b[0;32min\u001b[0m \u001b[0mmatplotlib\u001b[0m\u001b[0;34m.\u001b[0m\u001b[0mfont_manager\u001b[0m\u001b[0;34m.\u001b[0m\u001b[0mfontManager\u001b[0m\u001b[0;34m.\u001b[0m\u001b[0mttflist\u001b[0m \u001b[0;32mif\u001b[0m \u001b[0mf\u001b[0m\u001b[0;34m.\u001b[0m\u001b[0mname\u001b[0m\u001b[0;34m.\u001b[0m\u001b[0mstartswith\u001b[0m\u001b[0;34m(\u001b[0m\u001b[0;34m\"Nanum\"\u001b[0m\u001b[0;34m)\u001b[0m\u001b[0;34m]\u001b[0m\u001b[0;34m)\u001b[0m\u001b[0;34m\u001b[0m\u001b[0;34m\u001b[0m\u001b[0m\n",
            "\u001b[0;32m/usr/local/lib/python3.7/dist-packages/matplotlib/font_manager.py\u001b[0m in \u001b[0;36m_rebuild\u001b[0;34m()\u001b[0m\n\u001b[1;32m   1333\u001b[0m     \u001b[0;32mglobal\u001b[0m \u001b[0mfontManager\u001b[0m\u001b[0;34m\u001b[0m\u001b[0;34m\u001b[0m\u001b[0m\n\u001b[1;32m   1334\u001b[0m     \u001b[0mfontManager\u001b[0m \u001b[0;34m=\u001b[0m \u001b[0mFontManager\u001b[0m\u001b[0;34m(\u001b[0m\u001b[0;34m)\u001b[0m\u001b[0;34m\u001b[0m\u001b[0;34m\u001b[0m\u001b[0m\n\u001b[0;32m-> 1335\u001b[0;31m     \u001b[0;32mwith\u001b[0m \u001b[0mcbook\u001b[0m\u001b[0;34m.\u001b[0m\u001b[0m_lock_path\u001b[0m\u001b[0;34m(\u001b[0m\u001b[0m_fmcache\u001b[0m\u001b[0;34m)\u001b[0m\u001b[0;34m:\u001b[0m\u001b[0;34m\u001b[0m\u001b[0;34m\u001b[0m\u001b[0m\n\u001b[0m\u001b[1;32m   1336\u001b[0m         \u001b[0mjson_dump\u001b[0m\u001b[0;34m(\u001b[0m\u001b[0mfontManager\u001b[0m\u001b[0;34m,\u001b[0m \u001b[0m_fmcache\u001b[0m\u001b[0;34m)\u001b[0m\u001b[0;34m\u001b[0m\u001b[0;34m\u001b[0m\u001b[0m\n\u001b[1;32m   1337\u001b[0m     \u001b[0m_log\u001b[0m\u001b[0;34m.\u001b[0m\u001b[0minfo\u001b[0m\u001b[0;34m(\u001b[0m\u001b[0;34m\"generated new fontManager\"\u001b[0m\u001b[0;34m)\u001b[0m\u001b[0;34m\u001b[0m\u001b[0;34m\u001b[0m\u001b[0m\n",
            "\u001b[0;32m/usr/lib/python3.7/contextlib.py\u001b[0m in \u001b[0;36m__enter__\u001b[0;34m(self)\u001b[0m\n\u001b[1;32m    110\u001b[0m         \u001b[0;32mdel\u001b[0m \u001b[0mself\u001b[0m\u001b[0;34m.\u001b[0m\u001b[0margs\u001b[0m\u001b[0;34m,\u001b[0m \u001b[0mself\u001b[0m\u001b[0;34m.\u001b[0m\u001b[0mkwds\u001b[0m\u001b[0;34m,\u001b[0m \u001b[0mself\u001b[0m\u001b[0;34m.\u001b[0m\u001b[0mfunc\u001b[0m\u001b[0;34m\u001b[0m\u001b[0;34m\u001b[0m\u001b[0m\n\u001b[1;32m    111\u001b[0m         \u001b[0;32mtry\u001b[0m\u001b[0;34m:\u001b[0m\u001b[0;34m\u001b[0m\u001b[0;34m\u001b[0m\u001b[0m\n\u001b[0;32m--> 112\u001b[0;31m             \u001b[0;32mreturn\u001b[0m \u001b[0mnext\u001b[0m\u001b[0;34m(\u001b[0m\u001b[0mself\u001b[0m\u001b[0;34m.\u001b[0m\u001b[0mgen\u001b[0m\u001b[0;34m)\u001b[0m\u001b[0;34m\u001b[0m\u001b[0;34m\u001b[0m\u001b[0m\n\u001b[0m\u001b[1;32m    113\u001b[0m         \u001b[0;32mexcept\u001b[0m \u001b[0mStopIteration\u001b[0m\u001b[0;34m:\u001b[0m\u001b[0;34m\u001b[0m\u001b[0;34m\u001b[0m\u001b[0m\n\u001b[1;32m    114\u001b[0m             \u001b[0;32mraise\u001b[0m \u001b[0mRuntimeError\u001b[0m\u001b[0;34m(\u001b[0m\u001b[0;34m\"generator didn't yield\"\u001b[0m\u001b[0;34m)\u001b[0m \u001b[0;32mfrom\u001b[0m \u001b[0;32mNone\u001b[0m\u001b[0;34m\u001b[0m\u001b[0;34m\u001b[0m\u001b[0m\n",
            "\u001b[0;32m/usr/local/lib/python3.7/dist-packages/matplotlib/cbook/__init__.py\u001b[0m in \u001b[0;36m_lock_path\u001b[0;34m(path)\u001b[0m\n\u001b[1;32m   1819\u001b[0m     \u001b[0;32mfor\u001b[0m \u001b[0m_\u001b[0m \u001b[0;32min\u001b[0m \u001b[0mrange\u001b[0m\u001b[0;34m(\u001b[0m\u001b[0mretries\u001b[0m\u001b[0;34m)\u001b[0m\u001b[0;34m:\u001b[0m\u001b[0;34m\u001b[0m\u001b[0;34m\u001b[0m\u001b[0m\n\u001b[1;32m   1820\u001b[0m         \u001b[0;32mtry\u001b[0m\u001b[0;34m:\u001b[0m\u001b[0;34m\u001b[0m\u001b[0;34m\u001b[0m\u001b[0m\n\u001b[0;32m-> 1821\u001b[0;31m             \u001b[0;32mwith\u001b[0m \u001b[0mlock_path\u001b[0m\u001b[0;34m.\u001b[0m\u001b[0mopen\u001b[0m\u001b[0;34m(\u001b[0m\u001b[0;34m\"xb\"\u001b[0m\u001b[0;34m)\u001b[0m\u001b[0;34m:\u001b[0m\u001b[0;34m\u001b[0m\u001b[0;34m\u001b[0m\u001b[0m\n\u001b[0m\u001b[1;32m   1822\u001b[0m                 \u001b[0;32mbreak\u001b[0m\u001b[0;34m\u001b[0m\u001b[0;34m\u001b[0m\u001b[0m\n\u001b[1;32m   1823\u001b[0m         \u001b[0;32mexcept\u001b[0m \u001b[0mFileExistsError\u001b[0m\u001b[0;34m:\u001b[0m\u001b[0;34m\u001b[0m\u001b[0;34m\u001b[0m\u001b[0m\n",
            "\u001b[0;32m/usr/lib/python3.7/pathlib.py\u001b[0m in \u001b[0;36mopen\u001b[0;34m(self, mode, buffering, encoding, errors, newline)\u001b[0m\n\u001b[1;32m   1206\u001b[0m             \u001b[0mself\u001b[0m\u001b[0;34m.\u001b[0m\u001b[0m_raise_closed\u001b[0m\u001b[0;34m(\u001b[0m\u001b[0;34m)\u001b[0m\u001b[0;34m\u001b[0m\u001b[0;34m\u001b[0m\u001b[0m\n\u001b[1;32m   1207\u001b[0m         return io.open(self, mode, buffering, encoding, errors, newline,\n\u001b[0;32m-> 1208\u001b[0;31m                        opener=self._opener)\n\u001b[0m\u001b[1;32m   1209\u001b[0m \u001b[0;34m\u001b[0m\u001b[0m\n\u001b[1;32m   1210\u001b[0m     \u001b[0;32mdef\u001b[0m \u001b[0mread_bytes\u001b[0m\u001b[0;34m(\u001b[0m\u001b[0mself\u001b[0m\u001b[0;34m)\u001b[0m\u001b[0;34m:\u001b[0m\u001b[0;34m\u001b[0m\u001b[0;34m\u001b[0m\u001b[0m\n",
            "\u001b[0;32m/usr/lib/python3.7/pathlib.py\u001b[0m in \u001b[0;36m_opener\u001b[0;34m(self, name, flags, mode)\u001b[0m\n\u001b[1;32m   1061\u001b[0m     \u001b[0;32mdef\u001b[0m \u001b[0m_opener\u001b[0m\u001b[0;34m(\u001b[0m\u001b[0mself\u001b[0m\u001b[0;34m,\u001b[0m \u001b[0mname\u001b[0m\u001b[0;34m,\u001b[0m \u001b[0mflags\u001b[0m\u001b[0;34m,\u001b[0m \u001b[0mmode\u001b[0m\u001b[0;34m=\u001b[0m\u001b[0;36m0o666\u001b[0m\u001b[0;34m)\u001b[0m\u001b[0;34m:\u001b[0m\u001b[0;34m\u001b[0m\u001b[0;34m\u001b[0m\u001b[0m\n\u001b[1;32m   1062\u001b[0m         \u001b[0;31m# A stub for the opener argument to built-in open()\u001b[0m\u001b[0;34m\u001b[0m\u001b[0;34m\u001b[0m\u001b[0;34m\u001b[0m\u001b[0m\n\u001b[0;32m-> 1063\u001b[0;31m         \u001b[0;32mreturn\u001b[0m \u001b[0mself\u001b[0m\u001b[0;34m.\u001b[0m\u001b[0m_accessor\u001b[0m\u001b[0;34m.\u001b[0m\u001b[0mopen\u001b[0m\u001b[0;34m(\u001b[0m\u001b[0mself\u001b[0m\u001b[0;34m,\u001b[0m \u001b[0mflags\u001b[0m\u001b[0;34m,\u001b[0m \u001b[0mmode\u001b[0m\u001b[0;34m)\u001b[0m\u001b[0;34m\u001b[0m\u001b[0;34m\u001b[0m\u001b[0m\n\u001b[0m\u001b[1;32m   1064\u001b[0m \u001b[0;34m\u001b[0m\u001b[0m\n\u001b[1;32m   1065\u001b[0m     \u001b[0;32mdef\u001b[0m \u001b[0m_raw_open\u001b[0m\u001b[0;34m(\u001b[0m\u001b[0mself\u001b[0m\u001b[0;34m,\u001b[0m \u001b[0mflags\u001b[0m\u001b[0;34m,\u001b[0m \u001b[0mmode\u001b[0m\u001b[0;34m=\u001b[0m\u001b[0;36m0o777\u001b[0m\u001b[0;34m)\u001b[0m\u001b[0;34m:\u001b[0m\u001b[0;34m\u001b[0m\u001b[0;34m\u001b[0m\u001b[0m\n",
            "\u001b[0;31mFileNotFoundError\u001b[0m: [Errno 2] No such file or directory: '/root/.cache/matplotlib/fontlist-v310.json.matplotlib-lock'"
          ]
        }
      ]
    },
    {
      "cell_type": "markdown",
      "metadata": {
        "school_cell_uuid": "3a9cfc1a9bb34cf4b43fc70defac395a",
        "id": "3-p4zqTZtStS"
      },
      "source": [
        "설치된 폰트를 사용하는 방법은 크게 두가지 이다.\n",
        "\n",
        "* rc parameter 설정으로 이후의 그림 전체에 적용\n",
        "* 인수를 사용하여 개별 텍스트 관련 명령에만 적용\n",
        "\n",
        "한글 문자열은 항상 유니코드를 사용해야 한다."
      ]
    },
    {
      "cell_type": "markdown",
      "metadata": {
        "school_cell_uuid": "53b07f22c29d4022af9bb0d3bea7f9fd",
        "id": "ns-mvuYNtStT"
      },
      "source": [
        "우선 rc parameter를 설정하여 이후의 그림 전체에 적용해 보자"
      ]
    },
    {
      "cell_type": "code",
      "metadata": {
        "school_cell_uuid": "036f9aa1614249d8812ed72a86f41bb5",
        "id": "AduKIQzNtStT"
      },
      "source": [
        "# 폰트 설정\n",
        "mpl.rc('font', family='NanumGothic')\n",
        "# 유니코드에서  음수 부호설정\n",
        "mpl.rc('axes', unicode_minus=False)"
      ],
      "execution_count": 25,
      "outputs": []
    },
    {
      "cell_type": "markdown",
      "metadata": {
        "id": "pFWPwVfUtStU"
      },
      "source": [
        "정상적으로 폰트가 설치되고 rc parameter가 제대로 설정되었다면 다음 코드를 실행하였을 때 한글이 잘 보여야 한다."
      ]
    },
    {
      "cell_type": "code",
      "metadata": {
        "school_cell_uuid": "ed0d6135b4fe4613a94d6cc0ec18befc",
        "id": "8K8Cv2nktStU",
        "colab": {
          "base_uri": "https://localhost:8080/",
          "height": 1000
        },
        "outputId": "d618747f-47ca-4c8c-b734-adbac673fe15"
      },
      "source": [
        "plt.title('한글 제목')\n",
        "plt.plot([10, 20, 30, 40], [1, 4, 9, 16])\n",
        "plt.xlabel(\"엑스축 라벨\")\n",
        "plt.ylabel(\"와이축 라벨\")\n",
        "plt.show()"
      ],
      "execution_count": 26,
      "outputs": [
        {
          "output_type": "stream",
          "text": [
            "/usr/local/lib/python3.7/dist-packages/matplotlib/backends/backend_agg.py:214: RuntimeWarning: Glyph 54620 missing from current font.\n",
            "  font.set_text(s, 0.0, flags=flags)\n",
            "/usr/local/lib/python3.7/dist-packages/matplotlib/backends/backend_agg.py:214: RuntimeWarning: Glyph 44544 missing from current font.\n",
            "  font.set_text(s, 0.0, flags=flags)\n",
            "/usr/local/lib/python3.7/dist-packages/matplotlib/backends/backend_agg.py:214: RuntimeWarning: Glyph 51228 missing from current font.\n",
            "  font.set_text(s, 0.0, flags=flags)\n",
            "/usr/local/lib/python3.7/dist-packages/matplotlib/backends/backend_agg.py:214: RuntimeWarning: Glyph 47785 missing from current font.\n",
            "  font.set_text(s, 0.0, flags=flags)\n",
            "/usr/local/lib/python3.7/dist-packages/matplotlib/backends/backend_agg.py:214: RuntimeWarning: Glyph 50641 missing from current font.\n",
            "  font.set_text(s, 0.0, flags=flags)\n",
            "/usr/local/lib/python3.7/dist-packages/matplotlib/backends/backend_agg.py:214: RuntimeWarning: Glyph 49828 missing from current font.\n",
            "  font.set_text(s, 0.0, flags=flags)\n",
            "/usr/local/lib/python3.7/dist-packages/matplotlib/backends/backend_agg.py:214: RuntimeWarning: Glyph 52629 missing from current font.\n",
            "  font.set_text(s, 0.0, flags=flags)\n",
            "/usr/local/lib/python3.7/dist-packages/matplotlib/backends/backend_agg.py:214: RuntimeWarning: Glyph 46972 missing from current font.\n",
            "  font.set_text(s, 0.0, flags=flags)\n",
            "/usr/local/lib/python3.7/dist-packages/matplotlib/backends/backend_agg.py:214: RuntimeWarning: Glyph 48296 missing from current font.\n",
            "  font.set_text(s, 0.0, flags=flags)\n",
            "/usr/local/lib/python3.7/dist-packages/matplotlib/backends/backend_agg.py:214: RuntimeWarning: Glyph 50752 missing from current font.\n",
            "  font.set_text(s, 0.0, flags=flags)\n",
            "/usr/local/lib/python3.7/dist-packages/matplotlib/backends/backend_agg.py:214: RuntimeWarning: Glyph 51060 missing from current font.\n",
            "  font.set_text(s, 0.0, flags=flags)\n",
            "/usr/local/lib/python3.7/dist-packages/matplotlib/backends/backend_agg.py:183: RuntimeWarning: Glyph 50641 missing from current font.\n",
            "  font.set_text(s, 0, flags=flags)\n",
            "/usr/local/lib/python3.7/dist-packages/matplotlib/backends/backend_agg.py:183: RuntimeWarning: Glyph 49828 missing from current font.\n",
            "  font.set_text(s, 0, flags=flags)\n",
            "/usr/local/lib/python3.7/dist-packages/matplotlib/backends/backend_agg.py:183: RuntimeWarning: Glyph 52629 missing from current font.\n",
            "  font.set_text(s, 0, flags=flags)\n",
            "/usr/local/lib/python3.7/dist-packages/matplotlib/backends/backend_agg.py:183: RuntimeWarning: Glyph 46972 missing from current font.\n",
            "  font.set_text(s, 0, flags=flags)\n",
            "/usr/local/lib/python3.7/dist-packages/matplotlib/backends/backend_agg.py:183: RuntimeWarning: Glyph 48296 missing from current font.\n",
            "  font.set_text(s, 0, flags=flags)\n",
            "/usr/local/lib/python3.7/dist-packages/matplotlib/backends/backend_agg.py:183: RuntimeWarning: Glyph 50752 missing from current font.\n",
            "  font.set_text(s, 0, flags=flags)\n",
            "/usr/local/lib/python3.7/dist-packages/matplotlib/backends/backend_agg.py:183: RuntimeWarning: Glyph 51060 missing from current font.\n",
            "  font.set_text(s, 0, flags=flags)\n",
            "/usr/local/lib/python3.7/dist-packages/matplotlib/backends/backend_agg.py:183: RuntimeWarning: Glyph 54620 missing from current font.\n",
            "  font.set_text(s, 0, flags=flags)\n",
            "/usr/local/lib/python3.7/dist-packages/matplotlib/backends/backend_agg.py:183: RuntimeWarning: Glyph 44544 missing from current font.\n",
            "  font.set_text(s, 0, flags=flags)\n",
            "/usr/local/lib/python3.7/dist-packages/matplotlib/backends/backend_agg.py:183: RuntimeWarning: Glyph 51228 missing from current font.\n",
            "  font.set_text(s, 0, flags=flags)\n",
            "/usr/local/lib/python3.7/dist-packages/matplotlib/backends/backend_agg.py:183: RuntimeWarning: Glyph 47785 missing from current font.\n",
            "  font.set_text(s, 0, flags=flags)\n"
          ],
          "name": "stderr"
        },
        {
          "output_type": "display_data",
          "data": {
            "image/png": "[encoded data removed]",
            "text/plain": [
              "<Figure size 432x288 with 1 Axes>"
            ]
          },
          "metadata": {
            "tags": [],
            "needs_background": "light"
          }
        }
      ]
    },
    {
      "cell_type": "markdown",
      "metadata": {
        "school_cell_uuid": "6f9e3b38762643ee968f256139673019",
        "id": "2JlTft2PtStV"
      },
      "source": [
        "만약 객체마다 별도의 폰트를 적용하고 싶을 때는 다음과 같이 폰트 패밀리, 색상, 크기를 정하여 플롯 명령의 `fontdict` 인수에 넣는다."
      ]
    },
    {
      "cell_type": "code",
      "metadata": {
        "school_cell_uuid": "f52681bde1ab4d71bf581bc8fca3cad8",
        "id": "gkTtUEemtStV",
        "colab": {
          "base_uri": "https://localhost:8080/",
          "height": 1000
        },
        "outputId": "d782f3f0-c1d4-4620-d842-3b794499fe0d"
      },
      "source": [
        "font1 = {'family': 'NanumMyeongjo', 'size': 24, \n",
        "         'color':  'black'}\n",
        "font2 = {'family': 'NanumBarunpen', 'size': 18, 'weight': 'bold',\n",
        "         'color':  'darkred'}\n",
        "font3 = {'family': 'NanumBarunGothic', 'size': 12, 'weight': 'light',\n",
        "         'color':  'blue'}\n",
        "\n",
        "plt.plot([10, 20, 30, 40], [1, 4, 9, 16])\n",
        "plt.title('한글 제목', fontdict=font1)\n",
        "plt.xlabel('엑스 축', fontdict=font2)\n",
        "plt.ylabel('와이 축', fontdict=font3)\n",
        "plt.show()"
      ],
      "execution_count": 9,
      "outputs": [
        {
          "output_type": "stream",
          "text": [
            "findfont: Font family ['NanumMyeongjo'] not found. Falling back to DejaVu Sans.\n",
            "/usr/local/lib/python3.7/dist-packages/matplotlib/backends/backend_agg.py:214: RuntimeWarning: Glyph 54620 missing from current font.\n",
            "  font.set_text(s, 0.0, flags=flags)\n",
            "/usr/local/lib/python3.7/dist-packages/matplotlib/backends/backend_agg.py:214: RuntimeWarning: Glyph 44544 missing from current font.\n",
            "  font.set_text(s, 0.0, flags=flags)\n",
            "/usr/local/lib/python3.7/dist-packages/matplotlib/backends/backend_agg.py:214: RuntimeWarning: Glyph 51228 missing from current font.\n",
            "  font.set_text(s, 0.0, flags=flags)\n",
            "/usr/local/lib/python3.7/dist-packages/matplotlib/backends/backend_agg.py:214: RuntimeWarning: Glyph 47785 missing from current font.\n",
            "  font.set_text(s, 0.0, flags=flags)\n",
            "findfont: Font family ['NanumBarunpen'] not found. Falling back to DejaVu Sans.\n",
            "/usr/local/lib/python3.7/dist-packages/matplotlib/backends/backend_agg.py:214: RuntimeWarning: Glyph 50641 missing from current font.\n",
            "  font.set_text(s, 0.0, flags=flags)\n",
            "/usr/local/lib/python3.7/dist-packages/matplotlib/backends/backend_agg.py:214: RuntimeWarning: Glyph 49828 missing from current font.\n",
            "  font.set_text(s, 0.0, flags=flags)\n",
            "/usr/local/lib/python3.7/dist-packages/matplotlib/backends/backend_agg.py:214: RuntimeWarning: Glyph 52629 missing from current font.\n",
            "  font.set_text(s, 0.0, flags=flags)\n",
            "findfont: Font family ['NanumBarunGothic'] not found. Falling back to DejaVu Sans.\n",
            "/usr/local/lib/python3.7/dist-packages/matplotlib/backends/backend_agg.py:214: RuntimeWarning: Glyph 50752 missing from current font.\n",
            "  font.set_text(s, 0.0, flags=flags)\n",
            "/usr/local/lib/python3.7/dist-packages/matplotlib/backends/backend_agg.py:214: RuntimeWarning: Glyph 51060 missing from current font.\n",
            "  font.set_text(s, 0.0, flags=flags)\n",
            "/usr/local/lib/python3.7/dist-packages/matplotlib/backends/backend_agg.py:183: RuntimeWarning: Glyph 50641 missing from current font.\n",
            "  font.set_text(s, 0, flags=flags)\n",
            "/usr/local/lib/python3.7/dist-packages/matplotlib/backends/backend_agg.py:183: RuntimeWarning: Glyph 49828 missing from current font.\n",
            "  font.set_text(s, 0, flags=flags)\n",
            "/usr/local/lib/python3.7/dist-packages/matplotlib/backends/backend_agg.py:183: RuntimeWarning: Glyph 52629 missing from current font.\n",
            "  font.set_text(s, 0, flags=flags)\n",
            "/usr/local/lib/python3.7/dist-packages/matplotlib/backends/backend_agg.py:183: RuntimeWarning: Glyph 50752 missing from current font.\n",
            "  font.set_text(s, 0, flags=flags)\n",
            "/usr/local/lib/python3.7/dist-packages/matplotlib/backends/backend_agg.py:183: RuntimeWarning: Glyph 51060 missing from current font.\n",
            "  font.set_text(s, 0, flags=flags)\n",
            "/usr/local/lib/python3.7/dist-packages/matplotlib/backends/backend_agg.py:183: RuntimeWarning: Glyph 54620 missing from current font.\n",
            "  font.set_text(s, 0, flags=flags)\n",
            "/usr/local/lib/python3.7/dist-packages/matplotlib/backends/backend_agg.py:183: RuntimeWarning: Glyph 44544 missing from current font.\n",
            "  font.set_text(s, 0, flags=flags)\n",
            "/usr/local/lib/python3.7/dist-packages/matplotlib/backends/backend_agg.py:183: RuntimeWarning: Glyph 51228 missing from current font.\n",
            "  font.set_text(s, 0, flags=flags)\n",
            "/usr/local/lib/python3.7/dist-packages/matplotlib/backends/backend_agg.py:183: RuntimeWarning: Glyph 47785 missing from current font.\n",
            "  font.set_text(s, 0, flags=flags)\n"
          ],
          "name": "stderr"
        },
        {
          "output_type": "display_data",
          "data": {
            "image/png": "[encoded data removed]",
            "text/plain": [
              "<Figure size 432x288 with 1 Axes>"
            ]
          },
          "metadata": {
            "tags": [],
            "needs_background": "light"
          }
        }
      ]
    },
    {
      "cell_type": "markdown",
      "metadata": {
        "school_cell_uuid": "5031b0ba96584e01a259f426adb4bebe",
        "id": "7sPBnPadtStW"
      },
      "source": [
        "## 스타일 지정"
      ]
    },
    {
      "cell_type": "markdown",
      "metadata": {
        "school_cell_uuid": "01b7b89afa084177993298aa03dd2e8c",
        "id": "DdqttvjotStX"
      },
      "source": [
        "플롯 명령어는 보는 사람이 그림을 더 알아보기 쉽게 하기 위해 다양한 스타일(style)을 지원한다. `plot` 명령어에서는 다음과 같이 추가 문자열 인수를 사용하여 스타일을 지원한다."
      ]
    },
    {
      "cell_type": "code",
      "metadata": {
        "school_cell_uuid": "ee5e7514f9a7403eab23fe6354d46858",
        "id": "JbJ0NJNHtStX",
        "colab": {
          "base_uri": "https://localhost:8080/",
          "height": 591
        },
        "outputId": "a917cd1f-fd24-4275-90b1-e9e3a5df46b5"
      },
      "source": [
        "plt.title(\"'rs--' 스타일의 plot \")\n",
        "plt.plot([10, 20, 30, 40], [1, 4, 9, 16], 'rs--')\n",
        "plt.show()"
      ],
      "execution_count": 10,
      "outputs": [
        {
          "output_type": "stream",
          "text": [
            "/usr/local/lib/python3.7/dist-packages/matplotlib/backends/backend_agg.py:214: RuntimeWarning: Glyph 49828 missing from current font.\n",
            "  font.set_text(s, 0.0, flags=flags)\n",
            "/usr/local/lib/python3.7/dist-packages/matplotlib/backends/backend_agg.py:214: RuntimeWarning: Glyph 53440 missing from current font.\n",
            "  font.set_text(s, 0.0, flags=flags)\n",
            "/usr/local/lib/python3.7/dist-packages/matplotlib/backends/backend_agg.py:214: RuntimeWarning: Glyph 51068 missing from current font.\n",
            "  font.set_text(s, 0.0, flags=flags)\n",
            "/usr/local/lib/python3.7/dist-packages/matplotlib/backends/backend_agg.py:214: RuntimeWarning: Glyph 51032 missing from current font.\n",
            "  font.set_text(s, 0.0, flags=flags)\n",
            "/usr/local/lib/python3.7/dist-packages/matplotlib/backends/backend_agg.py:183: RuntimeWarning: Glyph 49828 missing from current font.\n",
            "  font.set_text(s, 0, flags=flags)\n",
            "/usr/local/lib/python3.7/dist-packages/matplotlib/backends/backend_agg.py:183: RuntimeWarning: Glyph 53440 missing from current font.\n",
            "  font.set_text(s, 0, flags=flags)\n",
            "/usr/local/lib/python3.7/dist-packages/matplotlib/backends/backend_agg.py:183: RuntimeWarning: Glyph 51068 missing from current font.\n",
            "  font.set_text(s, 0, flags=flags)\n",
            "/usr/local/lib/python3.7/dist-packages/matplotlib/backends/backend_agg.py:183: RuntimeWarning: Glyph 51032 missing from current font.\n",
            "  font.set_text(s, 0, flags=flags)\n"
          ],
          "name": "stderr"
        },
        {
          "output_type": "display_data",
          "data": {
            "image/png": "[encoded data removed]",
            "text/plain": [
              "<Figure size 432x288 with 1 Axes>"
            ]
          },
          "metadata": {
            "tags": [],
            "needs_background": "light"
          }
        }
      ]
    },
    {
      "cell_type": "markdown",
      "metadata": {
        "school_cell_uuid": "35eb5cd08f374a289a861b243587ee49",
        "id": "ONlE2c2ztStY"
      },
      "source": [
        "스타일 문자열은 색깔(color), 마커(marker), 선 종류(line style)의 순서로 지정한다. 만약 이 중 일부가 생략되면 디폴트값이 적용된다."
      ]
    },
    {
      "cell_type": "markdown",
      "metadata": {
        "school_cell_uuid": "0f467bb64b9240d28ae7c0af7d5caacf",
        "id": "YVO1GkOMtStY"
      },
      "source": [
        "### 색깔"
      ]
    },
    {
      "cell_type": "markdown",
      "metadata": {
        "school_cell_uuid": "c3c3d74a3f324214967155f0da9f1426",
        "id": "BHdfCWYCtStY"
      },
      "source": [
        "색깔을 지정하는 방법은 색 이름 혹은 약자를 사용하거나 `#` 문자로 시작되는 RGB코드를 사용한다.\n",
        "\n",
        "자주 사용되는 색깔은 한글자 약자를 사용할 수 있으며 약자는 아래 표에 정리하였다. 전체 색깔 목록은 다음 웹사이트를 참조한다.\n",
        "\n",
        "* http://matplotlib.org/examples/color/named_colors.html\n",
        "\n",
        "| 문자열 | 약자 |\n",
        "|-|-|\n",
        "| `blue` | `b` |\n",
        "| `green` | `g` |\n",
        "| `red` | `r` |\n",
        "| `cyan` | `c` |\n",
        "| `magenta` | `m` |\n",
        "| `yellow` | `y` |\n",
        "| `black` | `k` |\n",
        "| `white` | `w` |\n"
      ]
    },
    {
      "cell_type": "markdown",
      "metadata": {
        "school_cell_uuid": "c21b5fb53a794ee4bbfd77aa1b0ba760",
        "id": "zKwxMmg-tStZ"
      },
      "source": [
        "### 마커"
      ]
    },
    {
      "cell_type": "markdown",
      "metadata": {
        "school_cell_uuid": "66d7050eb8df4930b3c4f921d9df6ef2",
        "id": "Mz-FgDlltStZ"
      },
      "source": [
        " 데이터 위치를 나타내는 기호를 마커(marker)라고 한다. 마커의 종류는 다음과 같다.\n",
        "\n",
        "| 마커 문자열 | 의미 |\n",
        "|-|-|\n",
        "| `.` | point marker  |\n",
        "| `,` | pixel marker |\n",
        "| `o` | circle marker |\n",
        "| `v` | triangle_down marker |\n",
        "| `^` | triangle_up marker |\n",
        "| `<` | triangle_left marker |\n",
        "| `>` | triangle_right marker |\n",
        "| `1` | tri_down marker |\n",
        "| `2` | tri_up marker |\n",
        "| `3` | tri_left marker |\n",
        "| `4` | tri_right marker |\n",
        "| `s` | square marker |\n",
        "| `p` | pentagon marker |\n",
        "| `*` | star marker |\n",
        "| `h` | hexagon1 marker |\n",
        "| `H` | hexagon2 marker |\n",
        "| `+` | plus marker |\n",
        "| `x` | x marker |\n",
        "| `D` | diamond marker |\n",
        "| `d` | thin_diamond marker |"
      ]
    },
    {
      "cell_type": "markdown",
      "metadata": {
        "school_cell_uuid": "8af88898a2c94bf3b01a81486a49378f",
        "id": "vXvziVnVtSta"
      },
      "source": [
        "### 선 스타일"
      ]
    },
    {
      "cell_type": "markdown",
      "metadata": {
        "school_cell_uuid": "e9e7b2c37dfc408382cd3f8a658e618e",
        "id": "tYnO-sfytSta"
      },
      "source": [
        "선 스타일에는 실선(solid), 대시선(dashed), 점선(dotted), 대시-점선(dash-dit) 이 있다. 지정 문자열은 다음과 같다.\n",
        "\n",
        "| 선 스타일 문자열 | 의미 |\n",
        "|-|-|\n",
        "| `-` |  solid line style\n",
        "| `--` |  dashed line style\n",
        "| `-.` |  dash-dot line style\n",
        "| `:` |  dotted line style"
      ]
    },
    {
      "cell_type": "markdown",
      "metadata": {
        "school_cell_uuid": "6a2aa7da863942caadec3228f1e92fef",
        "id": "h1v3fsTytStb"
      },
      "source": [
        "### 기타 스타일"
      ]
    },
    {
      "cell_type": "markdown",
      "metadata": {
        "school_cell_uuid": "b91cf1114f7447f38f9793ace56f8d68",
        "id": "fzgqLyOmtStb"
      },
      "source": [
        "라인 플롯에서는 앞서 설명한 세 가지 스타일 이외에도 여러가지 스타일을 지정할 수 있지만 이 경우에는 인수 이름을 정확하게 지정해야 한다. 사용할 수 있는 스타일 인수의 목록은 `matplotlib.lines.Line2D` 클래스에 대한 다음 웹사이트를 참조한다.\n",
        "\n",
        "* [http://matplotlib.org/api/lines_api.html#matplotlib.lines.Line2D](http://matplotlib.org/api/lines_api.html#matplotlib.lines.Line2D)\n",
        " \n",
        "라인 플롯에서 자주 사용되는 기타 스타일은 다음과 같다.\n",
        "\n",
        "| 스타일 문자열 | 약자 | 의미 |\n",
        "|-|-|-|\n",
        "| `color` | `c`  | 선 색깔 |\n",
        "| `linewidth` | `lw` | 선 굵기 |\n",
        "| `linestyle` | `ls` | 선 스타일 |\n",
        "| `marker` |   | 마커 종류 |\n",
        "| `markersize` | `ms`  | 마커 크기 |\n",
        "| `markeredgecolor` | `mec`   |\t마커 선 색깔 |\n",
        "| `markeredgewidth` | `mew`   |\t마커 선 굵기 |\n",
        "| `markerfacecolor` | `mfc`   |\t마커 내부 색깔 |\n"
      ]
    },
    {
      "cell_type": "code",
      "metadata": {
        "school_cell_uuid": "8216e4d114b04a69beb0b5d5c2dba4a6",
        "id": "QDu85Q_stStc",
        "colab": {
          "base_uri": "https://localhost:8080/",
          "height": 736
        },
        "outputId": "04688733-feb5-483b-9c3b-51612f128b96"
      },
      "source": [
        "plt.plot([10, 20, 30, 40], [1, 4, 9, 16], c=\"b\",\n",
        "         lw=5, ls=\"--\", marker=\"o\", ms=15, mec=\"g\", mew=5, mfc=\"r\")\n",
        "plt.title(\"스타일 적용 예\")\n",
        "plt.show()"
      ],
      "execution_count": 11,
      "outputs": [
        {
          "output_type": "stream",
          "text": [
            "/usr/local/lib/python3.7/dist-packages/matplotlib/backends/backend_agg.py:214: RuntimeWarning: Glyph 49828 missing from current font.\n",
            "  font.set_text(s, 0.0, flags=flags)\n",
            "/usr/local/lib/python3.7/dist-packages/matplotlib/backends/backend_agg.py:214: RuntimeWarning: Glyph 53440 missing from current font.\n",
            "  font.set_text(s, 0.0, flags=flags)\n",
            "/usr/local/lib/python3.7/dist-packages/matplotlib/backends/backend_agg.py:214: RuntimeWarning: Glyph 51068 missing from current font.\n",
            "  font.set_text(s, 0.0, flags=flags)\n",
            "/usr/local/lib/python3.7/dist-packages/matplotlib/backends/backend_agg.py:214: RuntimeWarning: Glyph 51201 missing from current font.\n",
            "  font.set_text(s, 0.0, flags=flags)\n",
            "/usr/local/lib/python3.7/dist-packages/matplotlib/backends/backend_agg.py:214: RuntimeWarning: Glyph 50857 missing from current font.\n",
            "  font.set_text(s, 0.0, flags=flags)\n",
            "/usr/local/lib/python3.7/dist-packages/matplotlib/backends/backend_agg.py:214: RuntimeWarning: Glyph 50696 missing from current font.\n",
            "  font.set_text(s, 0.0, flags=flags)\n",
            "/usr/local/lib/python3.7/dist-packages/matplotlib/backends/backend_agg.py:183: RuntimeWarning: Glyph 49828 missing from current font.\n",
            "  font.set_text(s, 0, flags=flags)\n",
            "/usr/local/lib/python3.7/dist-packages/matplotlib/backends/backend_agg.py:183: RuntimeWarning: Glyph 53440 missing from current font.\n",
            "  font.set_text(s, 0, flags=flags)\n",
            "/usr/local/lib/python3.7/dist-packages/matplotlib/backends/backend_agg.py:183: RuntimeWarning: Glyph 51068 missing from current font.\n",
            "  font.set_text(s, 0, flags=flags)\n",
            "/usr/local/lib/python3.7/dist-packages/matplotlib/backends/backend_agg.py:183: RuntimeWarning: Glyph 51201 missing from current font.\n",
            "  font.set_text(s, 0, flags=flags)\n",
            "/usr/local/lib/python3.7/dist-packages/matplotlib/backends/backend_agg.py:183: RuntimeWarning: Glyph 50857 missing from current font.\n",
            "  font.set_text(s, 0, flags=flags)\n",
            "/usr/local/lib/python3.7/dist-packages/matplotlib/backends/backend_agg.py:183: RuntimeWarning: Glyph 50696 missing from current font.\n",
            "  font.set_text(s, 0, flags=flags)\n"
          ],
          "name": "stderr"
        },
        {
          "output_type": "display_data",
          "data": {
            "image/png": "[encoded data removed]",
            "text/plain": [
              "<Figure size 432x288 with 1 Axes>"
            ]
          },
          "metadata": {
            "tags": [],
            "needs_background": "light"
          }
        }
      ]
    },
    {
      "cell_type": "markdown",
      "metadata": {
        "school_cell_uuid": "b92b6e2db64244039b797eb02229feb5",
        "id": "XMby4ZY2tStd"
      },
      "source": [
        "## 그림 범위 지정"
      ]
    },
    {
      "cell_type": "markdown",
      "metadata": {
        "id": "nefc0PRvtStd"
      },
      "source": [
        "```{margin}\n",
        "`xlim`\n",
        "```"
      ]
    },
    {
      "cell_type": "markdown",
      "metadata": {
        "id": "zvl8XdUEtStd"
      },
      "source": [
        "```{margin}\n",
        "`ylim`\n",
        "```"
      ]
    },
    {
      "cell_type": "markdown",
      "metadata": {
        "school_cell_uuid": "52d43748580b4056be52ea0a6df1acea",
        "id": "uDd7JFs3tSte"
      },
      "source": [
        "플롯 그림을 보면 몇몇 점들은 그림의 범위 경계선에 있어서 잘 보이지 않는 경우가 있을 수 있다. 그림의 범위를 수동으로 지정하려면 `xlim` 명령과 `ylim` 명령을 사용한다. 이 명령들은 그림의 범위가 되는 x축, y축의 최소값과 최대값을 지정한다."
      ]
    },
    {
      "cell_type": "code",
      "metadata": {
        "school_cell_uuid": "1b572b3d7c874fe68ba7af6ed207c6cc",
        "id": "rteks4ubtSte",
        "colab": {
          "base_uri": "https://localhost:8080/",
          "height": 736
        },
        "outputId": "acf4d890-7815-471c-fbfe-b7776c4b1499"
      },
      "source": [
        "plt.title(\"x축, y축의 범위 설정\")\n",
        "plt.plot([10, 20, 30, 40], [1, 4, 9, 16],\n",
        "         c=\"b\", lw=5, ls=\"--\", marker=\"o\", ms=15, mec=\"g\", mew=5, mfc=\"r\")\n",
        "plt.xlim(0, 50)\n",
        "plt.ylim(-10, 30)\n",
        "plt.show()"
      ],
      "execution_count": 12,
      "outputs": [
        {
          "output_type": "stream",
          "text": [
            "/usr/local/lib/python3.7/dist-packages/matplotlib/backends/backend_agg.py:214: RuntimeWarning: Glyph 52629 missing from current font.\n",
            "  font.set_text(s, 0.0, flags=flags)\n",
            "/usr/local/lib/python3.7/dist-packages/matplotlib/backends/backend_agg.py:214: RuntimeWarning: Glyph 51032 missing from current font.\n",
            "  font.set_text(s, 0.0, flags=flags)\n",
            "/usr/local/lib/python3.7/dist-packages/matplotlib/backends/backend_agg.py:214: RuntimeWarning: Glyph 48276 missing from current font.\n",
            "  font.set_text(s, 0.0, flags=flags)\n",
            "/usr/local/lib/python3.7/dist-packages/matplotlib/backends/backend_agg.py:214: RuntimeWarning: Glyph 50948 missing from current font.\n",
            "  font.set_text(s, 0.0, flags=flags)\n",
            "/usr/local/lib/python3.7/dist-packages/matplotlib/backends/backend_agg.py:214: RuntimeWarning: Glyph 49444 missing from current font.\n",
            "  font.set_text(s, 0.0, flags=flags)\n",
            "/usr/local/lib/python3.7/dist-packages/matplotlib/backends/backend_agg.py:214: RuntimeWarning: Glyph 51221 missing from current font.\n",
            "  font.set_text(s, 0.0, flags=flags)\n",
            "/usr/local/lib/python3.7/dist-packages/matplotlib/backends/backend_agg.py:183: RuntimeWarning: Glyph 52629 missing from current font.\n",
            "  font.set_text(s, 0, flags=flags)\n",
            "/usr/local/lib/python3.7/dist-packages/matplotlib/backends/backend_agg.py:183: RuntimeWarning: Glyph 51032 missing from current font.\n",
            "  font.set_text(s, 0, flags=flags)\n",
            "/usr/local/lib/python3.7/dist-packages/matplotlib/backends/backend_agg.py:183: RuntimeWarning: Glyph 48276 missing from current font.\n",
            "  font.set_text(s, 0, flags=flags)\n",
            "/usr/local/lib/python3.7/dist-packages/matplotlib/backends/backend_agg.py:183: RuntimeWarning: Glyph 50948 missing from current font.\n",
            "  font.set_text(s, 0, flags=flags)\n",
            "/usr/local/lib/python3.7/dist-packages/matplotlib/backends/backend_agg.py:183: RuntimeWarning: Glyph 49444 missing from current font.\n",
            "  font.set_text(s, 0, flags=flags)\n",
            "/usr/local/lib/python3.7/dist-packages/matplotlib/backends/backend_agg.py:183: RuntimeWarning: Glyph 51221 missing from current font.\n",
            "  font.set_text(s, 0, flags=flags)\n"
          ],
          "name": "stderr"
        },
        {
          "output_type": "display_data",
          "data": {
            "image/png": "[encoded data removed]",
            "text/plain": [
              "<Figure size 432x288 with 1 Axes>"
            ]
          },
          "metadata": {
            "tags": [],
            "needs_background": "light"
          }
        }
      ]
    },
    {
      "cell_type": "markdown",
      "metadata": {
        "school_cell_uuid": "33016516715d429f8ee1fc8b123f2949",
        "id": "RPtMh4DQtStf"
      },
      "source": [
        "## 틱 설정"
      ]
    },
    {
      "cell_type": "markdown",
      "metadata": {
        "id": "AP6XD3tbtStf"
      },
      "source": [
        "```{margin}\n",
        "`xticks`\n",
        "```"
      ]
    },
    {
      "cell_type": "markdown",
      "metadata": {
        "id": "5zY1fO96tStf"
      },
      "source": [
        "```{margin}\n",
        "`yticks`\n",
        "```"
      ]
    },
    {
      "cell_type": "markdown",
      "metadata": {
        "school_cell_uuid": "05ef58d2c5a942b9925b7bb0251c7eca",
        "id": "AKCfnQY4tStg"
      },
      "source": [
        "플롯이나 차트에서 축상의 위치 표시 지점을 틱(tick)이라고 하고 이 틱에 써진 숫자 혹은 글자를 틱 라벨(tick label)이라고 한다. 틱의 위치나 틱 라벨은 맷플롯리브가 자동으로 정해주지만 만약 수동으로 설정하고 싶다면 `xticks` 명령이나 `yticks` 명령을 사용한다."
      ]
    },
    {
      "cell_type": "code",
      "metadata": {
        "school_cell_uuid": "12019ae320a9485193a974f7088e64dc",
        "id": "fCa1K44EtSth",
        "colab": {
          "base_uri": "https://localhost:8080/",
          "height": 664
        },
        "outputId": "70bd5100-2168-4400-a227-120e36945810"
      },
      "source": [
        "X = np.linspace(-np.pi, np.pi, 256)\n",
        "C = np.cos(X)\n",
        "plt.title(\"x축과 y축의 tick label 설정\")\n",
        "plt.plot(X, C)\n",
        "plt.xticks([-np.pi, -np.pi / 2, 0, np.pi / 2, np.pi])\n",
        "plt.yticks([-1, 0, +1])\n",
        "plt.show()"
      ],
      "execution_count": 13,
      "outputs": [
        {
          "output_type": "stream",
          "text": [
            "/usr/local/lib/python3.7/dist-packages/matplotlib/backends/backend_agg.py:214: RuntimeWarning: Glyph 52629 missing from current font.\n",
            "  font.set_text(s, 0.0, flags=flags)\n",
            "/usr/local/lib/python3.7/dist-packages/matplotlib/backends/backend_agg.py:214: RuntimeWarning: Glyph 44284 missing from current font.\n",
            "  font.set_text(s, 0.0, flags=flags)\n",
            "/usr/local/lib/python3.7/dist-packages/matplotlib/backends/backend_agg.py:214: RuntimeWarning: Glyph 51032 missing from current font.\n",
            "  font.set_text(s, 0.0, flags=flags)\n",
            "/usr/local/lib/python3.7/dist-packages/matplotlib/backends/backend_agg.py:214: RuntimeWarning: Glyph 49444 missing from current font.\n",
            "  font.set_text(s, 0.0, flags=flags)\n",
            "/usr/local/lib/python3.7/dist-packages/matplotlib/backends/backend_agg.py:214: RuntimeWarning: Glyph 51221 missing from current font.\n",
            "  font.set_text(s, 0.0, flags=flags)\n",
            "/usr/local/lib/python3.7/dist-packages/matplotlib/backends/backend_agg.py:183: RuntimeWarning: Glyph 52629 missing from current font.\n",
            "  font.set_text(s, 0, flags=flags)\n",
            "/usr/local/lib/python3.7/dist-packages/matplotlib/backends/backend_agg.py:183: RuntimeWarning: Glyph 44284 missing from current font.\n",
            "  font.set_text(s, 0, flags=flags)\n",
            "/usr/local/lib/python3.7/dist-packages/matplotlib/backends/backend_agg.py:183: RuntimeWarning: Glyph 51032 missing from current font.\n",
            "  font.set_text(s, 0, flags=flags)\n",
            "/usr/local/lib/python3.7/dist-packages/matplotlib/backends/backend_agg.py:183: RuntimeWarning: Glyph 49444 missing from current font.\n",
            "  font.set_text(s, 0, flags=flags)\n",
            "/usr/local/lib/python3.7/dist-packages/matplotlib/backends/backend_agg.py:183: RuntimeWarning: Glyph 51221 missing from current font.\n",
            "  font.set_text(s, 0, flags=flags)\n"
          ],
          "name": "stderr"
        },
        {
          "output_type": "display_data",
          "data": {
            "image/png": "[encoded data removed]",
            "text/plain": [
              "<Figure size 432x288 with 1 Axes>"
            ]
          },
          "metadata": {
            "tags": [],
            "needs_background": "light"
          }
        }
      ]
    },
    {
      "cell_type": "markdown",
      "metadata": {
        "school_cell_uuid": "403ecaf952e14c0db83a97ec69c44aea",
        "id": "l_Dg4P2vtSti"
      },
      "source": [
        "틱 라벨 문자열에는 `$$` 사이에 LaTeX 수학 문자식을 넣을 수도 있다."
      ]
    },
    {
      "cell_type": "code",
      "metadata": {
        "school_cell_uuid": "85f8f2774271416ba6775a2256bd5831",
        "id": "JEwEK6KTtSti",
        "colab": {
          "base_uri": "https://localhost:8080/",
          "height": 739
        },
        "outputId": "81deea3b-7881-4ece-82e1-e3b29f3d96d6"
      },
      "source": [
        "X = np.linspace(-np.pi, np.pi, 256)\n",
        "C = np.cos(X)\n",
        "plt.title(\"LaTeX, 문자열로 tick label 정의\")\n",
        "plt.plot(X, C)\n",
        "plt.xticks([-np.pi, -np.pi / 2, 0, np.pi / 2, np.pi],\n",
        "           [r'$-\\pi$', r'$-\\pi/2$', r'$0$', r'$+\\pi/2$', r'$+\\pi$'])\n",
        "plt.yticks([-1, 0, 1], [\"Low\", \"Zero\", \"High\"])\n",
        "plt.show()"
      ],
      "execution_count": 14,
      "outputs": [
        {
          "output_type": "stream",
          "text": [
            "/usr/local/lib/python3.7/dist-packages/matplotlib/backends/backend_agg.py:214: RuntimeWarning: Glyph 47928 missing from current font.\n",
            "  font.set_text(s, 0.0, flags=flags)\n",
            "/usr/local/lib/python3.7/dist-packages/matplotlib/backends/backend_agg.py:214: RuntimeWarning: Glyph 51088 missing from current font.\n",
            "  font.set_text(s, 0.0, flags=flags)\n",
            "/usr/local/lib/python3.7/dist-packages/matplotlib/backends/backend_agg.py:214: RuntimeWarning: Glyph 50676 missing from current font.\n",
            "  font.set_text(s, 0.0, flags=flags)\n",
            "/usr/local/lib/python3.7/dist-packages/matplotlib/backends/backend_agg.py:214: RuntimeWarning: Glyph 47196 missing from current font.\n",
            "  font.set_text(s, 0.0, flags=flags)\n",
            "/usr/local/lib/python3.7/dist-packages/matplotlib/backends/backend_agg.py:214: RuntimeWarning: Glyph 51221 missing from current font.\n",
            "  font.set_text(s, 0.0, flags=flags)\n",
            "/usr/local/lib/python3.7/dist-packages/matplotlib/backends/backend_agg.py:214: RuntimeWarning: Glyph 51032 missing from current font.\n",
            "  font.set_text(s, 0.0, flags=flags)\n",
            "/usr/local/lib/python3.7/dist-packages/matplotlib/backends/backend_agg.py:183: RuntimeWarning: Glyph 47928 missing from current font.\n",
            "  font.set_text(s, 0, flags=flags)\n",
            "/usr/local/lib/python3.7/dist-packages/matplotlib/backends/backend_agg.py:183: RuntimeWarning: Glyph 51088 missing from current font.\n",
            "  font.set_text(s, 0, flags=flags)\n",
            "/usr/local/lib/python3.7/dist-packages/matplotlib/backends/backend_agg.py:183: RuntimeWarning: Glyph 50676 missing from current font.\n",
            "  font.set_text(s, 0, flags=flags)\n",
            "/usr/local/lib/python3.7/dist-packages/matplotlib/backends/backend_agg.py:183: RuntimeWarning: Glyph 47196 missing from current font.\n",
            "  font.set_text(s, 0, flags=flags)\n",
            "/usr/local/lib/python3.7/dist-packages/matplotlib/backends/backend_agg.py:183: RuntimeWarning: Glyph 51221 missing from current font.\n",
            "  font.set_text(s, 0, flags=flags)\n",
            "/usr/local/lib/python3.7/dist-packages/matplotlib/backends/backend_agg.py:183: RuntimeWarning: Glyph 51032 missing from current font.\n",
            "  font.set_text(s, 0, flags=flags)\n"
          ],
          "name": "stderr"
        },
        {
          "output_type": "display_data",
          "data": {
            "image/png": "[encoded data removed]",
            "text/plain": [
              "<Figure size 432x288 with 1 Axes>"
            ]
          },
          "metadata": {
            "tags": [],
            "needs_background": "light"
          }
        }
      ]
    },
    {
      "cell_type": "markdown",
      "metadata": {
        "school_cell_uuid": "67403ad5d18c4a38a4002a81e47bfebf",
        "id": "sQDb0Nl0tStj"
      },
      "source": [
        "## 그리드 설정"
      ]
    },
    {
      "cell_type": "markdown",
      "metadata": {
        "id": "SjGILcTBtStj"
      },
      "source": [
        "```{margin}\n",
        "`grid`\n",
        "```"
      ]
    },
    {
      "cell_type": "markdown",
      "metadata": {
        "school_cell_uuid": "75dc86f0b8184fbe9b292a9e690a6d09",
        "id": "EdO-r_uttStk"
      },
      "source": [
        "위 그림을 보면 틱 위치를 잘 보여주기 위해 그림 중간에 그리드 선(grid line)이 자동으로 그려진 것을 알 수 있다. 그리드를 사용하지 않으려면 `grid(False)` 명령을 사용한다. 다시 그리드를 사용하려면 `grid(True)`를 사용한다."
      ]
    },
    {
      "cell_type": "code",
      "metadata": {
        "school_cell_uuid": "83da68044b8c420b96c7d848f57ef3a5",
        "id": "26DGS4dbtStl",
        "colab": {
          "base_uri": "https://localhost:8080/",
          "height": 449
        },
        "outputId": "6231aaf4-9194-4c7f-9ff2-2328635e5ded"
      },
      "source": [
        "X = np.linspace(-np.pi, np.pi, 256)\n",
        "C = np.cos(X)\n",
        "plt.title(\"Grid 제거\")\n",
        "plt.plot(X, C)\n",
        "plt.xticks([-np.pi, -np.pi / 2, 0, np.pi / 2, np.pi],\n",
        "           [r'$-\\pi$', r'$-\\pi/2$', r'$0$', r'$+\\pi/2$', r'$+\\pi$'])\n",
        "plt.yticks([-1, 0, 1], [\"Low\", \"Zero\", \"High\"])\n",
        "plt.grid(False)\n",
        "plt.show()"
      ],
      "execution_count": 15,
      "outputs": [
        {
          "output_type": "stream",
          "text": [
            "/usr/local/lib/python3.7/dist-packages/matplotlib/backends/backend_agg.py:214: RuntimeWarning: Glyph 51228 missing from current font.\n",
            "  font.set_text(s, 0.0, flags=flags)\n",
            "/usr/local/lib/python3.7/dist-packages/matplotlib/backends/backend_agg.py:214: RuntimeWarning: Glyph 44144 missing from current font.\n",
            "  font.set_text(s, 0.0, flags=flags)\n",
            "/usr/local/lib/python3.7/dist-packages/matplotlib/backends/backend_agg.py:183: RuntimeWarning: Glyph 51228 missing from current font.\n",
            "  font.set_text(s, 0, flags=flags)\n",
            "/usr/local/lib/python3.7/dist-packages/matplotlib/backends/backend_agg.py:183: RuntimeWarning: Glyph 44144 missing from current font.\n",
            "  font.set_text(s, 0, flags=flags)\n"
          ],
          "name": "stderr"
        },
        {
          "output_type": "display_data",
          "data": {
            "image/png": "[encoded data removed]",
            "text/plain": [
              "<Figure size 432x288 with 1 Axes>"
            ]
          },
          "metadata": {
            "tags": [],
            "needs_background": "light"
          }
        }
      ]
    },
    {
      "cell_type": "code",
      "metadata": {
        "id": "xDjz7_c3wDOw",
        "colab": {
          "base_uri": "https://localhost:8080/",
          "height": 449
        },
        "outputId": "8d2ac47c-51e1-4095-aba3-087774acd499"
      },
      "source": [
        "X = np.linspace(-np.pi, np.pi, 256)\r\n",
        "C = np.cos(X)\r\n",
        "plt.title(\"Grid 제거\")\r\n",
        "plt.plot(X, C)\r\n",
        "plt.xticks([-np.pi, -np.pi / 2, 0, np.pi / 2, np.pi],\r\n",
        "           [r'$-\\pi$', r'$-\\pi/2$', r'$0$', r'$+\\pi/2$', r'$+\\pi$'])\r\n",
        "plt.yticks([-1, 0, 1], [\"Low\", \"Zero\", \"High\"])\r\n",
        "plt.grid(True)\r\n",
        "plt.show()"
      ],
      "execution_count": 16,
      "outputs": [
        {
          "output_type": "stream",
          "text": [
            "/usr/local/lib/python3.7/dist-packages/matplotlib/backends/backend_agg.py:214: RuntimeWarning: Glyph 51228 missing from current font.\n",
            "  font.set_text(s, 0.0, flags=flags)\n",
            "/usr/local/lib/python3.7/dist-packages/matplotlib/backends/backend_agg.py:214: RuntimeWarning: Glyph 44144 missing from current font.\n",
            "  font.set_text(s, 0.0, flags=flags)\n",
            "/usr/local/lib/python3.7/dist-packages/matplotlib/backends/backend_agg.py:183: RuntimeWarning: Glyph 51228 missing from current font.\n",
            "  font.set_text(s, 0, flags=flags)\n",
            "/usr/local/lib/python3.7/dist-packages/matplotlib/backends/backend_agg.py:183: RuntimeWarning: Glyph 44144 missing from current font.\n",
            "  font.set_text(s, 0, flags=flags)\n"
          ],
          "name": "stderr"
        },
        {
          "output_type": "display_data",
          "data": {
            "image/png": "[encoded data removed]",
            "text/plain": [
              "<Figure size 432x288 with 1 Axes>"
            ]
          },
          "metadata": {
            "tags": [],
            "needs_background": "light"
          }
        }
      ]
    },
    {
      "cell_type": "markdown",
      "metadata": {
        "school_cell_uuid": "fcef5cf0ea0f418395f3570865fafa40",
        "id": "2cioTBjXtStl"
      },
      "source": [
        "## 여러개의 선을 그리기"
      ]
    },
    {
      "cell_type": "markdown",
      "metadata": {
        "school_cell_uuid": "ddcfcd5d752e4e618be72126fc27a07c",
        "id": "pd1kmlR9tStn"
      },
      "source": [
        "라인 플롯에서 선을 하나가 아니라 여러개를 그리고 싶은 경우에는 x 데이터, y 데이터, 스타일 문자열을 반복하여 인수로 넘긴다. 이 경우에는 하나의 선을 그릴 때 처럼 x 데이터나 스타일 문자열을 생략할 수 없다."
      ]
    },
    {
      "cell_type": "code",
      "metadata": {
        "school_cell_uuid": "3a18e9d84f3e42a98941c39d1098e37e",
        "id": "8GFo0xm1tStn",
        "colab": {
          "base_uri": "https://localhost:8080/",
          "height": 1000
        },
        "outputId": "87829680-9d01-4878-a199-cc735b7cb336"
      },
      "source": [
        "t = np.arange(0., 5., 0.2)\n",
        "plt.title(\"라인 플롯에서 여러개의 선 그리기\")\n",
        "plt.plot(t, t, 'r--', t, 0.5 * t**2, 'bs:', t, 0.2 * t**3, 'g^-')\n",
        "plt.show()"
      ],
      "execution_count": 17,
      "outputs": [
        {
          "output_type": "stream",
          "text": [
            "/usr/local/lib/python3.7/dist-packages/matplotlib/backends/backend_agg.py:214: RuntimeWarning: Glyph 46972 missing from current font.\n",
            "  font.set_text(s, 0.0, flags=flags)\n",
            "/usr/local/lib/python3.7/dist-packages/matplotlib/backends/backend_agg.py:214: RuntimeWarning: Glyph 51064 missing from current font.\n",
            "  font.set_text(s, 0.0, flags=flags)\n",
            "/usr/local/lib/python3.7/dist-packages/matplotlib/backends/backend_agg.py:214: RuntimeWarning: Glyph 54540 missing from current font.\n",
            "  font.set_text(s, 0.0, flags=flags)\n",
            "/usr/local/lib/python3.7/dist-packages/matplotlib/backends/backend_agg.py:214: RuntimeWarning: Glyph 47215 missing from current font.\n",
            "  font.set_text(s, 0.0, flags=flags)\n",
            "/usr/local/lib/python3.7/dist-packages/matplotlib/backends/backend_agg.py:214: RuntimeWarning: Glyph 50640 missing from current font.\n",
            "  font.set_text(s, 0.0, flags=flags)\n",
            "/usr/local/lib/python3.7/dist-packages/matplotlib/backends/backend_agg.py:214: RuntimeWarning: Glyph 49436 missing from current font.\n",
            "  font.set_text(s, 0.0, flags=flags)\n",
            "/usr/local/lib/python3.7/dist-packages/matplotlib/backends/backend_agg.py:214: RuntimeWarning: Glyph 50668 missing from current font.\n",
            "  font.set_text(s, 0.0, flags=flags)\n",
            "/usr/local/lib/python3.7/dist-packages/matplotlib/backends/backend_agg.py:214: RuntimeWarning: Glyph 47084 missing from current font.\n",
            "  font.set_text(s, 0.0, flags=flags)\n",
            "/usr/local/lib/python3.7/dist-packages/matplotlib/backends/backend_agg.py:214: RuntimeWarning: Glyph 44060 missing from current font.\n",
            "  font.set_text(s, 0.0, flags=flags)\n",
            "/usr/local/lib/python3.7/dist-packages/matplotlib/backends/backend_agg.py:214: RuntimeWarning: Glyph 51032 missing from current font.\n",
            "  font.set_text(s, 0.0, flags=flags)\n",
            "/usr/local/lib/python3.7/dist-packages/matplotlib/backends/backend_agg.py:214: RuntimeWarning: Glyph 49440 missing from current font.\n",
            "  font.set_text(s, 0.0, flags=flags)\n",
            "/usr/local/lib/python3.7/dist-packages/matplotlib/backends/backend_agg.py:214: RuntimeWarning: Glyph 44536 missing from current font.\n",
            "  font.set_text(s, 0.0, flags=flags)\n",
            "/usr/local/lib/python3.7/dist-packages/matplotlib/backends/backend_agg.py:214: RuntimeWarning: Glyph 47532 missing from current font.\n",
            "  font.set_text(s, 0.0, flags=flags)\n",
            "/usr/local/lib/python3.7/dist-packages/matplotlib/backends/backend_agg.py:214: RuntimeWarning: Glyph 44592 missing from current font.\n",
            "  font.set_text(s, 0.0, flags=flags)\n",
            "/usr/local/lib/python3.7/dist-packages/matplotlib/backends/backend_agg.py:183: RuntimeWarning: Glyph 46972 missing from current font.\n",
            "  font.set_text(s, 0, flags=flags)\n",
            "/usr/local/lib/python3.7/dist-packages/matplotlib/backends/backend_agg.py:183: RuntimeWarning: Glyph 51064 missing from current font.\n",
            "  font.set_text(s, 0, flags=flags)\n",
            "/usr/local/lib/python3.7/dist-packages/matplotlib/backends/backend_agg.py:183: RuntimeWarning: Glyph 54540 missing from current font.\n",
            "  font.set_text(s, 0, flags=flags)\n",
            "/usr/local/lib/python3.7/dist-packages/matplotlib/backends/backend_agg.py:183: RuntimeWarning: Glyph 47215 missing from current font.\n",
            "  font.set_text(s, 0, flags=flags)\n",
            "/usr/local/lib/python3.7/dist-packages/matplotlib/backends/backend_agg.py:183: RuntimeWarning: Glyph 50640 missing from current font.\n",
            "  font.set_text(s, 0, flags=flags)\n",
            "/usr/local/lib/python3.7/dist-packages/matplotlib/backends/backend_agg.py:183: RuntimeWarning: Glyph 49436 missing from current font.\n",
            "  font.set_text(s, 0, flags=flags)\n",
            "/usr/local/lib/python3.7/dist-packages/matplotlib/backends/backend_agg.py:183: RuntimeWarning: Glyph 50668 missing from current font.\n",
            "  font.set_text(s, 0, flags=flags)\n",
            "/usr/local/lib/python3.7/dist-packages/matplotlib/backends/backend_agg.py:183: RuntimeWarning: Glyph 47084 missing from current font.\n",
            "  font.set_text(s, 0, flags=flags)\n",
            "/usr/local/lib/python3.7/dist-packages/matplotlib/backends/backend_agg.py:183: RuntimeWarning: Glyph 44060 missing from current font.\n",
            "  font.set_text(s, 0, flags=flags)\n",
            "/usr/local/lib/python3.7/dist-packages/matplotlib/backends/backend_agg.py:183: RuntimeWarning: Glyph 51032 missing from current font.\n",
            "  font.set_text(s, 0, flags=flags)\n",
            "/usr/local/lib/python3.7/dist-packages/matplotlib/backends/backend_agg.py:183: RuntimeWarning: Glyph 49440 missing from current font.\n",
            "  font.set_text(s, 0, flags=flags)\n",
            "/usr/local/lib/python3.7/dist-packages/matplotlib/backends/backend_agg.py:183: RuntimeWarning: Glyph 44536 missing from current font.\n",
            "  font.set_text(s, 0, flags=flags)\n",
            "/usr/local/lib/python3.7/dist-packages/matplotlib/backends/backend_agg.py:183: RuntimeWarning: Glyph 47532 missing from current font.\n",
            "  font.set_text(s, 0, flags=flags)\n",
            "/usr/local/lib/python3.7/dist-packages/matplotlib/backends/backend_agg.py:183: RuntimeWarning: Glyph 44592 missing from current font.\n",
            "  font.set_text(s, 0, flags=flags)\n"
          ],
          "name": "stderr"
        },
        {
          "output_type": "display_data",
          "data": {
            "image/png": "[encoded data removed]",
            "text/plain": [
              "<Figure size 432x288 with 1 Axes>"
            ]
          },
          "metadata": {
            "tags": [],
            "needs_background": "light"
          }
        }
      ]
    },
    {
      "cell_type": "markdown",
      "metadata": {
        "school_cell_uuid": "ef6d9d9baa3443e78a1e34da469062f1",
        "id": "OrevqpbttSto"
      },
      "source": [
        "## 겹쳐그리기"
      ]
    },
    {
      "cell_type": "markdown",
      "metadata": {
        "school_cell_uuid": "5c8ccfe3b1574b65ba87ad4a88434cba",
        "id": "dlMIr-FGtStp"
      },
      "source": [
        "하나의 `plot` 명령이 아니라 복수의 `plot` 명령을 하나의 그림에 겹쳐서 그릴 수도 있다. "
      ]
    },
    {
      "cell_type": "code",
      "metadata": {
        "school_cell_uuid": "804fd3acfa7c49ed8bf2e4e807fba4cb",
        "id": "5MtNELoOtStp",
        "colab": {
          "base_uri": "https://localhost:8080/",
          "height": 1000
        },
        "outputId": "83b89e1a-5ffa-4266-870b-22a116f908c6"
      },
      "source": [
        "plt.title(\"복수의 plot 명령을 한 그림에서 표현\")\n",
        "plt.plot([1, 4, 9, 16],\n",
        "         c=\"b\", lw=5, ls=\"--\", marker=\"o\", ms=15, mec=\"g\", mew=5, mfc=\"r\")\n",
        "# plt.hold(True)   # <- 1,5 버전에서는 이 코드가 필요하다.\n",
        "plt.plot([9, 16, 4, 1],\n",
        "         c=\"k\", lw=3, ls=\":\", marker=\"s\", ms=10, mec=\"m\", mew=5, mfc=\"c\")\n",
        "# plt.hold(False)  # <- 1,5 버전에서는 이 코드가 필요하다.\n",
        "plt.show()"
      ],
      "execution_count": 18,
      "outputs": [
        {
          "output_type": "stream",
          "text": [
            "/usr/local/lib/python3.7/dist-packages/matplotlib/backends/backend_agg.py:214: RuntimeWarning: Glyph 48373 missing from current font.\n",
            "  font.set_text(s, 0.0, flags=flags)\n",
            "/usr/local/lib/python3.7/dist-packages/matplotlib/backends/backend_agg.py:214: RuntimeWarning: Glyph 49688 missing from current font.\n",
            "  font.set_text(s, 0.0, flags=flags)\n",
            "/usr/local/lib/python3.7/dist-packages/matplotlib/backends/backend_agg.py:214: RuntimeWarning: Glyph 51032 missing from current font.\n",
            "  font.set_text(s, 0.0, flags=flags)\n",
            "/usr/local/lib/python3.7/dist-packages/matplotlib/backends/backend_agg.py:214: RuntimeWarning: Glyph 47749 missing from current font.\n",
            "  font.set_text(s, 0.0, flags=flags)\n",
            "/usr/local/lib/python3.7/dist-packages/matplotlib/backends/backend_agg.py:214: RuntimeWarning: Glyph 47161 missing from current font.\n",
            "  font.set_text(s, 0.0, flags=flags)\n",
            "/usr/local/lib/python3.7/dist-packages/matplotlib/backends/backend_agg.py:214: RuntimeWarning: Glyph 51012 missing from current font.\n",
            "  font.set_text(s, 0.0, flags=flags)\n",
            "/usr/local/lib/python3.7/dist-packages/matplotlib/backends/backend_agg.py:214: RuntimeWarning: Glyph 54620 missing from current font.\n",
            "  font.set_text(s, 0.0, flags=flags)\n",
            "/usr/local/lib/python3.7/dist-packages/matplotlib/backends/backend_agg.py:214: RuntimeWarning: Glyph 44536 missing from current font.\n",
            "  font.set_text(s, 0.0, flags=flags)\n",
            "/usr/local/lib/python3.7/dist-packages/matplotlib/backends/backend_agg.py:214: RuntimeWarning: Glyph 47548 missing from current font.\n",
            "  font.set_text(s, 0.0, flags=flags)\n",
            "/usr/local/lib/python3.7/dist-packages/matplotlib/backends/backend_agg.py:214: RuntimeWarning: Glyph 50640 missing from current font.\n",
            "  font.set_text(s, 0.0, flags=flags)\n",
            "/usr/local/lib/python3.7/dist-packages/matplotlib/backends/backend_agg.py:214: RuntimeWarning: Glyph 49436 missing from current font.\n",
            "  font.set_text(s, 0.0, flags=flags)\n",
            "/usr/local/lib/python3.7/dist-packages/matplotlib/backends/backend_agg.py:214: RuntimeWarning: Glyph 54364 missing from current font.\n",
            "  font.set_text(s, 0.0, flags=flags)\n",
            "/usr/local/lib/python3.7/dist-packages/matplotlib/backends/backend_agg.py:214: RuntimeWarning: Glyph 54788 missing from current font.\n",
            "  font.set_text(s, 0.0, flags=flags)\n",
            "/usr/local/lib/python3.7/dist-packages/matplotlib/backends/backend_agg.py:183: RuntimeWarning: Glyph 48373 missing from current font.\n",
            "  font.set_text(s, 0, flags=flags)\n",
            "/usr/local/lib/python3.7/dist-packages/matplotlib/backends/backend_agg.py:183: RuntimeWarning: Glyph 49688 missing from current font.\n",
            "  font.set_text(s, 0, flags=flags)\n",
            "/usr/local/lib/python3.7/dist-packages/matplotlib/backends/backend_agg.py:183: RuntimeWarning: Glyph 51032 missing from current font.\n",
            "  font.set_text(s, 0, flags=flags)\n",
            "/usr/local/lib/python3.7/dist-packages/matplotlib/backends/backend_agg.py:183: RuntimeWarning: Glyph 47749 missing from current font.\n",
            "  font.set_text(s, 0, flags=flags)\n",
            "/usr/local/lib/python3.7/dist-packages/matplotlib/backends/backend_agg.py:183: RuntimeWarning: Glyph 47161 missing from current font.\n",
            "  font.set_text(s, 0, flags=flags)\n",
            "/usr/local/lib/python3.7/dist-packages/matplotlib/backends/backend_agg.py:183: RuntimeWarning: Glyph 51012 missing from current font.\n",
            "  font.set_text(s, 0, flags=flags)\n",
            "/usr/local/lib/python3.7/dist-packages/matplotlib/backends/backend_agg.py:183: RuntimeWarning: Glyph 54620 missing from current font.\n",
            "  font.set_text(s, 0, flags=flags)\n",
            "/usr/local/lib/python3.7/dist-packages/matplotlib/backends/backend_agg.py:183: RuntimeWarning: Glyph 44536 missing from current font.\n",
            "  font.set_text(s, 0, flags=flags)\n",
            "/usr/local/lib/python3.7/dist-packages/matplotlib/backends/backend_agg.py:183: RuntimeWarning: Glyph 47548 missing from current font.\n",
            "  font.set_text(s, 0, flags=flags)\n",
            "/usr/local/lib/python3.7/dist-packages/matplotlib/backends/backend_agg.py:183: RuntimeWarning: Glyph 50640 missing from current font.\n",
            "  font.set_text(s, 0, flags=flags)\n",
            "/usr/local/lib/python3.7/dist-packages/matplotlib/backends/backend_agg.py:183: RuntimeWarning: Glyph 49436 missing from current font.\n",
            "  font.set_text(s, 0, flags=flags)\n",
            "/usr/local/lib/python3.7/dist-packages/matplotlib/backends/backend_agg.py:183: RuntimeWarning: Glyph 54364 missing from current font.\n",
            "  font.set_text(s, 0, flags=flags)\n",
            "/usr/local/lib/python3.7/dist-packages/matplotlib/backends/backend_agg.py:183: RuntimeWarning: Glyph 54788 missing from current font.\n",
            "  font.set_text(s, 0, flags=flags)\n"
          ],
          "name": "stderr"
        },
        {
          "output_type": "display_data",
          "data": {
            "image/png": "[encoded data removed]",
            "text/plain": [
              "<Figure size 432x288 with 1 Axes>"
            ]
          },
          "metadata": {
            "tags": [],
            "needs_background": "light"
          }
        }
      ]
    },
    {
      "cell_type": "markdown",
      "metadata": {
        "school_cell_uuid": "a75cc3a121124109b086745a62ad5d46",
        "id": "ulKRhf-8tStq"
      },
      "source": [
        "## 범례"
      ]
    },
    {
      "cell_type": "markdown",
      "metadata": {
        "id": "1ZLz--MUtStr"
      },
      "source": [
        "```{margin}\n",
        "`legend`\n",
        "```"
      ]
    },
    {
      "cell_type": "markdown",
      "metadata": {
        "school_cell_uuid": "368d994849e24b029e58cf629aa98d0b",
        "id": "9oYNl2MotStr"
      },
      "source": [
        "여러개의 라인 플롯을 동시에 그리는 경우에는 각 선이 무슨 자료를 표시하는지를 보여주기 위해 `legend` 명령으로  범례(legend)를 추가할 수 있다. 범례의 위치는 자동으로 정해지지만 수동으로 설정하고 싶으면 `loc` 인수를 사용한다. 인수에는 문자열 혹은 숫자가 들어가며 가능한 코드는 다음과 같다.\n",
        "\n",
        "| loc 문자열 | 숫자 |\n",
        "|-|-|\n",
        "| `best` |  0 | \n",
        "| `upper right` |  1 | \n",
        "| `upper left` |  2 | \n",
        "| `lower left` |  3 | \n",
        "| `lower right` |  4 | \n",
        "| `right` |  5 | \n",
        "| `center left` |  6 | \n",
        "| `center right` |  7 | \n",
        "| `lower center` |  8 | \n",
        "| `upper center` |  9 | \n",
        "| `center` |  10 | \n",
        "\n"
      ]
    },
    {
      "cell_type": "code",
      "metadata": {
        "school_cell_uuid": "74c8a89143c24716acfd9bca227badb6",
        "id": "Yh5CzYRXtSts",
        "colab": {
          "base_uri": "https://localhost:8080/",
          "height": 736
        },
        "outputId": "d6a58197-7595-475b-ad03-4e0482ae11c1"
      },
      "source": [
        "X = np.linspace(-np.pi, np.pi, 256)\n",
        "C, S = np.cos(X), np.sin(X)\n",
        "plt.title(\"legend를 표시한 플롯\")\n",
        "plt.plot(X, C, ls=\"--\", label=\"cosine\")\n",
        "plt.plot(X, S, ls=\":\", label=\"sine\")\n",
        "plt.legend(loc=2)\n",
        "plt.show()"
      ],
      "execution_count": 19,
      "outputs": [
        {
          "output_type": "stream",
          "text": [
            "/usr/local/lib/python3.7/dist-packages/matplotlib/backends/backend_agg.py:214: RuntimeWarning: Glyph 47484 missing from current font.\n",
            "  font.set_text(s, 0.0, flags=flags)\n",
            "/usr/local/lib/python3.7/dist-packages/matplotlib/backends/backend_agg.py:214: RuntimeWarning: Glyph 54364 missing from current font.\n",
            "  font.set_text(s, 0.0, flags=flags)\n",
            "/usr/local/lib/python3.7/dist-packages/matplotlib/backends/backend_agg.py:214: RuntimeWarning: Glyph 49884 missing from current font.\n",
            "  font.set_text(s, 0.0, flags=flags)\n",
            "/usr/local/lib/python3.7/dist-packages/matplotlib/backends/backend_agg.py:214: RuntimeWarning: Glyph 54620 missing from current font.\n",
            "  font.set_text(s, 0.0, flags=flags)\n",
            "/usr/local/lib/python3.7/dist-packages/matplotlib/backends/backend_agg.py:214: RuntimeWarning: Glyph 54540 missing from current font.\n",
            "  font.set_text(s, 0.0, flags=flags)\n",
            "/usr/local/lib/python3.7/dist-packages/matplotlib/backends/backend_agg.py:214: RuntimeWarning: Glyph 47215 missing from current font.\n",
            "  font.set_text(s, 0.0, flags=flags)\n",
            "/usr/local/lib/python3.7/dist-packages/matplotlib/backends/backend_agg.py:183: RuntimeWarning: Glyph 47484 missing from current font.\n",
            "  font.set_text(s, 0, flags=flags)\n",
            "/usr/local/lib/python3.7/dist-packages/matplotlib/backends/backend_agg.py:183: RuntimeWarning: Glyph 54364 missing from current font.\n",
            "  font.set_text(s, 0, flags=flags)\n",
            "/usr/local/lib/python3.7/dist-packages/matplotlib/backends/backend_agg.py:183: RuntimeWarning: Glyph 49884 missing from current font.\n",
            "  font.set_text(s, 0, flags=flags)\n",
            "/usr/local/lib/python3.7/dist-packages/matplotlib/backends/backend_agg.py:183: RuntimeWarning: Glyph 54620 missing from current font.\n",
            "  font.set_text(s, 0, flags=flags)\n",
            "/usr/local/lib/python3.7/dist-packages/matplotlib/backends/backend_agg.py:183: RuntimeWarning: Glyph 54540 missing from current font.\n",
            "  font.set_text(s, 0, flags=flags)\n",
            "/usr/local/lib/python3.7/dist-packages/matplotlib/backends/backend_agg.py:183: RuntimeWarning: Glyph 47215 missing from current font.\n",
            "  font.set_text(s, 0, flags=flags)\n"
          ],
          "name": "stderr"
        },
        {
          "output_type": "display_data",
          "data": {
            "image/png": "[encoded data removed]",
            "text/plain": [
              "<Figure size 432x288 with 1 Axes>"
            ]
          },
          "metadata": {
            "tags": [],
            "needs_background": "light"
          }
        }
      ]
    },
    {
      "cell_type": "markdown",
      "metadata": {
        "school_cell_uuid": "105251066e4d424f80607a8983a0ffd6",
        "id": "ra5q8eYQtStu"
      },
      "source": [
        "## x축, y축 라벨, 타이틀"
      ]
    },
    {
      "cell_type": "markdown",
      "metadata": {
        "id": "_Kv8eZNAtStu"
      },
      "source": [
        "```{margin}\n",
        "`xlabel`\n",
        "```"
      ]
    },
    {
      "cell_type": "markdown",
      "metadata": {
        "id": "ekPGose1tStv"
      },
      "source": [
        "```{margin}\n",
        "`ylabel`\n",
        "```"
      ]
    },
    {
      "cell_type": "markdown",
      "metadata": {
        "school_cell_uuid": "a9230f1994564a6c9f0277d3993b58e5",
        "id": "Rqyb8QBotStv"
      },
      "source": [
        "플롯의 x축 위치와 y축 위치에는 각각 그 데이터가 의미하는 바를 표시하기 위해 라벨(label)를 추가할 수 있다. 라벨을 붙이려면 `xlabel`. `ylabel` 명령을 사용한다. 또 플롯의 위에는 `title` 명령으로 제목(title)을 붙일 수 있다."
      ]
    },
    {
      "cell_type": "code",
      "metadata": {
        "school_cell_uuid": "f0fc733042104916b95368af338f5a70",
        "id": "_QHkNyCotStw",
        "colab": {
          "base_uri": "https://localhost:8080/",
          "height": 295
        },
        "outputId": "17bd004e-661c-42be-8e27-2ae88f8e20c5"
      },
      "source": [
        "X = np.linspace(-np.pi, np.pi, 256)\n",
        "C, S = np.cos(X), np.sin(X)\n",
        "plt.plot(X, C, label=\"cosine\")\n",
        "plt.xlabel(\"time\")\n",
        "plt.ylabel(\"amplitude\")\n",
        "plt.title(\"Cosine Plot\")\n",
        "plt.show()"
      ],
      "execution_count": 20,
      "outputs": [
        {
          "output_type": "display_data",
          "data": {
            "image/png": "[encoded data removed]",
            "text/plain": [
              "<Figure size 432x288 with 1 Axes>"
            ]
          },
          "metadata": {
            "tags": [],
            "needs_background": "light"
          }
        }
      ]
    },
    {
      "cell_type": "markdown",
      "metadata": {
        "bootstrap": {
          "panel": {
            "class": "panel-default"
          }
        },
        "school_cell_uuid": "fa63ee913b5840c08d9ee50e82ff461d",
        "id": "HQvF2F7TtStw"
      },
      "source": [
        "**<스스로> 연습문제**\n",
        "````{admonition} 연습 문제 5.1.1\n",
        "\n",
        "여러가지 함수를 사용하여 아래 조건에 맞는 그래프를 그린다. \n",
        "\n",
        "- xlabel, ylabel, title을 모두 갖추고 있어야 한다.\n",
        "- 하나의 Figure(일단, 그림이라고 이해한다. 아래에 자세한 설명이 있다.)에 3개 이상의 Plot을 그린다. \n",
        "- 각 Plot은 다른 선, 마크, 색 스타일을 가진다. \n",
        "- legend는 그래프와 겹치지 않는 곳에 위치 시키도록 한다. \n",
        "````"
      ]
    },
    {
      "cell_type": "code",
      "metadata": {
        "id": "bf8uhCU0WYmh",
        "outputId": "51f98d83-d0f5-47a9-8606-68cf0d0aa9f0",
        "colab": {
          "base_uri": "https://localhost:8080/",
          "height": 295
        }
      },
      "source": [
        "x = np.linspace(1,10)\r\n",
        "y1 = np.sin(x)\r\n",
        "y2 = np.cos(x)\r\n",
        "y3 = np.tan(x)\r\n",
        "\r\n",
        "plt.plot(x,y1,color='red',label='sin')\r\n",
        "plt.plot(x,y2,color='blue',label='cos')\r\n",
        "plt.plot(x,y3,color='green',label='tan')\r\n",
        "plt.xlabel('x')\r\n",
        "plt.ylabel('y')\r\n",
        "plt.title('title')\r\n",
        "plt.legend()\r\n",
        "plt.show()\r\n"
      ],
      "execution_count": 30,
      "outputs": [
        {
          "output_type": "display_data",
          "data": {
            "image/png": "[encoded data removed]",
            "text/plain": [
              "<Figure size 432x288 with 1 Axes>"
            ]
          },
          "metadata": {
            "tags": [],
            "needs_background": "light"
          }
        }
      ]
    },
    {
      "cell_type": "markdown",
      "metadata": {
        "school_cell_uuid": "8fa972ce99c24586942b8cd35f41f212",
        "id": "sk45Voz-tStx"
      },
      "source": [
        "## 그림의 구조"
      ]
    },
    {
      "cell_type": "markdown",
      "metadata": {
        "school_cell_uuid": "3603ffacc808493c96f4ef7285b4b307",
        "id": "blshnhY7tSty"
      },
      "source": [
        "맷플롯리브가 그리는 그림은 Figure 객체, Axes 객체, Axis 객체 등으로 구성된다. Figure 객체는 한 개 이상의  Axes 객체를 포함하고 Axes 객체는 다시 두 개 이상의 Axis 객체를 포함한다. \n",
        "\n",
        "Figure는 그림이 그려지는 캔버스나 종이를 뜻하고 Axes는 하나의 플롯, 그리고 Axis는 가로축이나 세로축 등의 축을 뜻한다. Axes와 Axis의 철자에 주의한다."
      ]
    },
    {
      "cell_type": "markdown",
      "metadata": {
        "school_cell_uuid": "484866d5fd3149cabc804c3c17c27377",
        "id": "Ib-greANtSty"
      },
      "source": [
        "### Figure 객체"
      ]
    },
    {
      "cell_type": "markdown",
      "metadata": {
        "school_cell_uuid": "2115ef027a6a4a6aa4b160c3754a9e01",
        "id": "qifoPAnCtStz"
      },
      "source": [
        "모든 그림은 Figure 객체. 정식으로는  `matplotlib.figure.Figure` 클래스 객체에 포함되어 있다. 내부 플롯(inline plot)이 아닌 경우에는 하나의 Figure는 하나의 아이디 숫자와 윈도우(Window)를 가진다. 주피터 노트북에서는 윈도우 객체가 생성되지 않지만 파이썬을 독립 실행하는 경우에는 하나의 Figure당 하나의 윈도우를 별도로 가진다. Figure 객체에 대한 자세한 설명은 다음 웹사이트를 참조한다.\n",
        "\n",
        "* http://matplotlib.org/api/figure_api.html#matplotlib.figure.Figure"
      ]
    },
    {
      "cell_type": "markdown",
      "metadata": {
        "id": "hA351VI2tSt0"
      },
      "source": [
        "```{margin}\n",
        "`figure`\n",
        "```"
      ]
    },
    {
      "cell_type": "markdown",
      "metadata": {
        "school_cell_uuid": "8cf54f3bd1294ddca0a21a0469cab0e8",
        "id": "K7L0uu61tSt0"
      },
      "source": [
        "원래 Figure를 생성하려면 `figure` 명령을 사용하여 그 반환값으로 Figure 객체를 얻어야 한다. 그러나 일반적인 `plot` 명령 등을 실행하면 자동으로 Figure를 생성해주기 때문에 일반적으로는 `figure` 명령을 잘 사용하지 않는다. `figure` 명령을 명시적으로 사용하는 경우는 여러개의 윈도우를 동시에 띄워야 하거나(line plot이 아닌 경우), Jupyter 노트북 등에서(line plot의 경우) 그림의 크기를 설정하고 싶을 때이다. 그림의 크기는 figsize 인수로 설정한다."
      ]
    },
    {
      "cell_type": "code",
      "metadata": {
        "school_cell_uuid": "d6f40f8691cf4edf83ef6ab02400315f",
        "id": "_eyguEcxtSt1",
        "colab": {
          "base_uri": "https://localhost:8080/",
          "height": 173
        },
        "outputId": "7d85ad10-5efb-4cec-f22a-319cc064fc6e"
      },
      "source": [
        "np.random.seed(0)\n",
        "f1 = plt.figure(figsize=(10, 2))\n",
        "plt.title(\"figure size : (10, 2)\")\n",
        "plt.plot(np.random.randn(100))\n",
        "plt.show()"
      ],
      "execution_count": 31,
      "outputs": [
        {
          "output_type": "display_data",
          "data": {
            "image/png": "[encoded data removed]",
            "text/plain": [
              "<Figure size 720x144 with 1 Axes>"
            ]
          },
          "metadata": {
            "tags": [],
            "needs_background": "light"
          }
        }
      ]
    },
    {
      "cell_type": "markdown",
      "metadata": {
        "id": "En9SpLxttSt1"
      },
      "source": [
        "```{margin}\n",
        "`gcf`\n",
        "```"
      ]
    },
    {
      "cell_type": "markdown",
      "metadata": {
        "school_cell_uuid": "2cbe417668a64fed8f2c034959b77af6",
        "id": "IgP_0GPGtSt2"
      },
      "source": [
        "현재 사용하고 있는 Figure 객체를 얻으려면(다른 변수에 할당할 수도 있다.) `gcf` 명령을 사용한다."
      ]
    },
    {
      "cell_type": "code",
      "metadata": {
        "school_cell_uuid": "019f13ad3df246028dd898c621bb5780",
        "id": "p-_UYFwVtSt2",
        "colab": {
          "base_uri": "https://localhost:8080/",
          "height": 700
        },
        "outputId": "12f669bb-dc54-4ad7-97f7-70d5f9955a55"
      },
      "source": [
        "f1 = plt.figure(1)\n",
        "plt.title(\"현재의 Figure 객체\")\n",
        "plt.plot([1, 2, 3, 4], 'ro:')\n",
        "\n",
        "f2 = plt.gcf()\n",
        "print(f1, id(f1))\n",
        "print(f2, id(f2))\n",
        "plt.show()"
      ],
      "execution_count": 32,
      "outputs": [
        {
          "output_type": "stream",
          "text": [
            "Figure(432x288) 140426720205968\n",
            "Figure(432x288) 140426720205968\n"
          ],
          "name": "stdout"
        },
        {
          "output_type": "stream",
          "text": [
            "/usr/local/lib/python3.7/dist-packages/matplotlib/backends/backend_agg.py:214: RuntimeWarning: Glyph 54788 missing from current font.\n",
            "  font.set_text(s, 0.0, flags=flags)\n",
            "/usr/local/lib/python3.7/dist-packages/matplotlib/backends/backend_agg.py:214: RuntimeWarning: Glyph 51116 missing from current font.\n",
            "  font.set_text(s, 0.0, flags=flags)\n",
            "/usr/local/lib/python3.7/dist-packages/matplotlib/backends/backend_agg.py:214: RuntimeWarning: Glyph 51032 missing from current font.\n",
            "  font.set_text(s, 0.0, flags=flags)\n",
            "/usr/local/lib/python3.7/dist-packages/matplotlib/backends/backend_agg.py:214: RuntimeWarning: Glyph 44061 missing from current font.\n",
            "  font.set_text(s, 0.0, flags=flags)\n",
            "/usr/local/lib/python3.7/dist-packages/matplotlib/backends/backend_agg.py:214: RuntimeWarning: Glyph 52404 missing from current font.\n",
            "  font.set_text(s, 0.0, flags=flags)\n",
            "/usr/local/lib/python3.7/dist-packages/matplotlib/backends/backend_agg.py:183: RuntimeWarning: Glyph 54788 missing from current font.\n",
            "  font.set_text(s, 0, flags=flags)\n",
            "/usr/local/lib/python3.7/dist-packages/matplotlib/backends/backend_agg.py:183: RuntimeWarning: Glyph 51116 missing from current font.\n",
            "  font.set_text(s, 0, flags=flags)\n",
            "/usr/local/lib/python3.7/dist-packages/matplotlib/backends/backend_agg.py:183: RuntimeWarning: Glyph 51032 missing from current font.\n",
            "  font.set_text(s, 0, flags=flags)\n",
            "/usr/local/lib/python3.7/dist-packages/matplotlib/backends/backend_agg.py:183: RuntimeWarning: Glyph 44061 missing from current font.\n",
            "  font.set_text(s, 0, flags=flags)\n",
            "/usr/local/lib/python3.7/dist-packages/matplotlib/backends/backend_agg.py:183: RuntimeWarning: Glyph 52404 missing from current font.\n",
            "  font.set_text(s, 0, flags=flags)\n"
          ],
          "name": "stderr"
        },
        {
          "output_type": "display_data",
          "data": {
            "image/png": "[encoded data removed]",
            "text/plain": [
              "<Figure size 432x288 with 1 Axes>"
            ]
          },
          "metadata": {
            "tags": [],
            "needs_background": "light"
          }
        }
      ]
    },
    {
      "cell_type": "markdown",
      "metadata": {
        "school_cell_uuid": "c5b3b36373ee4bfcb40078a4a7bf8d82",
        "id": "m2kMZ7iFtSt3"
      },
      "source": [
        "### Axes 객체와 `subplot` 명령"
      ]
    },
    {
      "cell_type": "markdown",
      "metadata": {
        "school_cell_uuid": "f64845a1ed534ddca75633b9166f323f",
        "id": "p5sF0ewTtSt3"
      },
      "source": [
        "때로는 다음과 같이 하나의 윈도우(Figure)안에 여러개의 플롯을 배열 형태로 보여야하는 경우도 있다. Figure 안에 있는 각각의 플롯은 Axes 라고 불리는 객체에 속한다. Axes 객체에 대한 자세한 설명은 다음 웹사이트를 참조한다.\n",
        "\n",
        "* http://matplotlib.org/api/axes_api.html#matplotlib.axes.Axes"
      ]
    },
    {
      "cell_type": "markdown",
      "metadata": {
        "id": "DiMFffNptSt4"
      },
      "source": [
        "```{margin}\n",
        "`subplot`\n",
        "```"
      ]
    },
    {
      "cell_type": "markdown",
      "metadata": {
        "school_cell_uuid": "4d48701356504db6b62489f7dafe0ccd",
        "id": "f9rWjGoytSt4"
      },
      "source": [
        "Figure 안에 Axes를 생성하려면 원래 `subplot` 명령을 사용하여 명시적으로 Axes 객체를 얻어야 한다. 그러나 plot 명령을 바로 사용해도 자동으로 Axes를 생성해 준다.\n",
        "\n",
        "`subplot` 명령은 그리드(grid) 형태의 Axes 객체들을 생성하는데 Figure가 행렬(matrix)이고 Axes가 행렬의 원소라고 생각하면 된다. 예를 들어 \n",
        "위와 아래 두 개의 플롯이 있는 경우 행이 2 이고 열이 1인 2x1 행렬이다.  `subplot` 명령은 세개의 인수를 가지는데 처음 두개의 원소가 전체 그리드 행렬의 모양을 지시하는 두 숫자이고 세번째 인수가 네 개 중 어느것인지를 의미하는 숫자이다. 따라서 위/아래 두개의 플롯을 하나의 Figure 안에 그리려면 다음처럼 명령을 실행해야 한다. 여기에서 숫자 인덱싱은 파이썬이 아닌 Matlab 관행을 따르기 때문에 첫번째 플롯을 가리키는 숫자가 0이 아니라 1임에 주의하라.\n",
        "\n",
        "\n",
        "```\n",
        "subplot(2, 1, 1)\n",
        "# 여기에서 윗부분에 그릴 플롯 명령 실행\n",
        "subplot(2, 1, 2)\n",
        "# 여기에서 아랫부분에 그릴 플롯 명령 실행\n",
        "```\n"
      ]
    },
    {
      "cell_type": "markdown",
      "metadata": {
        "id": "04SAMdtOtSt5"
      },
      "source": [
        "```{margin}\n",
        "`tight_layout`\n",
        "```"
      ]
    },
    {
      "cell_type": "markdown",
      "metadata": {
        "id": "BT_s6A0OtSt5"
      },
      "source": [
        "`tight_layout` 명령을 실행하면 플롯간의 간격을 자동으로 맞춰준다."
      ]
    },
    {
      "cell_type": "code",
      "metadata": {
        "school_cell_uuid": "d5b847a8734d49a987fb34b613bf6fcc",
        "id": "2aNmK-X8tSt5",
        "colab": {
          "base_uri": "https://localhost:8080/",
          "height": 297
        },
        "outputId": "78b7f813-24c8-4921-d8a3-9b312b591109"
      },
      "source": [
        "x1 = np.linspace(0.0, 5.0)\n",
        "x2 = np.linspace(0.0, 2.0)\n",
        "y1 = np.cos(2 * np.pi * x1) * np.exp(-x1)\n",
        "y2 = np.cos(2 * np.pi * x2)\n",
        "\n",
        "ax1 = plt.subplot(2, 1, 1)\n",
        "plt.plot(x1, y1, 'yo-')\n",
        "plt.title('A tale of 2 subplots')\n",
        "plt.ylabel('Damped oscillation')\n",
        "\n",
        "ax2 = plt.subplot(2, 1, 2)\n",
        "plt.plot(x2, y2, 'r.-')\n",
        "plt.xlabel('time (s)')\n",
        "plt.ylabel('Undamped')\n",
        "\n",
        "plt.tight_layout()\n",
        "plt.show()"
      ],
      "execution_count": 33,
      "outputs": [
        {
          "output_type": "display_data",
          "data": {
            "image/png": "[encoded data removed]",
            "text/plain": [
              "<Figure size 432x288 with 2 Axes>"
            ]
          },
          "metadata": {
            "tags": [],
            "needs_background": "light"
          }
        }
      ]
    },
    {
      "cell_type": "markdown",
      "metadata": {
        "school_cell_uuid": "b57f3cd7cc534e359ae84a690bc3aa59",
        "id": "V0IiPx3wtSt6"
      },
      "source": [
        "만약 2x2 형태의 네 개의 플롯이라면 다음과 같이 그린다. 이 때 `subplot` 의 인수는 (2,2,1)를 줄여서 221 라는 하나의 숫자로 표시할 수도 있다.\n",
        "Axes의 위치는 위에서 부터 아래로, 왼쪽에서 오른쪽으로 카운트한다."
      ]
    },
    {
      "cell_type": "code",
      "metadata": {
        "school_cell_uuid": "7a79f1c8c0894ec093b60bbdaf7f101d",
        "id": "Qy-w7P2XtSt7",
        "colab": {
          "base_uri": "https://localhost:8080/",
          "height": 297
        },
        "outputId": "4d283bdb-d70c-41b6-e9a9-4c467449a8fe"
      },
      "source": [
        "np.random.seed(0)\n",
        "\n",
        "plt.subplot(221)\n",
        "plt.plot(np.random.rand(5))\n",
        "plt.title(\"axes 1\")\n",
        "\n",
        "plt.subplot(222)\n",
        "plt.plot(np.random.rand(5))\n",
        "plt.title(\"axes 2\")\n",
        "\n",
        "plt.subplot(223)\n",
        "plt.plot(np.random.rand(5))\n",
        "plt.title(\"axes 3\")\n",
        "\n",
        "plt.subplot(224)\n",
        "plt.plot(np.random.rand(5))\n",
        "plt.title(\"axes 4\")\n",
        "\n",
        "plt.tight_layout()\n",
        "plt.show()"
      ],
      "execution_count": 34,
      "outputs": [
        {
          "output_type": "display_data",
          "data": {
            "image/png": "[encoded data removed]",
            "text/plain": [
              "<Figure size 432x288 with 4 Axes>"
            ]
          },
          "metadata": {
            "tags": [],
            "needs_background": "light"
          }
        }
      ]
    },
    {
      "cell_type": "markdown",
      "metadata": {
        "id": "dIE1obzOtSt7"
      },
      "source": [
        "```{margin}\n",
        "`subplots`\n",
        "```"
      ]
    },
    {
      "cell_type": "markdown",
      "metadata": {
        "school_cell_uuid": "bb451e9fc3a04be298ea8385877c1b74",
        "id": "xh1Yf8JQtSt8"
      },
      "source": [
        "`subplots` 명령으로 복수의 Axes 객체를 동시에 생성할 수도 있다. 이때는 2차원 ndarray 형태로 Axes 객체가 반환된다."
      ]
    },
    {
      "cell_type": "code",
      "metadata": {
        "school_cell_uuid": "6924118a64b84d1d80f260cdc93b7cb7",
        "id": "oBykFVkKtSt8",
        "colab": {
          "base_uri": "https://localhost:8080/",
          "height": 297
        },
        "outputId": "d0c1b923-c159-4060-a185-dbebed0eb2e8"
      },
      "source": [
        "fig, axes = plt.subplots(2, 2)\n",
        "\n",
        "np.random.seed(0)\n",
        "axes[0, 0].plot(np.random.rand(5))\n",
        "axes[0, 0].set_title(\"axes 1\")\n",
        "axes[0, 1].plot(np.random.rand(5))\n",
        "axes[0, 1].set_title(\"axes 2\")\n",
        "axes[1, 0].plot(np.random.rand(5))\n",
        "axes[1, 0].set_title(\"axes 3\")\n",
        "axes[1, 1].plot(np.random.rand(5))\n",
        "axes[1, 1].set_title(\"axes 4\")\n",
        "\n",
        "plt.tight_layout()\n",
        "plt.show()"
      ],
      "execution_count": 35,
      "outputs": [
        {
          "output_type": "display_data",
          "data": {
            "image/png": "[encoded data removed]",
            "text/plain": [
              "<Figure size 432x288 with 4 Axes>"
            ]
          },
          "metadata": {
            "tags": [],
            "needs_background": "light"
          }
        }
      ]
    },
    {
      "cell_type": "markdown",
      "metadata": {
        "bootstrap": {
          "panel": {
            "class": "panel-default"
          }
        },
        "school_cell_uuid": "1a2c7215e0424216b80533ee85cfb8b8",
        "id": "MXqPYw1rtSt9"
      },
      "source": [
        "**<스스로> 연습문제**\n",
        "````{admonition} 연습 문제 5.1.2\n",
        "\n",
        "여러가지 함수를 사용하여 위와 같이 subplot들로 구성된 그림을 그려보자. 모든 subplot에 대해 xlabel, ylabel, title이 있어야 한다.\n",
        "````"
      ]
    },
    {
      "cell_type": "code",
      "metadata": {
        "id": "e_jzUW5lYOyX",
        "outputId": "5d43d4fb-0cb1-4bc4-f17d-ff88f751ad9a",
        "colab": {
          "base_uri": "https://localhost:8080/",
          "height": 295
        }
      },
      "source": [
        "x = np.linspace(1,10)\r\n",
        "y1 = np.sin(x)\r\n",
        "y2 = np.cos(x)\r\n",
        "y3 = np.tan(x)\r\n",
        "\r\n",
        "fig = plt.figure()\r\n",
        "plt.subplot(3,1,1)\r\n",
        "plt.plot(x,y1,color='red',label='sin')\r\n",
        "plt.xlabel('x')\r\n",
        "plt.ylabel('y')\r\n",
        "plt.title('title')\r\n",
        "plt.legend()\r\n",
        "\r\n",
        "plt.subplot(3,1,2)\r\n",
        "plt.plot(x,y2,color='blue',label='cos')\r\n",
        "plt.xlabel('x')\r\n",
        "plt.ylabel('y')\r\n",
        "plt.title('title')\r\n",
        "plt.legend()\r\n",
        "\r\n",
        "plt.subplot(3,1,3)\r\n",
        "plt.plot(x,y3,color='green',label='tan')\r\n",
        "plt.xlabel('x')\r\n",
        "plt.ylabel('y')\r\n",
        "plt.title('title')\r\n",
        "plt.legend()\r\n",
        "\r\n",
        "plt.show()\r\n"
      ],
      "execution_count": 37,
      "outputs": [
        {
          "output_type": "display_data",
          "data": {
            "image/png": "[encoded data removed]",
            "text/plain": [
              "<Figure size 432x288 with 3 Axes>"
            ]
          },
          "metadata": {
            "tags": [],
            "needs_background": "light"
          }
        }
      ]
    },
    {
      "cell_type": "markdown",
      "metadata": {
        "school_cell_uuid": "53ad3d5e9a15404fbfd40fa263f41455",
        "id": "Te25Ju3ZtSt9"
      },
      "source": [
        "### Axis 객체와 축"
      ]
    },
    {
      "cell_type": "markdown",
      "metadata": {
        "school_cell_uuid": "3e7bae809b2c45ea963341f9b6c34163",
        "id": "Xx4JEXSRtSt9"
      },
      "source": [
        "하나의 Axes 객체는 두 개 이상의 Axis 객체를 가진다. Axis 객체는 플롯의 가로축이나 세로축을 나타내는 객체이다. 보다 자세한 내용은 다음 웹사이트를 참조한다.\n",
        "\n",
        "* https://matplotlib.org/api/axis_api.html"
      ]
    },
    {
      "cell_type": "markdown",
      "metadata": {
        "id": "D2cfK8l-tSt-"
      },
      "source": [
        "```{margin}\n",
        "`twinx`\n",
        "```"
      ]
    },
    {
      "cell_type": "markdown",
      "metadata": {
        "school_cell_uuid": "7ef4525270374e6d9cf2f7e27ee58fb3",
        "id": "-OjdML1ytSt-"
      },
      "source": [
        "여러가지 플롯을 하나의 Axes 객체에 표시할 때 y값의 크기가 달라서 표시하기 힘든 경우가 있다. 이 때는 다음처럼 `twinx` 명령으로 대해 복수의 y 축을 가진 플롯을 만들수도 있다. `twinx` 명령은 x 축을 공유하는 새로운 Axes 객체를 만든다."
      ]
    },
    {
      "cell_type": "code",
      "metadata": {
        "school_cell_uuid": "2f6b9bc05e7b4e0ea8e7d3ff213523ae",
        "id": "xOyIjA3AtSt_",
        "colab": {
          "base_uri": "https://localhost:8080/",
          "height": 1000
        },
        "outputId": "15f65d2e-81d5-4ea3-b9c6-d3b0f53fa070"
      },
      "source": [
        "fig, ax0 = plt.subplots()\n",
        "ax1 = ax0.twinx()\n",
        "ax0.set_title(\"2개의 y축 한 figure에서 사용하기\")\n",
        "ax0.plot([10, 5, 2, 9, 7], 'r-', label=\"y0\")\n",
        "ax0.set_ylabel(\"y0\")\n",
        "ax0.grid(False)\n",
        "ax1.plot([100, 200, 220, 180, 120], 'g:', label=\"y1\")\n",
        "ax1.set_ylabel(\"y1\")\n",
        "ax1.grid(False)\n",
        "ax0.set_xlabel(\"공유되는 x축\")\n",
        "plt.show()"
      ],
      "execution_count": 36,
      "outputs": [
        {
          "output_type": "stream",
          "text": [
            "/usr/local/lib/python3.7/dist-packages/matplotlib/backends/backend_agg.py:214: RuntimeWarning: Glyph 44060 missing from current font.\n",
            "  font.set_text(s, 0.0, flags=flags)\n",
            "/usr/local/lib/python3.7/dist-packages/matplotlib/backends/backend_agg.py:214: RuntimeWarning: Glyph 51032 missing from current font.\n",
            "  font.set_text(s, 0.0, flags=flags)\n",
            "/usr/local/lib/python3.7/dist-packages/matplotlib/backends/backend_agg.py:214: RuntimeWarning: Glyph 52629 missing from current font.\n",
            "  font.set_text(s, 0.0, flags=flags)\n",
            "/usr/local/lib/python3.7/dist-packages/matplotlib/backends/backend_agg.py:214: RuntimeWarning: Glyph 54620 missing from current font.\n",
            "  font.set_text(s, 0.0, flags=flags)\n",
            "/usr/local/lib/python3.7/dist-packages/matplotlib/backends/backend_agg.py:214: RuntimeWarning: Glyph 50640 missing from current font.\n",
            "  font.set_text(s, 0.0, flags=flags)\n",
            "/usr/local/lib/python3.7/dist-packages/matplotlib/backends/backend_agg.py:214: RuntimeWarning: Glyph 49436 missing from current font.\n",
            "  font.set_text(s, 0.0, flags=flags)\n",
            "/usr/local/lib/python3.7/dist-packages/matplotlib/backends/backend_agg.py:214: RuntimeWarning: Glyph 49324 missing from current font.\n",
            "  font.set_text(s, 0.0, flags=flags)\n",
            "/usr/local/lib/python3.7/dist-packages/matplotlib/backends/backend_agg.py:214: RuntimeWarning: Glyph 50857 missing from current font.\n",
            "  font.set_text(s, 0.0, flags=flags)\n",
            "/usr/local/lib/python3.7/dist-packages/matplotlib/backends/backend_agg.py:214: RuntimeWarning: Glyph 54616 missing from current font.\n",
            "  font.set_text(s, 0.0, flags=flags)\n",
            "/usr/local/lib/python3.7/dist-packages/matplotlib/backends/backend_agg.py:214: RuntimeWarning: Glyph 44592 missing from current font.\n",
            "  font.set_text(s, 0.0, flags=flags)\n",
            "/usr/local/lib/python3.7/dist-packages/matplotlib/backends/backend_agg.py:214: RuntimeWarning: Glyph 44277 missing from current font.\n",
            "  font.set_text(s, 0.0, flags=flags)\n",
            "/usr/local/lib/python3.7/dist-packages/matplotlib/backends/backend_agg.py:214: RuntimeWarning: Glyph 50976 missing from current font.\n",
            "  font.set_text(s, 0.0, flags=flags)\n",
            "/usr/local/lib/python3.7/dist-packages/matplotlib/backends/backend_agg.py:214: RuntimeWarning: Glyph 46104 missing from current font.\n",
            "  font.set_text(s, 0.0, flags=flags)\n",
            "/usr/local/lib/python3.7/dist-packages/matplotlib/backends/backend_agg.py:214: RuntimeWarning: Glyph 45716 missing from current font.\n",
            "  font.set_text(s, 0.0, flags=flags)\n",
            "/usr/local/lib/python3.7/dist-packages/matplotlib/backends/backend_agg.py:183: RuntimeWarning: Glyph 44277 missing from current font.\n",
            "  font.set_text(s, 0, flags=flags)\n",
            "/usr/local/lib/python3.7/dist-packages/matplotlib/backends/backend_agg.py:183: RuntimeWarning: Glyph 50976 missing from current font.\n",
            "  font.set_text(s, 0, flags=flags)\n",
            "/usr/local/lib/python3.7/dist-packages/matplotlib/backends/backend_agg.py:183: RuntimeWarning: Glyph 46104 missing from current font.\n",
            "  font.set_text(s, 0, flags=flags)\n",
            "/usr/local/lib/python3.7/dist-packages/matplotlib/backends/backend_agg.py:183: RuntimeWarning: Glyph 45716 missing from current font.\n",
            "  font.set_text(s, 0, flags=flags)\n",
            "/usr/local/lib/python3.7/dist-packages/matplotlib/backends/backend_agg.py:183: RuntimeWarning: Glyph 52629 missing from current font.\n",
            "  font.set_text(s, 0, flags=flags)\n",
            "/usr/local/lib/python3.7/dist-packages/matplotlib/backends/backend_agg.py:183: RuntimeWarning: Glyph 44060 missing from current font.\n",
            "  font.set_text(s, 0, flags=flags)\n",
            "/usr/local/lib/python3.7/dist-packages/matplotlib/backends/backend_agg.py:183: RuntimeWarning: Glyph 51032 missing from current font.\n",
            "  font.set_text(s, 0, flags=flags)\n",
            "/usr/local/lib/python3.7/dist-packages/matplotlib/backends/backend_agg.py:183: RuntimeWarning: Glyph 54620 missing from current font.\n",
            "  font.set_text(s, 0, flags=flags)\n",
            "/usr/local/lib/python3.7/dist-packages/matplotlib/backends/backend_agg.py:183: RuntimeWarning: Glyph 50640 missing from current font.\n",
            "  font.set_text(s, 0, flags=flags)\n",
            "/usr/local/lib/python3.7/dist-packages/matplotlib/backends/backend_agg.py:183: RuntimeWarning: Glyph 49436 missing from current font.\n",
            "  font.set_text(s, 0, flags=flags)\n",
            "/usr/local/lib/python3.7/dist-packages/matplotlib/backends/backend_agg.py:183: RuntimeWarning: Glyph 49324 missing from current font.\n",
            "  font.set_text(s, 0, flags=flags)\n",
            "/usr/local/lib/python3.7/dist-packages/matplotlib/backends/backend_agg.py:183: RuntimeWarning: Glyph 50857 missing from current font.\n",
            "  font.set_text(s, 0, flags=flags)\n",
            "/usr/local/lib/python3.7/dist-packages/matplotlib/backends/backend_agg.py:183: RuntimeWarning: Glyph 54616 missing from current font.\n",
            "  font.set_text(s, 0, flags=flags)\n",
            "/usr/local/lib/python3.7/dist-packages/matplotlib/backends/backend_agg.py:183: RuntimeWarning: Glyph 44592 missing from current font.\n",
            "  font.set_text(s, 0, flags=flags)\n"
          ],
          "name": "stderr"
        },
        {
          "output_type": "display_data",
          "data": {
            "image/png": "[encoded data removed]",
            "text/plain": [
              "<Figure size 432x288 with 2 Axes>"
            ]
          },
          "metadata": {
            "tags": [],
            "needs_background": "light"
          }
        }
      ]
    }
  ]
}